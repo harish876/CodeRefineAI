{
 "cells": [
  {
   "cell_type": "code",
   "execution_count": 5,
   "metadata": {},
   "outputs": [
    {
     "name": "stdout",
     "output_type": "stream",
     "text": [
      "Collecting transformers\n",
      "  Using cached transformers-4.49.0-py3-none-any.whl.metadata (44 kB)\n",
      "Collecting accelerate\n",
      "  Downloading accelerate-1.4.0-py3-none-any.whl.metadata (19 kB)\n",
      "\u001b[31mERROR: Could not find a version that satisfies the requirement torch (from versions: none)\u001b[0m\u001b[31m\n",
      "\u001b[0m\u001b[31mERROR: No matching distribution found for torch\u001b[0m\u001b[31m\n",
      "\u001b[0m"
     ]
    }
   ],
   "source": [
    "!pip install transformers accelerate torch\n"
   ]
  },
  {
   "cell_type": "code",
   "execution_count": 6,
   "metadata": {},
   "outputs": [
    {
     "name": "stdout",
     "output_type": "stream",
     "text": [
      "Requirement already satisfied: huggingface_hub in /Library/Frameworks/Python.framework/Versions/3.13/lib/python3.13/site-packages (0.29.2)\n",
      "Requirement already satisfied: filelock in /Library/Frameworks/Python.framework/Versions/3.13/lib/python3.13/site-packages (from huggingface_hub) (3.17.0)\n",
      "Requirement already satisfied: fsspec>=2023.5.0 in /Library/Frameworks/Python.framework/Versions/3.13/lib/python3.13/site-packages (from huggingface_hub) (2025.2.0)\n",
      "Requirement already satisfied: packaging>=20.9 in /Users/bisman/Library/Python/3.13/lib/python/site-packages (from huggingface_hub) (24.2)\n",
      "Requirement already satisfied: pyyaml>=5.1 in /Library/Frameworks/Python.framework/Versions/3.13/lib/python3.13/site-packages (from huggingface_hub) (6.0.2)\n",
      "Requirement already satisfied: requests in /Library/Frameworks/Python.framework/Versions/3.13/lib/python3.13/site-packages (from huggingface_hub) (2.32.3)\n",
      "Requirement already satisfied: tqdm>=4.42.1 in /Library/Frameworks/Python.framework/Versions/3.13/lib/python3.13/site-packages (from huggingface_hub) (4.67.1)\n",
      "Requirement already satisfied: typing-extensions>=3.7.4.3 in /Library/Frameworks/Python.framework/Versions/3.13/lib/python3.13/site-packages (from huggingface_hub) (4.12.2)\n",
      "Requirement already satisfied: charset-normalizer<4,>=2 in /Library/Frameworks/Python.framework/Versions/3.13/lib/python3.13/site-packages (from requests->huggingface_hub) (3.4.1)\n",
      "Requirement already satisfied: idna<4,>=2.5 in /Library/Frameworks/Python.framework/Versions/3.13/lib/python3.13/site-packages (from requests->huggingface_hub) (3.10)\n",
      "Requirement already satisfied: urllib3<3,>=1.21.1 in /Library/Frameworks/Python.framework/Versions/3.13/lib/python3.13/site-packages (from requests->huggingface_hub) (2.3.0)\n",
      "Requirement already satisfied: certifi>=2017.4.17 in /Library/Frameworks/Python.framework/Versions/3.13/lib/python3.13/site-packages (from requests->huggingface_hub) (2025.1.31)\n",
      "Note: you may need to restart the kernel to use updated packages.\n"
     ]
    }
   ],
   "source": [
    "pip install huggingface_hub\n"
   ]
  },
  {
   "cell_type": "code",
   "execution_count": 8,
   "metadata": {},
   "outputs": [
    {
     "ename": "ModuleNotFoundError",
     "evalue": "No module named 'torch'",
     "output_type": "error",
     "traceback": [
      "\u001b[0;31m---------------------------------------------------------------------------\u001b[0m",
      "\u001b[0;31mModuleNotFoundError\u001b[0m                       Traceback (most recent call last)",
      "Cell \u001b[0;32mIn[8], line 3\u001b[0m\n\u001b[1;32m      1\u001b[0m \u001b[38;5;28;01mimport\u001b[39;00m\u001b[38;5;250m \u001b[39m\u001b[38;5;21;01mjson\u001b[39;00m\n\u001b[1;32m      2\u001b[0m \u001b[38;5;28;01mimport\u001b[39;00m\u001b[38;5;250m \u001b[39m\u001b[38;5;21;01mtime\u001b[39;00m\n\u001b[0;32m----> 3\u001b[0m \u001b[38;5;28;01mimport\u001b[39;00m\u001b[38;5;250m \u001b[39m\u001b[38;5;21;01mtorch\u001b[39;00m\n\u001b[1;32m      4\u001b[0m \u001b[38;5;28;01mfrom\u001b[39;00m\u001b[38;5;250m \u001b[39m\u001b[38;5;21;01mtransformers\u001b[39;00m\u001b[38;5;250m \u001b[39m\u001b[38;5;28;01mimport\u001b[39;00m AutoModelForCausalLM, AutoTokenizer\n\u001b[1;32m      6\u001b[0m \u001b[38;5;66;03m# Load JSON files\u001b[39;00m\n",
      "\u001b[0;31mModuleNotFoundError\u001b[0m: No module named 'torch'"
     ]
    }
   ],
   "source": [
    "import json\n",
    "import time\n",
    "import torch\n",
    "from transformers import AutoModelForCausalLM, AutoTokenizer\n",
    "\n",
    "# Load JSON files\n",
    "with open(\"/Users/bisman/Documents/ECS 260/Project github/CodeRefineAI/llm/RQ2/Inefficient_reasoning.json\", \"r\") as f:\n",
    "    reasoning_data = json.load(f)\n",
    "\n",
    "with open(\"/Users/bisman/Documents/ECS 260/Project github/CodeRefineAI/dataset/balanced_samples.json\", \"r\") as f:\n",
    "    codes_data = json.load(f)\n",
    "\n",
    "# Convert reasoning_data into a dictionary for easy lookup\n",
    "reasoning_dict = {item[\"question_id\"]: item for item in reasoning_data}\n",
    "\n",
    "# Load Llama-3.2-1B model and tokenizer\n",
    "MODEL_NAME = \"meta-llama/Llama-3.2-1B\"\n",
    "\n",
    "device = \"cuda\" if torch.cuda.is_available() else \"cpu\"\n",
    "tokenizer = AutoTokenizer.from_pretrained(MODEL_NAME)\n",
    "model = AutoModelForCausalLM.from_pretrained(MODEL_NAME).to(device)\n",
    "\n",
    "# Function to process and generate optimized code\n",
    "def get_optimized_code():\n",
    "    optimized_solutions = []\n",
    "    api_calls = 0  # Track API call count\n",
    "\n",
    "    for index, code_entry in enumerate(codes_data, start=1):\n",
    "        qid = code_entry[\"question_id\"]\n",
    "\n",
    "        # Check if question_id exists in reasoning_dict\n",
    "        if qid not in reasoning_dict:\n",
    "            print(f\"Skipping question_id {qid} (not found in reasoning data)\")\n",
    "            continue\n",
    "\n",
    "        # Ensure \"reason\" key exists\n",
    "        if \"reason\" not in reasoning_dict[qid]:\n",
    "            print(f\"Skipping question_id {qid} (missing 'reason' key)\")\n",
    "            continue\n",
    "\n",
    "        # Ensure \"runtime_inefficient_codes\" exists and is not empty\n",
    "        if \"runtime_inefficient_codes\" not in code_entry or not code_entry[\"runtime_inefficient_codes\"]:\n",
    "            print(f\"Skipping question_id {qid} (missing or empty 'runtime_inefficient_codes')\")\n",
    "            continue\n",
    "\n",
    "        # Get reasoning and first inefficient code\n",
    "        reasoning = reasoning_dict[qid][\"reason\"]\n",
    "        inefficient_code = code_entry[\"runtime_inefficient_codes\"][0][\"code\"]\n",
    "\n",
    "        # Create prompt\n",
    "        prompt = f\"\"\"\n",
    "        The following Python code seems to be inefficient:\n",
    "        \n",
    "        ```python\n",
    "        {inefficient_code}\n",
    "        ```\n",
    "        \n",
    "        Reason for inefficiency:\n",
    "        {reasoning}\n",
    "        \n",
    "        Please rewrite the code based on the provided reason, and only return the corrected code, no explanation. \n",
    "        Use Python 3.8 syntax, and ensure the entire solution is enclosed in a `class Solution`, \n",
    "        maintaining the same function name as in the input code.\n",
    "        \"\"\"\n",
    "\n",
    "        try:\n",
    "            # Tokenize and generate response\n",
    "            inputs = tokenizer(prompt, return_tensors=\"pt\").to(device)\n",
    "            with torch.no_grad():\n",
    "                output = model.generate(**inputs, max_length=1000, do_sample=True, temperature=0.7, top_p=0.9)\n",
    "\n",
    "            # Decode response\n",
    "            generated_code = tokenizer.decode(output[0], skip_special_tokens=True)\n",
    "\n",
    "            if generated_code:\n",
    "                optimized_solutions.append({\n",
    "                    \"question_id\": qid,\n",
    "                    \"optimized_code\": generated_code.strip()\n",
    "                })\n",
    "                print(f\"✅ Successfully optimized question_id {qid} ({index}/{len(codes_data)})\")\n",
    "            else:\n",
    "                print(f\"⚠️ Warning: Empty response for question_id {qid}\")\n",
    "\n",
    "        except Exception as e:\n",
    "            print(f\"❌ Error processing question_id {qid}: {e}\")\n",
    "            continue  # Skip this question and proceed\n",
    "\n",
    "        # Increment API call counter\n",
    "        api_calls += 1\n",
    "\n",
    "        # Sleep after every 14 API calls to avoid rate limits\n",
    "        if api_calls % 14 == 0:\n",
    "            print(\"⏳ API limit reached. Sleeping for 60 seconds...\")\n",
    "            time.sleep(60)\n",
    "\n",
    "    return optimized_solutions\n",
    "\n",
    "# Run the function\n",
    "optimized_results = get_optimized_code()\n",
    "\n",
    "# Save the results\n",
    "with open(\"optimized_codes.json\", \"w\") as f:\n",
    "    json.dump(optimized_results, f, indent=4)\n",
    "\n",
    "print(\"🎉 Optimized code has been saved to optimized_codes.json\")\n"
   ]
  }
 ],
 "metadata": {
  "kernelspec": {
   "display_name": "Python 3",
   "language": "python",
   "name": "python3"
  },
  "language_info": {
   "codemirror_mode": {
    "name": "ipython",
    "version": 3
   },
   "file_extension": ".py",
   "mimetype": "text/x-python",
   "name": "python",
   "nbconvert_exporter": "python",
   "pygments_lexer": "ipython3",
   "version": "3.13.2"
  }
 },
 "nbformat": 4,
 "nbformat_minor": 2
}
