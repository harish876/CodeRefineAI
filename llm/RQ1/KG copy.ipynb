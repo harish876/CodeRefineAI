import networkx as nx

# Create a directed graph
G = nx.DiGraph()

# Example Data (partial from your input)
data = [
    {
        "inefficiencies": [
            "Nested Loops",
            "Unnecessary Iteration",
            "Incorrect Logic"
        ],
        "reasoning": "The code uses nested loops to find two numbers that sum up to the target. This results in O(n^2) time complexity, which is inefficient for large input lists.",
        "sentiment": "Frustration",
        "confidence_level": "Highly Confident",
        "question_id": 1
    },
    # Add other question data here
]

# Add nodes and edges to the graph
for entry in data:
    question_id = entry["question_id"]
    inefficiencies = entry["inefficiencies"]
    reasoning = entry["reasoning"]
    sentiment = entry["sentiment"]
    confidence = entry["confidence_level"]

    # Add Question_ID as a node
    G.add_node(question_id, type="Question_ID")
    
    # Link Question_ID to Inefficiencies, Sentiment, Confidence
    for inefficiency in inefficiencies:
        G.add_node(inefficiency, type="Inefficiency")
        G.add_edge(question_id, inefficiency)
    
    G.add_node(sentiment, type="Sentiment")
    G.add_edge(question_id, sentiment)
    
    G.add_node(confidence, type="Confidence Level")
    G.add_edge(question_id, confidence)
    
    # Link Inefficiencies to Reasoning
    for inefficiency in inefficiencies:
        G.add_edge(inefficiency, reasoning)

# Now you can analyze or visualize the graph
print(f"Nodes: {G.nodes}")
print(f"Edges: {G.edges}")

# You can draw the graph if you'd like
import matplotlib.pyplot as plt
nx.draw(G, with_labels=True, node_size=3000, node_color="skyblue", font_size=10)
plt.show()
