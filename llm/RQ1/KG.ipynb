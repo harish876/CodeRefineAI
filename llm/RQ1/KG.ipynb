{
 "cells": [
  {
   "cell_type": "markdown",
   "metadata": {},
   "source": [
    "The final library and code used is after experimentation"
   ]
  },
  {
   "cell_type": "markdown",
   "metadata": {},
   "source": [
    "Experimenting different approaches :"
   ]
  },
  {
   "cell_type": "code",
   "execution_count": 2,
   "metadata": {},
   "outputs": [
    {
     "name": "stdout",
     "output_type": "stream",
     "text": [
      "Collecting networkx\n",
      "  Downloading networkx-3.4.2-py3-none-any.whl.metadata (6.3 kB)\n",
      "Collecting matplotlib\n",
      "  Downloading matplotlib-3.10.0-cp313-cp313-macosx_10_13_x86_64.whl.metadata (11 kB)\n",
      "Collecting contourpy>=1.0.1 (from matplotlib)\n",
      "  Downloading contourpy-1.3.1-cp313-cp313-macosx_10_13_x86_64.whl.metadata (5.4 kB)\n",
      "Collecting cycler>=0.10 (from matplotlib)\n",
      "  Downloading cycler-0.12.1-py3-none-any.whl.metadata (3.8 kB)\n",
      "Collecting fonttools>=4.22.0 (from matplotlib)\n",
      "  Downloading fonttools-4.56.0-cp313-cp313-macosx_10_13_x86_64.whl.metadata (101 kB)\n",
      "Collecting kiwisolver>=1.3.1 (from matplotlib)\n",
      "  Downloading kiwisolver-1.4.8-cp313-cp313-macosx_10_13_x86_64.whl.metadata (6.2 kB)\n",
      "Requirement already satisfied: numpy>=1.23 in /Library/Frameworks/Python.framework/Versions/3.13/lib/python3.13/site-packages (from matplotlib) (2.2.3)\n",
      "Requirement already satisfied: packaging>=20.0 in /Users/bisman/Library/Python/3.13/lib/python/site-packages (from matplotlib) (24.2)\n",
      "Collecting pillow>=8 (from matplotlib)\n",
      "  Downloading pillow-11.1.0-cp313-cp313-macosx_10_13_x86_64.whl.metadata (9.1 kB)\n",
      "Collecting pyparsing>=2.3.1 (from matplotlib)\n",
      "  Downloading pyparsing-3.2.1-py3-none-any.whl.metadata (5.0 kB)\n",
      "Requirement already satisfied: python-dateutil>=2.7 in /Users/bisman/Library/Python/3.13/lib/python/site-packages (from matplotlib) (2.9.0.post0)\n",
      "Requirement already satisfied: six>=1.5 in /Users/bisman/Library/Python/3.13/lib/python/site-packages (from python-dateutil>=2.7->matplotlib) (1.17.0)\n",
      "Downloading networkx-3.4.2-py3-none-any.whl (1.7 MB)\n",
      "\u001b[2K   \u001b[90m━━━━━━━━━━━━━━━━━━━━━━━━━━━━━━━━━━━━━━━━\u001b[0m \u001b[32m1.7/1.7 MB\u001b[0m \u001b[31m1.5 MB/s\u001b[0m eta \u001b[36m0:00:00\u001b[0ma \u001b[36m0:00:01\u001b[0m\n",
      "\u001b[?25hDownloading matplotlib-3.10.0-cp313-cp313-macosx_10_13_x86_64.whl (8.2 MB)\n",
      "\u001b[2K   \u001b[90m━━━━━━━━━━━━━━━━━━━━━━━━━━━━━━━━━━━━━━━━\u001b[0m \u001b[32m8.2/8.2 MB\u001b[0m \u001b[31m2.9 MB/s\u001b[0m eta \u001b[36m0:00:00\u001b[0ma \u001b[36m0:00:01\u001b[0m\n",
      "\u001b[?25hDownloading contourpy-1.3.1-cp313-cp313-macosx_10_13_x86_64.whl (271 kB)\n",
      "Downloading cycler-0.12.1-py3-none-any.whl (8.3 kB)\n",
      "Downloading fonttools-4.56.0-cp313-cp313-macosx_10_13_x86_64.whl (2.3 MB)\n",
      "\u001b[2K   \u001b[90m━━━━━━━━━━━━━━━━━━━━━━━━━━━━━━━━━━━━━━━━\u001b[0m \u001b[32m2.3/2.3 MB\u001b[0m \u001b[31m4.3 MB/s\u001b[0m eta \u001b[36m0:00:00\u001b[0ma \u001b[36m0:00:01\u001b[0m\n",
      "\u001b[?25hDownloading kiwisolver-1.4.8-cp313-cp313-macosx_10_13_x86_64.whl (66 kB)\n",
      "Downloading pillow-11.1.0-cp313-cp313-macosx_10_13_x86_64.whl (3.2 MB)\n",
      "\u001b[2K   \u001b[90m━━━━━━━━━━━━━━━━━━━━━━━━━━━━━━━━━━━━━━━━\u001b[0m \u001b[32m3.2/3.2 MB\u001b[0m \u001b[31m4.6 MB/s\u001b[0m eta \u001b[36m0:00:00\u001b[0ma \u001b[36m0:00:01\u001b[0m\n",
      "\u001b[?25hDownloading pyparsing-3.2.1-py3-none-any.whl (107 kB)\n",
      "Installing collected packages: pyparsing, pillow, networkx, kiwisolver, fonttools, cycler, contourpy, matplotlib\n",
      "Successfully installed contourpy-1.3.1 cycler-0.12.1 fonttools-4.56.0 kiwisolver-1.4.8 matplotlib-3.10.0 networkx-3.4.2 pillow-11.1.0 pyparsing-3.2.1\n",
      "\n",
      "\u001b[1m[\u001b[0m\u001b[34;49mnotice\u001b[0m\u001b[1;39;49m]\u001b[0m\u001b[39;49m A new release of pip is available: \u001b[0m\u001b[31;49m24.3.1\u001b[0m\u001b[39;49m -> \u001b[0m\u001b[32;49m25.0.1\u001b[0m\n",
      "\u001b[1m[\u001b[0m\u001b[34;49mnotice\u001b[0m\u001b[1;39;49m]\u001b[0m\u001b[39;49m To update, run: \u001b[0m\u001b[32;49mpip3 install --upgrade pip\u001b[0m\n",
      "Note: you may need to restart the kernel to use updated packages.\n"
     ]
    }
   ],
   "source": [
    "pip install networkx matplotlib\n"
   ]
  },
  {
   "cell_type": "code",
   "execution_count": 3,
   "metadata": {},
   "outputs": [
    {
     "data": {
      "image/png": "[encoded data removed]",
      "text/plain": [
       "<Figure size 1000x800 with 1 Axes>"
      ]
     },
     "metadata": {},
     "output_type": "display_data"
    }
   ],
   "source": [
    "import networkx as nx\n",
    "import matplotlib.pyplot as plt\n",
    "\n",
    "# Create a graph\n",
    "G = nx.Graph()\n",
    "\n",
    "# Add nodes (questions and inefficiencies)\n",
    "G.add_node(1, label=\"Q1 - Inefficiencies\", confidence=\"Highly Confident\")\n",
    "G.add_node(2, label=\"Nested Loops\")\n",
    "G.add_node(3, label=\"Unnecessary Iteration\")\n",
    "G.add_node(4, label=\"Incorrect Logic\")\n",
    "G.add_node(5, label=\"Q2 - Inefficiencies\", confidence=\"Medium Confident\")\n",
    "G.add_node(6, label=\"Excessive Variable Usage\")\n",
    "G.add_node(7, label=\"Readability Issues\")\n",
    "\n",
    "# Add edges (relationships between questions and inefficiencies)\n",
    "G.add_edges_from([(1, 2), (1, 3), (1, 4), (5, 6), (5, 7)])\n",
    "\n",
    "# Set up the layout\n",
    "pos = nx.spring_layout(G, seed=42)  # positions for all nodes\n",
    "\n",
    "# Draw the graph\n",
    "plt.figure(figsize=(10, 8))\n",
    "nx.draw_networkx_nodes(G, pos, node_size=3000, node_color=\"skyblue\")\n",
    "nx.draw_networkx_labels(G, pos, font_size=12, font_weight=\"bold\")\n",
    "nx.draw_networkx_edges(G, pos, width=2, alpha=0.7, edge_color=\"gray\")\n",
    "\n",
    "# Show the plot\n",
    "plt.title(\"Interactive Knowledge Graph\")\n",
    "plt.axis(\"off\")  # Disable axis\n",
    "plt.show()\n"
   ]
  },
  {
   "cell_type": "code",
   "execution_count": 4,
   "metadata": {},
   "outputs": [
    {
     "name": "stdout",
     "output_type": "stream",
     "text": [
      "Collecting py2neo\n",
      "  Downloading py2neo-2021.2.4-py2.py3-none-any.whl.metadata (9.9 kB)\n",
      "Requirement already satisfied: certifi in /Library/Frameworks/Python.framework/Versions/3.13/lib/python3.13/site-packages (from py2neo) (2025.1.31)\n",
      "Collecting interchange~=2021.0.4 (from py2neo)\n",
      "  Downloading interchange-2021.0.4-py2.py3-none-any.whl.metadata (1.9 kB)\n",
      "Collecting monotonic (from py2neo)\n",
      "  Downloading monotonic-1.6-py2.py3-none-any.whl.metadata (1.5 kB)\n",
      "Requirement already satisfied: packaging in /Users/bisman/Library/Python/3.13/lib/python/site-packages (from py2neo) (24.2)\n",
      "Collecting pansi>=2020.7.3 (from py2neo)\n",
      "  Downloading pansi-2024.11.0-py2.py3-none-any.whl.metadata (3.1 kB)\n",
      "Requirement already satisfied: pygments>=2.0.0 in /Users/bisman/Library/Python/3.13/lib/python/site-packages (from py2neo) (2.19.1)\n",
      "Requirement already satisfied: six>=1.15.0 in /Users/bisman/Library/Python/3.13/lib/python/site-packages (from py2neo) (1.17.0)\n",
      "Requirement already satisfied: urllib3 in /Library/Frameworks/Python.framework/Versions/3.13/lib/python3.13/site-packages (from py2neo) (2.3.0)\n",
      "Requirement already satisfied: pytz in /Library/Frameworks/Python.framework/Versions/3.13/lib/python3.13/site-packages (from interchange~=2021.0.4->py2neo) (2025.1)\n",
      "Requirement already satisfied: pillow in /Library/Frameworks/Python.framework/Versions/3.13/lib/python3.13/site-packages (from pansi>=2020.7.3->py2neo) (11.1.0)\n",
      "Downloading py2neo-2021.2.4-py2.py3-none-any.whl (177 kB)\n",
      "Downloading interchange-2021.0.4-py2.py3-none-any.whl (28 kB)\n",
      "Downloading pansi-2024.11.0-py2.py3-none-any.whl (26 kB)\n",
      "Downloading monotonic-1.6-py2.py3-none-any.whl (8.2 kB)\n",
      "Installing collected packages: monotonic, pansi, interchange, py2neo\n",
      "Successfully installed interchange-2021.0.4 monotonic-1.6 pansi-2024.11.0 py2neo-2021.2.4\n",
      "\n",
      "\u001b[1m[\u001b[0m\u001b[34;49mnotice\u001b[0m\u001b[1;39;49m]\u001b[0m\u001b[39;49m A new release of pip is available: \u001b[0m\u001b[31;49m24.3.1\u001b[0m\u001b[39;49m -> \u001b[0m\u001b[32;49m25.0.1\u001b[0m\n",
      "\u001b[1m[\u001b[0m\u001b[34;49mnotice\u001b[0m\u001b[1;39;49m]\u001b[0m\u001b[39;49m To update, run: \u001b[0m\u001b[32;49mpip3 install --upgrade pip\u001b[0m\n",
      "Note: you may need to restart the kernel to use updated packages.\n"
     ]
    }
   ],
   "source": [
    "pip install py2neo"
   ]
  },
  {
   "cell_type": "code",
   "execution_count": 11,
   "metadata": {},
   "outputs": [
    {
     "ename": "ConnectionUnavailable",
     "evalue": "Connection has been closed",
     "output_type": "error",
     "traceback": [
      "\u001b[0;31m---------------------------------------------------------------------------\u001b[0m",
      "\u001b[0;31mIndexError\u001b[0m                                Traceback (most recent call last)",
      "File \u001b[0;32m/Library/Frameworks/Python.framework/Versions/3.13/lib/python3.13/site-packages/py2neo/client/__init__.py:806\u001b[0m, in \u001b[0;36mConnectionPool.acquire\u001b[0;34m(self, force_reset, can_overfill)\u001b[0m\n\u001b[1;32m    804\u001b[0m \u001b[38;5;28;01mtry\u001b[39;00m:\n\u001b[1;32m    805\u001b[0m     \u001b[38;5;66;03m# Plan A: select a free connection from the pool\u001b[39;00m\n\u001b[0;32m--> 806\u001b[0m     cx \u001b[38;5;241m=\u001b[39m \u001b[38;5;28;43mself\u001b[39;49m\u001b[38;5;241;43m.\u001b[39;49m\u001b[43m_free_list\u001b[49m\u001b[38;5;241;43m.\u001b[39;49m\u001b[43mpopleft\u001b[49m\u001b[43m(\u001b[49m\u001b[43m)\u001b[49m\n\u001b[1;32m    807\u001b[0m \u001b[38;5;28;01mexcept\u001b[39;00m \u001b[38;5;167;01mIndexError\u001b[39;00m:\n",
      "\u001b[0;31mIndexError\u001b[0m: pop from an empty deque",
      "\nDuring handling of the above exception, another exception occurred:\n",
      "\u001b[0;31mClientError\u001b[0m                               Traceback (most recent call last)",
      "File \u001b[0;32m/Library/Frameworks/Python.framework/Versions/3.13/lib/python3.13/site-packages/py2neo/client/bolt.py:810\u001b[0m, in \u001b[0;36mBolt1._audit\u001b[0;34m(self, task)\u001b[0m\n\u001b[1;32m    809\u001b[0m \u001b[38;5;28;01mtry\u001b[39;00m:\n\u001b[0;32m--> 810\u001b[0m     \u001b[43mtask\u001b[49m\u001b[38;5;241;43m.\u001b[39;49m\u001b[43maudit\u001b[49m\u001b[43m(\u001b[49m\u001b[43m)\u001b[49m\n\u001b[1;32m    811\u001b[0m \u001b[38;5;28;01mexcept\u001b[39;00m Neo4jError:\n",
      "File \u001b[0;32m/Library/Frameworks/Python.framework/Versions/3.13/lib/python3.13/site-packages/py2neo/client/bolt.py:1303\u001b[0m, in \u001b[0;36mBoltResponse.audit\u001b[0;34m(self)\u001b[0m\n\u001b[1;32m   1302\u001b[0m \u001b[38;5;28mself\u001b[39m\u001b[38;5;241m.\u001b[39mset_ignored()\n\u001b[0;32m-> 1303\u001b[0m \u001b[38;5;28;01mraise\u001b[39;00m \u001b[38;5;28mself\u001b[39m\u001b[38;5;241m.\u001b[39m_failure\n",
      "\u001b[0;31mClientError\u001b[0m: [Security.Unauthorized] The client is unauthorized due to authentication failure.",
      "\nDuring handling of the above exception, another exception occurred:\n",
      "\u001b[0;31mConnectionUnavailable\u001b[0m                     Traceback (most recent call last)",
      "Cell \u001b[0;32mIn[11], line 4\u001b[0m\n\u001b[1;32m      1\u001b[0m \u001b[38;5;28;01mfrom\u001b[39;00m\u001b[38;5;250m \u001b[39m\u001b[38;5;21;01mpy2neo\u001b[39;00m\u001b[38;5;250m \u001b[39m\u001b[38;5;28;01mimport\u001b[39;00m Graph, Node, Relationship\n\u001b[1;32m      3\u001b[0m \u001b[38;5;66;03m# Connect to local Neo4j instance\u001b[39;00m\n\u001b[0;32m----> 4\u001b[0m graph \u001b[38;5;241m=\u001b[39m \u001b[43mGraph\u001b[49m\u001b[43m(\u001b[49m\u001b[38;5;124;43m\"\u001b[39;49m\u001b[38;5;124;43mbolt://localhost:7687\u001b[39;49m\u001b[38;5;124;43m\"\u001b[39;49m\u001b[43m,\u001b[49m\u001b[43m \u001b[49m\u001b[43mauth\u001b[49m\u001b[38;5;241;43m=\u001b[39;49m\u001b[43m(\u001b[49m\u001b[38;5;124;43m\"\u001b[39;49m\u001b[38;5;124;43mbismansingh\u001b[39;49m\u001b[38;5;124;43m\"\u001b[39;49m\u001b[43m,\u001b[49m\u001b[43m \u001b[49m\u001b[38;5;124;43m\"\u001b[39;49m\u001b[38;5;124;43mbismansingh\u001b[39;49m\u001b[38;5;124;43m\"\u001b[39;49m\u001b[43m)\u001b[49m\u001b[43m)\u001b[49m\n\u001b[1;32m      6\u001b[0m \u001b[38;5;66;03m# Create nodes (questions and inefficiencies)\u001b[39;00m\n\u001b[1;32m      7\u001b[0m q1 \u001b[38;5;241m=\u001b[39m Node(\u001b[38;5;124m\"\u001b[39m\u001b[38;5;124mQuestion\u001b[39m\u001b[38;5;124m\"\u001b[39m, label\u001b[38;5;241m=\u001b[39m\u001b[38;5;124m\"\u001b[39m\u001b[38;5;124mQ1 - Inefficiencies\u001b[39m\u001b[38;5;124m\"\u001b[39m, confidence\u001b[38;5;241m=\u001b[39m\u001b[38;5;124m\"\u001b[39m\u001b[38;5;124mHighly Confident\u001b[39m\u001b[38;5;124m\"\u001b[39m)\n",
      "File \u001b[0;32m/Library/Frameworks/Python.framework/Versions/3.13/lib/python3.13/site-packages/py2neo/database.py:288\u001b[0m, in \u001b[0;36mGraph.__init__\u001b[0;34m(self, profile, name, **settings)\u001b[0m\n\u001b[1;32m    287\u001b[0m \u001b[38;5;28;01mdef\u001b[39;00m\u001b[38;5;250m \u001b[39m\u001b[38;5;21m__init__\u001b[39m(\u001b[38;5;28mself\u001b[39m, profile\u001b[38;5;241m=\u001b[39m\u001b[38;5;28;01mNone\u001b[39;00m, name\u001b[38;5;241m=\u001b[39m\u001b[38;5;28;01mNone\u001b[39;00m, \u001b[38;5;241m*\u001b[39m\u001b[38;5;241m*\u001b[39msettings):\n\u001b[0;32m--> 288\u001b[0m     \u001b[38;5;28mself\u001b[39m\u001b[38;5;241m.\u001b[39mservice \u001b[38;5;241m=\u001b[39m \u001b[43mGraphService\u001b[49m\u001b[43m(\u001b[49m\u001b[43mprofile\u001b[49m\u001b[43m,\u001b[49m\u001b[43m \u001b[49m\u001b[38;5;241;43m*\u001b[39;49m\u001b[38;5;241;43m*\u001b[39;49m\u001b[43msettings\u001b[49m\u001b[43m)\u001b[49m\n\u001b[1;32m    289\u001b[0m     \u001b[38;5;28mself\u001b[39m\u001b[38;5;241m.\u001b[39m\u001b[38;5;18m__name__\u001b[39m \u001b[38;5;241m=\u001b[39m name\n\u001b[1;32m    290\u001b[0m     \u001b[38;5;28mself\u001b[39m\u001b[38;5;241m.\u001b[39mschema \u001b[38;5;241m=\u001b[39m Schema(\u001b[38;5;28mself\u001b[39m)\n",
      "File \u001b[0;32m/Library/Frameworks/Python.framework/Versions/3.13/lib/python3.13/site-packages/py2neo/database.py:119\u001b[0m, in \u001b[0;36mGraphService.__init__\u001b[0;34m(self, profile, **settings)\u001b[0m\n\u001b[1;32m    116\u001b[0m \u001b[38;5;28;01mif\u001b[39;00m connector_settings[\u001b[38;5;124m\"\u001b[39m\u001b[38;5;124minit_size\u001b[39m\u001b[38;5;124m\"\u001b[39m] \u001b[38;5;129;01mis\u001b[39;00m \u001b[38;5;28;01mNone\u001b[39;00m \u001b[38;5;129;01mand\u001b[39;00m \u001b[38;5;129;01mnot\u001b[39;00m profile\u001b[38;5;241m.\u001b[39mrouting:\n\u001b[1;32m    117\u001b[0m     \u001b[38;5;66;03m# Ensures credentials are checked on construction\u001b[39;00m\n\u001b[1;32m    118\u001b[0m     connector_settings[\u001b[38;5;124m\"\u001b[39m\u001b[38;5;124minit_size\u001b[39m\u001b[38;5;124m\"\u001b[39m] \u001b[38;5;241m=\u001b[39m \u001b[38;5;241m1\u001b[39m\n\u001b[0;32m--> 119\u001b[0m \u001b[38;5;28mself\u001b[39m\u001b[38;5;241m.\u001b[39m_connector \u001b[38;5;241m=\u001b[39m \u001b[43mConnector\u001b[49m\u001b[43m(\u001b[49m\u001b[43mprofile\u001b[49m\u001b[43m,\u001b[49m\u001b[43m \u001b[49m\u001b[38;5;241;43m*\u001b[39;49m\u001b[38;5;241;43m*\u001b[39;49m\u001b[43mconnector_settings\u001b[49m\u001b[43m)\u001b[49m\n\u001b[1;32m    120\u001b[0m \u001b[38;5;28mself\u001b[39m\u001b[38;5;241m.\u001b[39m_graphs \u001b[38;5;241m=\u001b[39m {}\n",
      "File \u001b[0;32m/Library/Frameworks/Python.framework/Versions/3.13/lib/python3.13/site-packages/py2neo/client/__init__.py:960\u001b[0m, in \u001b[0;36mConnector.__init__\u001b[0;34m(self, profile, user_agent, init_size, max_size, max_age, routing_refresh_ttl)\u001b[0m\n\u001b[1;32m    958\u001b[0m \u001b[38;5;28;01melse\u001b[39;00m:\n\u001b[1;32m    959\u001b[0m     \u001b[38;5;28mself\u001b[39m\u001b[38;5;241m.\u001b[39m_router \u001b[38;5;241m=\u001b[39m \u001b[38;5;28;01mNone\u001b[39;00m\n\u001b[0;32m--> 960\u001b[0m \u001b[38;5;28;43mself\u001b[39;49m\u001b[38;5;241;43m.\u001b[39;49m\u001b[43m_add_pools\u001b[49m\u001b[43m(\u001b[49m\u001b[38;5;241;43m*\u001b[39;49m\u001b[38;5;28;43mself\u001b[39;49m\u001b[38;5;241;43m.\u001b[39;49m\u001b[43m_initial_routers\u001b[49m\u001b[43m)\u001b[49m\n",
      "File \u001b[0;32m/Library/Frameworks/Python.framework/Versions/3.13/lib/python3.13/site-packages/py2neo/client/__init__.py:982\u001b[0m, in \u001b[0;36mConnector._add_pools\u001b[0;34m(self, *profiles)\u001b[0m\n\u001b[1;32m    980\u001b[0m     \u001b[38;5;28;01mcontinue\u001b[39;00m\n\u001b[1;32m    981\u001b[0m log\u001b[38;5;241m.\u001b[39mdebug(\u001b[38;5;124m\"\u001b[39m\u001b[38;5;124mAdding connection pool for profile \u001b[39m\u001b[38;5;132;01m%r\u001b[39;00m\u001b[38;5;124m\"\u001b[39m, profile)\n\u001b[0;32m--> 982\u001b[0m pool \u001b[38;5;241m=\u001b[39m \u001b[43mConnectionPool\u001b[49m\u001b[38;5;241;43m.\u001b[39;49m\u001b[43mopen\u001b[49m\u001b[43m(\u001b[49m\n\u001b[1;32m    983\u001b[0m \u001b[43m    \u001b[49m\u001b[43mprofile\u001b[49m\u001b[43m,\u001b[49m\n\u001b[1;32m    984\u001b[0m \u001b[43m    \u001b[49m\u001b[43muser_agent\u001b[49m\u001b[38;5;241;43m=\u001b[39;49m\u001b[38;5;28;43mself\u001b[39;49m\u001b[38;5;241;43m.\u001b[39;49m\u001b[43m_user_agent\u001b[49m\u001b[43m,\u001b[49m\n\u001b[1;32m    985\u001b[0m \u001b[43m    \u001b[49m\u001b[43minit_size\u001b[49m\u001b[38;5;241;43m=\u001b[39;49m\u001b[38;5;28;43mself\u001b[39;49m\u001b[38;5;241;43m.\u001b[39;49m\u001b[43m_init_size\u001b[49m\u001b[43m,\u001b[49m\n\u001b[1;32m    986\u001b[0m \u001b[43m    \u001b[49m\u001b[43mmax_size\u001b[49m\u001b[38;5;241;43m=\u001b[39;49m\u001b[38;5;28;43mself\u001b[39;49m\u001b[38;5;241;43m.\u001b[39;49m\u001b[43m_max_size\u001b[49m\u001b[43m,\u001b[49m\n\u001b[1;32m    987\u001b[0m \u001b[43m    \u001b[49m\u001b[43mmax_age\u001b[49m\u001b[38;5;241;43m=\u001b[39;49m\u001b[38;5;28;43mself\u001b[39;49m\u001b[38;5;241;43m.\u001b[39;49m\u001b[43m_max_age\u001b[49m\u001b[43m,\u001b[49m\n\u001b[1;32m    988\u001b[0m \u001b[43m    \u001b[49m\u001b[43mon_broken\u001b[49m\u001b[38;5;241;43m=\u001b[39;49m\u001b[38;5;28;43mself\u001b[39;49m\u001b[38;5;241;43m.\u001b[39;49m\u001b[43m_on_broken\u001b[49m\u001b[43m)\u001b[49m\n\u001b[1;32m    989\u001b[0m \u001b[38;5;28mself\u001b[39m\u001b[38;5;241m.\u001b[39m_pools[profile] \u001b[38;5;241m=\u001b[39m pool\n",
      "File \u001b[0;32m/Library/Frameworks/Python.framework/Versions/3.13/lib/python3.13/site-packages/py2neo/client/__init__.py:649\u001b[0m, in \u001b[0;36mConnectionPool.open\u001b[0;34m(cls, profile, user_agent, init_size, max_size, max_age, on_broken)\u001b[0m\n\u001b[1;32m    627\u001b[0m \u001b[38;5;250m\u001b[39m\u001b[38;5;124;03m\"\"\" Create a new connection pool, with an option to seed one\u001b[39;00m\n\u001b[1;32m    628\u001b[0m \u001b[38;5;124;03mor more initial connections.\u001b[39;00m\n\u001b[1;32m    629\u001b[0m \n\u001b[0;32m   (...)\u001b[0m\n\u001b[1;32m    646\u001b[0m \u001b[38;5;124;03m    scheme\u001b[39;00m\n\u001b[1;32m    647\u001b[0m \u001b[38;5;124;03m\"\"\"\u001b[39;00m\n\u001b[1;32m    648\u001b[0m pool \u001b[38;5;241m=\u001b[39m \u001b[38;5;28mcls\u001b[39m(profile, user_agent, max_size, max_age, on_broken)\n\u001b[0;32m--> 649\u001b[0m seeds \u001b[38;5;241m=\u001b[39m [\u001b[43mpool\u001b[49m\u001b[38;5;241;43m.\u001b[39;49m\u001b[43macquire\u001b[49m\u001b[43m(\u001b[49m\u001b[43m)\u001b[49m \u001b[38;5;28;01mfor\u001b[39;00m _ \u001b[38;5;129;01min\u001b[39;00m \u001b[38;5;28mrange\u001b[39m(init_size \u001b[38;5;129;01mor\u001b[39;00m \u001b[38;5;28mcls\u001b[39m\u001b[38;5;241m.\u001b[39mdefault_init_size)]\n\u001b[1;32m    650\u001b[0m \u001b[38;5;28;01mfor\u001b[39;00m seed \u001b[38;5;129;01min\u001b[39;00m seeds:\n\u001b[1;32m    651\u001b[0m     seed\u001b[38;5;241m.\u001b[39mrelease()\n",
      "File \u001b[0;32m/Library/Frameworks/Python.framework/Versions/3.13/lib/python3.13/site-packages/py2neo/client/__init__.py:813\u001b[0m, in \u001b[0;36mConnectionPool.acquire\u001b[0;34m(self, force_reset, can_overfill)\u001b[0m\n\u001b[1;32m    807\u001b[0m \u001b[38;5;28;01mexcept\u001b[39;00m \u001b[38;5;167;01mIndexError\u001b[39;00m:\n\u001b[1;32m    808\u001b[0m     \u001b[38;5;28;01mif\u001b[39;00m \u001b[38;5;28mself\u001b[39m\u001b[38;5;241m.\u001b[39m_has_capacity() \u001b[38;5;129;01mor\u001b[39;00m can_overfill:\n\u001b[1;32m    809\u001b[0m         \u001b[38;5;66;03m# Plan B: if the pool isn't full, open\u001b[39;00m\n\u001b[1;32m    810\u001b[0m         \u001b[38;5;66;03m# a new connection. This may raise a\u001b[39;00m\n\u001b[1;32m    811\u001b[0m         \u001b[38;5;66;03m# ConnectionUnavailable exception, which\u001b[39;00m\n\u001b[1;32m    812\u001b[0m         \u001b[38;5;66;03m# should bubble up to the caller.\u001b[39;00m\n\u001b[0;32m--> 813\u001b[0m         cx \u001b[38;5;241m=\u001b[39m \u001b[38;5;28;43mself\u001b[39;49m\u001b[38;5;241;43m.\u001b[39;49m\u001b[43m_connect\u001b[49m\u001b[43m(\u001b[49m\u001b[43m)\u001b[49m\n\u001b[1;32m    814\u001b[0m         \u001b[38;5;28;01mif\u001b[39;00m cx\u001b[38;5;241m.\u001b[39msupports_multi():\n\u001b[1;32m    815\u001b[0m             \u001b[38;5;28mself\u001b[39m\u001b[38;5;241m.\u001b[39m_supports_multi \u001b[38;5;241m=\u001b[39m \u001b[38;5;28;01mTrue\u001b[39;00m\n",
      "File \u001b[0;32m/Library/Frameworks/Python.framework/Versions/3.13/lib/python3.13/site-packages/py2neo/client/__init__.py:764\u001b[0m, in \u001b[0;36mConnectionPool._connect\u001b[0;34m(self)\u001b[0m\n\u001b[1;32m    761\u001b[0m \u001b[38;5;28;01mdef\u001b[39;00m\u001b[38;5;250m \u001b[39m\u001b[38;5;21m_connect\u001b[39m(\u001b[38;5;28mself\u001b[39m):\n\u001b[1;32m    762\u001b[0m \u001b[38;5;250m    \u001b[39m\u001b[38;5;124;03m\"\"\" Open and return a new connection.\u001b[39;00m\n\u001b[1;32m    763\u001b[0m \u001b[38;5;124;03m    \"\"\"\u001b[39;00m\n\u001b[0;32m--> 764\u001b[0m     cx \u001b[38;5;241m=\u001b[39m \u001b[43mConnection\u001b[49m\u001b[38;5;241;43m.\u001b[39;49m\u001b[43mopen\u001b[49m\u001b[43m(\u001b[49m\u001b[38;5;28;43mself\u001b[39;49m\u001b[38;5;241;43m.\u001b[39;49m\u001b[43mprofile\u001b[49m\u001b[43m,\u001b[49m\u001b[43m \u001b[49m\u001b[43muser_agent\u001b[49m\u001b[38;5;241;43m=\u001b[39;49m\u001b[38;5;28;43mself\u001b[39;49m\u001b[38;5;241;43m.\u001b[39;49m\u001b[43muser_agent\u001b[49m\u001b[43m,\u001b[49m\n\u001b[1;32m    765\u001b[0m \u001b[43m                         \u001b[49m\u001b[43mon_release\u001b[49m\u001b[38;5;241;43m=\u001b[39;49m\u001b[38;5;28;43;01mlambda\u001b[39;49;00m\u001b[43m \u001b[49m\u001b[43mc\u001b[49m\u001b[43m:\u001b[49m\u001b[43m \u001b[49m\u001b[38;5;28;43mself\u001b[39;49m\u001b[38;5;241;43m.\u001b[39;49m\u001b[43mrelease\u001b[49m\u001b[43m(\u001b[49m\u001b[43mc\u001b[49m\u001b[43m)\u001b[49m\u001b[43m,\u001b[49m\n\u001b[1;32m    766\u001b[0m \u001b[43m                         \u001b[49m\u001b[43mon_broken\u001b[49m\u001b[38;5;241;43m=\u001b[39;49m\u001b[38;5;28;43;01mlambda\u001b[39;49;00m\u001b[43m \u001b[49m\u001b[43mmsg\u001b[49m\u001b[43m:\u001b[49m\u001b[43m \u001b[49m\u001b[38;5;28;43mself\u001b[39;49m\u001b[38;5;241;43m.\u001b[39;49m\u001b[43m__on_broken\u001b[49m\u001b[43m(\u001b[49m\u001b[43mmsg\u001b[49m\u001b[43m)\u001b[49m\u001b[43m)\u001b[49m\n\u001b[1;32m    767\u001b[0m     \u001b[38;5;28mself\u001b[39m\u001b[38;5;241m.\u001b[39m_server_agent \u001b[38;5;241m=\u001b[39m cx\u001b[38;5;241m.\u001b[39mserver_agent\n\u001b[1;32m    768\u001b[0m     \u001b[38;5;28;01mreturn\u001b[39;00m cx\n",
      "File \u001b[0;32m/Library/Frameworks/Python.framework/Versions/3.13/lib/python3.13/site-packages/py2neo/client/__init__.py:174\u001b[0m, in \u001b[0;36mConnection.open\u001b[0;34m(cls, profile, user_agent, on_release, on_broken)\u001b[0m\n\u001b[1;32m    172\u001b[0m \u001b[38;5;28;01mif\u001b[39;00m profile\u001b[38;5;241m.\u001b[39mprotocol \u001b[38;5;241m==\u001b[39m \u001b[38;5;124m\"\u001b[39m\u001b[38;5;124mbolt\u001b[39m\u001b[38;5;124m\"\u001b[39m:\n\u001b[1;32m    173\u001b[0m     \u001b[38;5;28;01mfrom\u001b[39;00m\u001b[38;5;250m \u001b[39m\u001b[38;5;21;01mpy2neo\u001b[39;00m\u001b[38;5;21;01m.\u001b[39;00m\u001b[38;5;21;01mclient\u001b[39;00m\u001b[38;5;21;01m.\u001b[39;00m\u001b[38;5;21;01mbolt\u001b[39;00m\u001b[38;5;250m \u001b[39m\u001b[38;5;28;01mimport\u001b[39;00m Bolt\n\u001b[0;32m--> 174\u001b[0m     \u001b[38;5;28;01mreturn\u001b[39;00m \u001b[43mBolt\u001b[49m\u001b[38;5;241;43m.\u001b[39;49m\u001b[43mopen\u001b[49m\u001b[43m(\u001b[49m\u001b[43mprofile\u001b[49m\u001b[43m,\u001b[49m\u001b[43m \u001b[49m\u001b[43muser_agent\u001b[49m\u001b[38;5;241;43m=\u001b[39;49m\u001b[43muser_agent\u001b[49m\u001b[43m,\u001b[49m\n\u001b[1;32m    175\u001b[0m \u001b[43m                     \u001b[49m\u001b[43mon_release\u001b[49m\u001b[38;5;241;43m=\u001b[39;49m\u001b[43mon_release\u001b[49m\u001b[43m,\u001b[49m\u001b[43m \u001b[49m\u001b[43mon_broken\u001b[49m\u001b[38;5;241;43m=\u001b[39;49m\u001b[43mon_broken\u001b[49m\u001b[43m)\u001b[49m\n\u001b[1;32m    176\u001b[0m \u001b[38;5;28;01melif\u001b[39;00m profile\u001b[38;5;241m.\u001b[39mprotocol \u001b[38;5;241m==\u001b[39m \u001b[38;5;124m\"\u001b[39m\u001b[38;5;124mhttp\u001b[39m\u001b[38;5;124m\"\u001b[39m:\n\u001b[1;32m    177\u001b[0m     \u001b[38;5;28;01mfrom\u001b[39;00m\u001b[38;5;250m \u001b[39m\u001b[38;5;21;01mpy2neo\u001b[39;00m\u001b[38;5;21;01m.\u001b[39;00m\u001b[38;5;21;01mclient\u001b[39;00m\u001b[38;5;21;01m.\u001b[39;00m\u001b[38;5;21;01mhttp\u001b[39;00m\u001b[38;5;250m \u001b[39m\u001b[38;5;28;01mimport\u001b[39;00m HTTP\n",
      "File \u001b[0;32m/Library/Frameworks/Python.framework/Versions/3.13/lib/python3.13/site-packages/py2neo/client/bolt.py:361\u001b[0m, in \u001b[0;36mBolt.open\u001b[0;34m(cls, profile, user_agent, on_release, on_broken)\u001b[0m\n\u001b[1;32m    359\u001b[0m         \u001b[38;5;28;01mraise\u001b[39;00m \u001b[38;5;167;01mTypeError\u001b[39;00m(\u001b[38;5;124m\"\u001b[39m\u001b[38;5;124mUnable to agree supported protocol version\u001b[39m\u001b[38;5;124m\"\u001b[39m)\n\u001b[1;32m    360\u001b[0m     bolt \u001b[38;5;241m=\u001b[39m subclass(wire, profile, on_release\u001b[38;5;241m=\u001b[39mon_release)\n\u001b[0;32m--> 361\u001b[0m     \u001b[43mbolt\u001b[49m\u001b[38;5;241;43m.\u001b[39;49m\u001b[43m_hello\u001b[49m\u001b[43m(\u001b[49m\u001b[43muser_agent\u001b[49m\u001b[43m \u001b[49m\u001b[38;5;129;43;01mor\u001b[39;49;00m\u001b[43m \u001b[49m\u001b[43mbolt_user_agent\u001b[49m\u001b[43m(\u001b[49m\u001b[43m)\u001b[49m\u001b[43m)\u001b[49m\n\u001b[1;32m    362\u001b[0m     \u001b[38;5;28;01mreturn\u001b[39;00m bolt\n\u001b[1;32m    363\u001b[0m \u001b[38;5;28;01mexcept\u001b[39;00m (\u001b[38;5;167;01mTypeError\u001b[39;00m, WireError) \u001b[38;5;28;01mas\u001b[39;00m error:\n",
      "File \u001b[0;32m/Library/Frameworks/Python.framework/Versions/3.13/lib/python3.13/site-packages/py2neo/client/bolt.py:867\u001b[0m, in \u001b[0;36mBolt3._hello\u001b[0;34m(self, user_agent)\u001b[0m\n\u001b[1;32m    865\u001b[0m \u001b[38;5;28mself\u001b[39m\u001b[38;5;241m.\u001b[39msend()\n\u001b[1;32m    866\u001b[0m \u001b[38;5;28mself\u001b[39m\u001b[38;5;241m.\u001b[39m_fetch()\n\u001b[0;32m--> 867\u001b[0m \u001b[38;5;28;43mself\u001b[39;49m\u001b[38;5;241;43m.\u001b[39;49m\u001b[43m_audit\u001b[49m\u001b[43m(\u001b[49m\u001b[43mresponse\u001b[49m\u001b[43m)\u001b[49m\n\u001b[1;32m    868\u001b[0m \u001b[38;5;28mself\u001b[39m\u001b[38;5;241m.\u001b[39mserver_agent \u001b[38;5;241m=\u001b[39m response\u001b[38;5;241m.\u001b[39mmetadata\u001b[38;5;241m.\u001b[39mget(\u001b[38;5;124m\"\u001b[39m\u001b[38;5;124mserver\u001b[39m\u001b[38;5;124m\"\u001b[39m)\n\u001b[1;32m    869\u001b[0m \u001b[38;5;28mself\u001b[39m\u001b[38;5;241m.\u001b[39mconnection_id \u001b[38;5;241m=\u001b[39m response\u001b[38;5;241m.\u001b[39mmetadata\u001b[38;5;241m.\u001b[39mget(\u001b[38;5;124m\"\u001b[39m\u001b[38;5;124mconnection_id\u001b[39m\u001b[38;5;124m\"\u001b[39m)\n",
      "File \u001b[0;32m/Library/Frameworks/Python.framework/Versions/3.13/lib/python3.13/site-packages/py2neo/client/bolt.py:812\u001b[0m, in \u001b[0;36mBolt1._audit\u001b[0;34m(self, task)\u001b[0m\n\u001b[1;32m    810\u001b[0m     task\u001b[38;5;241m.\u001b[39maudit()\n\u001b[1;32m    811\u001b[0m \u001b[38;5;28;01mexcept\u001b[39;00m Neo4jError:\n\u001b[0;32m--> 812\u001b[0m     \u001b[38;5;28;43mself\u001b[39;49m\u001b[38;5;241;43m.\u001b[39;49m\u001b[43mreset\u001b[49m\u001b[43m(\u001b[49m\u001b[43mforce\u001b[49m\u001b[38;5;241;43m=\u001b[39;49m\u001b[38;5;28;43;01mTrue\u001b[39;49;00m\u001b[43m)\u001b[49m\n\u001b[1;32m    813\u001b[0m     \u001b[38;5;28;01mraise\u001b[39;00m\n\u001b[1;32m    814\u001b[0m \u001b[38;5;28;01mfinally\u001b[39;00m:\n\u001b[1;32m    815\u001b[0m     \u001b[38;5;66;03m# On 1 Apr 2021, this was moved here from _wait. Because\u001b[39;00m\n\u001b[1;32m    816\u001b[0m     \u001b[38;5;66;03m# _wait is generally called before _audit, the post-failure\u001b[39;00m\n\u001b[0;32m   (...)\u001b[0m\n\u001b[1;32m    821\u001b[0m     \u001b[38;5;66;03m# Putting it here ensures that release is only ever done\u001b[39;00m\n\u001b[1;32m    822\u001b[0m     \u001b[38;5;66;03m# after such a reset.\u001b[39;00m\n",
      "File \u001b[0;32m/Library/Frameworks/Python.framework/Versions/3.13/lib/python3.13/site-packages/py2neo/client/bolt.py:506\u001b[0m, in \u001b[0;36mBolt1.reset\u001b[0;34m(self, force)\u001b[0m\n\u001b[1;32m    505\u001b[0m \u001b[38;5;28;01mdef\u001b[39;00m\u001b[38;5;250m \u001b[39m\u001b[38;5;21mreset\u001b[39m(\u001b[38;5;28mself\u001b[39m, force\u001b[38;5;241m=\u001b[39m\u001b[38;5;28;01mFalse\u001b[39;00m):\n\u001b[0;32m--> 506\u001b[0m     \u001b[38;5;28;43mself\u001b[39;49m\u001b[38;5;241;43m.\u001b[39;49m\u001b[43m_assert_open\u001b[49m\u001b[43m(\u001b[49m\u001b[43m)\u001b[49m\n\u001b[1;32m    507\u001b[0m     \u001b[38;5;28;01mif\u001b[39;00m force \u001b[38;5;129;01mor\u001b[39;00m \u001b[38;5;28mself\u001b[39m\u001b[38;5;241m.\u001b[39m_transaction:\n\u001b[1;32m    508\u001b[0m         response \u001b[38;5;241m=\u001b[39m \u001b[38;5;28mself\u001b[39m\u001b[38;5;241m.\u001b[39mappend_message(\u001b[38;5;241m0x0F\u001b[39m, vital\u001b[38;5;241m=\u001b[39m\u001b[38;5;28;01mTrue\u001b[39;00m)\n",
      "File \u001b[0;32m/Library/Frameworks/Python.framework/Versions/3.13/lib/python3.13/site-packages/py2neo/client/bolt.py:449\u001b[0m, in \u001b[0;36mBolt._assert_open\u001b[0;34m(self)\u001b[0m\n\u001b[1;32m    447\u001b[0m \u001b[38;5;28;01mdef\u001b[39;00m\u001b[38;5;250m \u001b[39m\u001b[38;5;21m_assert_open\u001b[39m(\u001b[38;5;28mself\u001b[39m):\n\u001b[1;32m    448\u001b[0m     \u001b[38;5;28;01mif\u001b[39;00m \u001b[38;5;28mself\u001b[39m\u001b[38;5;241m.\u001b[39mclosed:\n\u001b[0;32m--> 449\u001b[0m         \u001b[38;5;28;01mraise\u001b[39;00m ConnectionUnavailable(\u001b[38;5;124m\"\u001b[39m\u001b[38;5;124mConnection has been closed\u001b[39m\u001b[38;5;124m\"\u001b[39m)\n\u001b[1;32m    450\u001b[0m     \u001b[38;5;28;01mif\u001b[39;00m \u001b[38;5;28mself\u001b[39m\u001b[38;5;241m.\u001b[39mbroken:\n\u001b[1;32m    451\u001b[0m         \u001b[38;5;28;01mraise\u001b[39;00m ConnectionUnavailable(\u001b[38;5;124m\"\u001b[39m\u001b[38;5;124mConnection is broken\u001b[39m\u001b[38;5;124m\"\u001b[39m)\n",
      "\u001b[0;31mConnectionUnavailable\u001b[0m: Connection has been closed"
     ]
    }
   ],
   "source": [
    "from py2neo import Graph, Node, Relationship\n",
    "\n",
    "# Connect to local Neo4j instance\n",
    "graph = Graph(\"bolt://localhost:7687\", auth=(\"bismansingh\", \"bismansingh\"))\n",
    "\n",
    "# Create nodes (questions and inefficiencies)\n",
    "q1 = Node(\"Question\", label=\"Q1 - Inefficiencies\", confidence=\"Highly Confident\")\n",
    "q2 = Node(\"Question\", label=\"Q2 - Inefficiencies\", confidence=\"Medium Confident\")\n",
    "n1 = Node(\"Inefficiency\", label=\"Nested Loops\")\n",
    "n2 = Node(\"Inefficiency\", label=\"Unnecessary Iteration\")\n",
    "n3 = Node(\"Inefficiency\", label=\"Incorrect Logic\")\n",
    "\n",
    "# Create relationships (edges between questions and inefficiencies)\n",
    "r1 = Relationship(q1, \"HAS_INEFFICIENCY\", n1)\n",
    "r2 = Relationship(q1, \"HAS_INEFFICIENCY\", n2)\n",
    "r3 = Relationship(q1, \"HAS_INEFFICIENCY\", n3)\n",
    "\n",
    "# Create the graph in Neo4j\n",
    "graph.create(q1)\n",
    "graph.create(q2)\n",
    "graph.create(n1)\n",
    "graph.create(n2)\n",
    "graph.create(n3)\n",
    "graph.create(r1)\n",
    "graph.create(r2)\n",
    "graph.create(r3)\n",
    "\n",
    "# Once created, you can visualize the graph in the Neo4j Browser UI by querying it.\n"
   ]
  },
  {
   "cell_type": "code",
   "execution_count": 12,
   "metadata": {},
   "outputs": [
    {
     "name": "stdout",
     "output_type": "stream",
     "text": [
      "Collecting pyvis\n",
      "  Downloading pyvis-0.3.2-py3-none-any.whl.metadata (1.7 kB)\n",
      "Requirement already satisfied: ipython>=5.3.0 in /Users/bisman/Library/Python/3.13/lib/python/site-packages (from pyvis) (8.32.0)\n",
      "Collecting jinja2>=2.9.6 (from pyvis)\n",
      "  Downloading jinja2-3.1.5-py3-none-any.whl.metadata (2.6 kB)\n",
      "Collecting jsonpickle>=1.4.1 (from pyvis)\n",
      "  Downloading jsonpickle-4.0.1-py3-none-any.whl.metadata (8.2 kB)\n",
      "Requirement already satisfied: networkx>=1.11 in /Library/Frameworks/Python.framework/Versions/3.13/lib/python3.13/site-packages (from pyvis) (3.4.2)\n",
      "Requirement already satisfied: decorator in /Users/bisman/Library/Python/3.13/lib/python/site-packages (from ipython>=5.3.0->pyvis) (5.1.1)\n",
      "Requirement already satisfied: jedi>=0.16 in /Users/bisman/Library/Python/3.13/lib/python/site-packages (from ipython>=5.3.0->pyvis) (0.19.2)\n",
      "Requirement already satisfied: matplotlib-inline in /Users/bisman/Library/Python/3.13/lib/python/site-packages (from ipython>=5.3.0->pyvis) (0.1.7)\n",
      "Requirement already satisfied: pexpect>4.3 in /Users/bisman/Library/Python/3.13/lib/python/site-packages (from ipython>=5.3.0->pyvis) (4.9.0)\n",
      "Requirement already satisfied: prompt_toolkit<3.1.0,>=3.0.41 in /Users/bisman/Library/Python/3.13/lib/python/site-packages (from ipython>=5.3.0->pyvis) (3.0.50)\n",
      "Requirement already satisfied: pygments>=2.4.0 in /Users/bisman/Library/Python/3.13/lib/python/site-packages (from ipython>=5.3.0->pyvis) (2.19.1)\n",
      "Requirement already satisfied: stack_data in /Users/bisman/Library/Python/3.13/lib/python/site-packages (from ipython>=5.3.0->pyvis) (0.6.3)\n",
      "Requirement already satisfied: traitlets>=5.13.0 in /Users/bisman/Library/Python/3.13/lib/python/site-packages (from ipython>=5.3.0->pyvis) (5.14.3)\n",
      "Collecting MarkupSafe>=2.0 (from jinja2>=2.9.6->pyvis)\n",
      "  Downloading MarkupSafe-3.0.2-cp313-cp313-macosx_10_13_universal2.whl.metadata (4.0 kB)\n",
      "Requirement already satisfied: parso<0.9.0,>=0.8.4 in /Users/bisman/Library/Python/3.13/lib/python/site-packages (from jedi>=0.16->ipython>=5.3.0->pyvis) (0.8.4)\n",
      "Requirement already satisfied: ptyprocess>=0.5 in /Users/bisman/Library/Python/3.13/lib/python/site-packages (from pexpect>4.3->ipython>=5.3.0->pyvis) (0.7.0)\n",
      "Requirement already satisfied: wcwidth in /Users/bisman/Library/Python/3.13/lib/python/site-packages (from prompt_toolkit<3.1.0,>=3.0.41->ipython>=5.3.0->pyvis) (0.2.13)\n",
      "Requirement already satisfied: executing>=1.2.0 in /Users/bisman/Library/Python/3.13/lib/python/site-packages (from stack_data->ipython>=5.3.0->pyvis) (2.2.0)\n",
      "Requirement already satisfied: asttokens>=2.1.0 in /Users/bisman/Library/Python/3.13/lib/python/site-packages (from stack_data->ipython>=5.3.0->pyvis) (3.0.0)\n",
      "Requirement already satisfied: pure-eval in /Users/bisman/Library/Python/3.13/lib/python/site-packages (from stack_data->ipython>=5.3.0->pyvis) (0.2.3)\n",
      "Downloading pyvis-0.3.2-py3-none-any.whl (756 kB)\n",
      "\u001b[2K   \u001b[90m━━━━━━━━━━━━━━━━━━━━━━━━━━━━━━━━━━━━━━━━\u001b[0m \u001b[32m756.0/756.0 kB\u001b[0m \u001b[31m5.9 MB/s\u001b[0m eta \u001b[36m0:00:00\u001b[0m\n",
      "\u001b[?25hDownloading jinja2-3.1.5-py3-none-any.whl (134 kB)\n",
      "Downloading jsonpickle-4.0.1-py3-none-any.whl (46 kB)\n",
      "Downloading MarkupSafe-3.0.2-cp313-cp313-macosx_10_13_universal2.whl (14 kB)\n",
      "Installing collected packages: MarkupSafe, jsonpickle, jinja2, pyvis\n",
      "Successfully installed MarkupSafe-3.0.2 jinja2-3.1.5 jsonpickle-4.0.1 pyvis-0.3.2\n",
      "\n",
      "\u001b[1m[\u001b[0m\u001b[34;49mnotice\u001b[0m\u001b[1;39;49m]\u001b[0m\u001b[39;49m A new release of pip is available: \u001b[0m\u001b[31;49m24.3.1\u001b[0m\u001b[39;49m -> \u001b[0m\u001b[32;49m25.0.1\u001b[0m\n",
      "\u001b[1m[\u001b[0m\u001b[34;49mnotice\u001b[0m\u001b[1;39;49m]\u001b[0m\u001b[39;49m To update, run: \u001b[0m\u001b[32;49mpython3 -m pip install --upgrade pip\u001b[0m\n",
      "Note: you may need to restart the kernel to use updated packages.\n"
     ]
    }
   ],
   "source": [
    "pip install pyvis\n"
   ]
  },
  {
   "cell_type": "code",
   "execution_count": 14,
   "metadata": {},
   "outputs": [
    {
     "name": "stdout",
     "output_type": "stream",
     "text": [
      "Warning: When  cdn_resources is 'local' jupyter notebook has issues displaying graphics on chrome/safari. Use cdn_resources='in_line' or cdn_resources='remote' if you have issues viewing graphics in a notebook.\n"
     ]
    }
   ],
   "source": [
    "from pyvis.network import Network\n",
    "import networkx as nx\n",
    "\n",
    "# Create a NetworkX graph\n",
    "G = nx.Graph()\n",
    "G.add_node(1, label=\"Q1 - Inefficiencies\", confidence=\"Highly Confident\")\n",
    "G.add_node(2, label=\"Nested Loops\")\n",
    "G.add_node(3, label=\"Unnecessary Iteration\")\n",
    "G.add_node(4, label=\"Incorrect Logic\")\n",
    "G.add_node(5, label=\"Q2 - Inefficiencies\", confidence=\"Medium Confident\")\n",
    "G.add_node(6, label=\"Excessive Variable Usage\")\n",
    "G.add_node(7, label=\"Readability Issues\")\n",
    "\n",
    "G.add_edges_from([(1, 2), (1, 3), (1, 4), (5, 6), (5, 7)])\n",
    "\n",
    "# Create a PyVis network from NetworkX\n",
    "net = Network(notebook=True)\n",
    "\n",
    "# Convert the NetworkX graph to PyVis format\n",
    "net.from_nx(G)\n",
    "\n",
    "# Show the interactive graph in the notebook or export it to HTML\n",
    "net.save_graph(\"/Users/bisman/Documents/ECS 260/Project github/CodeRefineAI/llm/RQ1/my_interactive_graph.html\")\n"
   ]
  },
  {
   "cell_type": "code",
   "execution_count": 6,
   "metadata": {},
   "outputs": [
    {
     "data": {
      "application/vnd.plotly.v1+json": {
       "config": {
        "plotlyServerURL": "https://plot.ly"
       },
       "data": [
        {
         "hoverinfo": "none",
         "line": {
          "color": "#888",
          "width": 0.5
         },
         "mode": "lines",
         "type": "scatter",
         "x": [
          0.7899293399464068,
          0.5756436927776267,
          0.7899293399464068,
          0.41209646317501547,
          -1,
          -0.6165511720069384,
          0.5756436927776267,
          0.41209646317501547,
          0.5756436927776267,
          0.11315918653382498,
          -0.05512953774766122,
          0.41209646317501547,
          -0.05512953774766122,
          -0.29617117967674556,
          0.41209646317501547,
          0.30530627289193296,
          -0.22828306589346092,
          -0.6165511720069384,
          -0.22828306589346092,
          0.11315918653382498,
          -0.29617117967674556,
          -0.6165511720069384,
          -0.29617117967674556,
          0.11315918653382498,
          0.30530627289193296,
          0.11315918653382498
         ],
         "y": [
          -0.44301679212734085,
          -0.13797914832774388,
          -0.44301679212734085,
          -0.4319215374099751,
          0.5834950640887644,
          0.3750722147535044,
          -0.13797914832774388,
          -0.4319215374099751,
          -0.13797914832774388,
          0.13506214233543806,
          -0.40895165289145324,
          -0.4319215374099751,
          -0.40895165289145324,
          0.0015656531277110771,
          -0.4319215374099751,
          -0.12527375416260714,
          0.4519478106137024,
          0.3750722147535044,
          0.4519478106137024,
          0.13506214233543806,
          0.0015656531277110771,
          0.3750722147535044,
          0.0015656531277110771,
          0.13506214233543806,
          -0.12527375416260714,
          0.13506214233543806
         ]
        },
        {
         "hoverinfo": "text",
         "marker": {
          "colorbar": {
           "thickness": 15,
           "title": {
            "text": "Node Connections"
           }
          },
          "colorscale": [
           [
            0,
            "rgb(255,255,217)"
           ],
           [
            0.125,
            "rgb(237,248,177)"
           ],
           [
            0.25,
            "rgb(199,233,180)"
           ],
           [
            0.375,
            "rgb(127,205,187)"
           ],
           [
            0.5,
            "rgb(65,182,196)"
           ],
           [
            0.625,
            "rgb(29,145,192)"
           ],
           [
            0.75,
            "rgb(34,94,168)"
           ],
           [
            0.875,
            "rgb(37,52,148)"
           ],
           [
            1,
            "rgb(8,29,88)"
           ]
          ],
          "showscale": true,
          "size": 10
         },
         "mode": "markers",
         "type": "scatter",
         "x": [
          0.7899293399464068,
          -1,
          0.5756436927776267,
          -0.05512953774766122,
          0.41209646317501547,
          -0.22828306589346092,
          -0.29617117967674556,
          -0.6165511720069384,
          0.30530627289193296,
          0.11315918653382498
         ],
         "y": [
          -0.44301679212734085,
          0.5834950640887644,
          -0.13797914832774388,
          -0.40895165289145324,
          -0.4319215374099751,
          0.4519478106137024,
          0.0015656531277110771,
          0.3750722147535044,
          -0.12527375416260714,
          0.13506214233543806
         ]
        }
       ],
       "layout": {
        "height": 600,
        "hovermode": "closest",
        "plot_bgcolor": "rgb(255, 255, 255)",
        "showlegend": false,
        "template": {
         "data": {
          "bar": [
           {
            "error_x": {
             "color": "#2a3f5f"
            },
            "error_y": {
             "color": "#2a3f5f"
            },
            "marker": {
             "line": {
              "color": "#E5ECF6",
              "width": 0.5
             },
             "pattern": {
              "fillmode": "overlay",
              "size": 10,
              "solidity": 0.2
             }
            },
            "type": "bar"
           }
          ],
          "barpolar": [
           {
            "marker": {
             "line": {
              "color": "#E5ECF6",
              "width": 0.5
             },
             "pattern": {
              "fillmode": "overlay",
              "size": 10,
              "solidity": 0.2
             }
            },
            "type": "barpolar"
           }
          ],
          "carpet": [
           {
            "aaxis": {
             "endlinecolor": "#2a3f5f",
             "gridcolor": "white",
             "linecolor": "white",
             "minorgridcolor": "white",
             "startlinecolor": "#2a3f5f"
            },
            "baxis": {
             "endlinecolor": "#2a3f5f",
             "gridcolor": "white",
             "linecolor": "white",
             "minorgridcolor": "white",
             "startlinecolor": "#2a3f5f"
            },
            "type": "carpet"
           }
          ],
          "choropleth": [
           {
            "colorbar": {
             "outlinewidth": 0,
             "ticks": ""
            },
            "type": "choropleth"
           }
          ],
          "contour": [
           {
            "colorbar": {
             "outlinewidth": 0,
             "ticks": ""
            },
            "colorscale": [
             [
              0,
              "#0d0887"
             ],
             [
              0.1111111111111111,
              "#46039f"
             ],
             [
              0.2222222222222222,
              "#7201a8"
             ],
             [
              0.3333333333333333,
              "#9c179e"
             ],
             [
              0.4444444444444444,
              "#bd3786"
             ],
             [
              0.5555555555555556,
              "#d8576b"
             ],
             [
              0.6666666666666666,
              "#ed7953"
             ],
             [
              0.7777777777777778,
              "#fb9f3a"
             ],
             [
              0.8888888888888888,
              "#fdca26"
             ],
             [
              1,
              "#f0f921"
             ]
            ],
            "type": "contour"
           }
          ],
          "contourcarpet": [
           {
            "colorbar": {
             "outlinewidth": 0,
             "ticks": ""
            },
            "type": "contourcarpet"
           }
          ],
          "heatmap": [
           {
            "colorbar": {
             "outlinewidth": 0,
             "ticks": ""
            },
            "colorscale": [
             [
              0,
              "#0d0887"
             ],
             [
              0.1111111111111111,
              "#46039f"
             ],
             [
              0.2222222222222222,
              "#7201a8"
             ],
             [
              0.3333333333333333,
              "#9c179e"
             ],
             [
              0.4444444444444444,
              "#bd3786"
             ],
             [
              0.5555555555555556,
              "#d8576b"
             ],
             [
              0.6666666666666666,
              "#ed7953"
             ],
             [
              0.7777777777777778,
              "#fb9f3a"
             ],
             [
              0.8888888888888888,
              "#fdca26"
             ],
             [
              1,
              "#f0f921"
             ]
            ],
            "type": "heatmap"
           }
          ],
          "histogram": [
           {
            "marker": {
             "pattern": {
              "fillmode": "overlay",
              "size": 10,
              "solidity": 0.2
             }
            },
            "type": "histogram"
           }
          ],
          "histogram2d": [
           {
            "colorbar": {
             "outlinewidth": 0,
             "ticks": ""
            },
            "colorscale": [
             [
              0,
              "#0d0887"
             ],
             [
              0.1111111111111111,
              "#46039f"
             ],
             [
              0.2222222222222222,
              "#7201a8"
             ],
             [
              0.3333333333333333,
              "#9c179e"
             ],
             [
              0.4444444444444444,
              "#bd3786"
             ],
             [
              0.5555555555555556,
              "#d8576b"
             ],
             [
              0.6666666666666666,
              "#ed7953"
             ],
             [
              0.7777777777777778,
              "#fb9f3a"
             ],
             [
              0.8888888888888888,
              "#fdca26"
             ],
             [
              1,
              "#f0f921"
             ]
            ],
            "type": "histogram2d"
           }
          ],
          "histogram2dcontour": [
           {
            "colorbar": {
             "outlinewidth": 0,
             "ticks": ""
            },
            "colorscale": [
             [
              0,
              "#0d0887"
             ],
             [
              0.1111111111111111,
              "#46039f"
             ],
             [
              0.2222222222222222,
              "#7201a8"
             ],
             [
              0.3333333333333333,
              "#9c179e"
             ],
             [
              0.4444444444444444,
              "#bd3786"
             ],
             [
              0.5555555555555556,
              "#d8576b"
             ],
             [
              0.6666666666666666,
              "#ed7953"
             ],
             [
              0.7777777777777778,
              "#fb9f3a"
             ],
             [
              0.8888888888888888,
              "#fdca26"
             ],
             [
              1,
              "#f0f921"
             ]
            ],
            "type": "histogram2dcontour"
           }
          ],
          "mesh3d": [
           {
            "colorbar": {
             "outlinewidth": 0,
             "ticks": ""
            },
            "type": "mesh3d"
           }
          ],
          "parcoords": [
           {
            "line": {
             "colorbar": {
              "outlinewidth": 0,
              "ticks": ""
             }
            },
            "type": "parcoords"
           }
          ],
          "pie": [
           {
            "automargin": true,
            "type": "pie"
           }
          ],
          "scatter": [
           {
            "fillpattern": {
             "fillmode": "overlay",
             "size": 10,
             "solidity": 0.2
            },
            "type": "scatter"
           }
          ],
          "scatter3d": [
           {
            "line": {
             "colorbar": {
              "outlinewidth": 0,
              "ticks": ""
             }
            },
            "marker": {
             "colorbar": {
              "outlinewidth": 0,
              "ticks": ""
             }
            },
            "type": "scatter3d"
           }
          ],
          "scattercarpet": [
           {
            "marker": {
             "colorbar": {
              "outlinewidth": 0,
              "ticks": ""
             }
            },
            "type": "scattercarpet"
           }
          ],
          "scattergeo": [
           {
            "marker": {
             "colorbar": {
              "outlinewidth": 0,
              "ticks": ""
             }
            },
            "type": "scattergeo"
           }
          ],
          "scattergl": [
           {
            "marker": {
             "colorbar": {
              "outlinewidth": 0,
              "ticks": ""
             }
            },
            "type": "scattergl"
           }
          ],
          "scattermap": [
           {
            "marker": {
             "colorbar": {
              "outlinewidth": 0,
              "ticks": ""
             }
            },
            "type": "scattermap"
           }
          ],
          "scattermapbox": [
           {
            "marker": {
             "colorbar": {
              "outlinewidth": 0,
              "ticks": ""
             }
            },
            "type": "scattermapbox"
           }
          ],
          "scatterpolar": [
           {
            "marker": {
             "colorbar": {
              "outlinewidth": 0,
              "ticks": ""
             }
            },
            "type": "scatterpolar"
           }
          ],
          "scatterpolargl": [
           {
            "marker": {
             "colorbar": {
              "outlinewidth": 0,
              "ticks": ""
             }
            },
            "type": "scatterpolargl"
           }
          ],
          "scatterternary": [
           {
            "marker": {
             "colorbar": {
              "outlinewidth": 0,
              "ticks": ""
             }
            },
            "type": "scatterternary"
           }
          ],
          "surface": [
           {
            "colorbar": {
             "outlinewidth": 0,
             "ticks": ""
            },
            "colorscale": [
             [
              0,
              "#0d0887"
             ],
             [
              0.1111111111111111,
              "#46039f"
             ],
             [
              0.2222222222222222,
              "#7201a8"
             ],
             [
              0.3333333333333333,
              "#9c179e"
             ],
             [
              0.4444444444444444,
              "#bd3786"
             ],
             [
              0.5555555555555556,
              "#d8576b"
             ],
             [
              0.6666666666666666,
              "#ed7953"
             ],
             [
              0.7777777777777778,
              "#fb9f3a"
             ],
             [
              0.8888888888888888,
              "#fdca26"
             ],
             [
              1,
              "#f0f921"
             ]
            ],
            "type": "surface"
           }
          ],
          "table": [
           {
            "cells": {
             "fill": {
              "color": "#EBF0F8"
             },
             "line": {
              "color": "white"
             }
            },
            "header": {
             "fill": {
              "color": "#C8D4E3"
             },
             "line": {
              "color": "white"
             }
            },
            "type": "table"
           }
          ]
         },
         "layout": {
          "annotationdefaults": {
           "arrowcolor": "#2a3f5f",
           "arrowhead": 0,
           "arrowwidth": 1
          },
          "autotypenumbers": "strict",
          "coloraxis": {
           "colorbar": {
            "outlinewidth": 0,
            "ticks": ""
           }
          },
          "colorscale": {
           "diverging": [
            [
             0,
             "#8e0152"
            ],
            [
             0.1,
             "#c51b7d"
            ],
            [
             0.2,
             "#de77ae"
            ],
            [
             0.3,
             "#f1b6da"
            ],
            [
             0.4,
             "#fde0ef"
            ],
            [
             0.5,
             "#f7f7f7"
            ],
            [
             0.6,
             "#e6f5d0"
            ],
            [
             0.7,
             "#b8e186"
            ],
            [
             0.8,
             "#7fbc41"
            ],
            [
             0.9,
             "#4d9221"
            ],
            [
             1,
             "#276419"
            ]
           ],
           "sequential": [
            [
             0,
             "#0d0887"
            ],
            [
             0.1111111111111111,
             "#46039f"
            ],
            [
             0.2222222222222222,
             "#7201a8"
            ],
            [
             0.3333333333333333,
             "#9c179e"
            ],
            [
             0.4444444444444444,
             "#bd3786"
            ],
            [
             0.5555555555555556,
             "#d8576b"
            ],
            [
             0.6666666666666666,
             "#ed7953"
            ],
            [
             0.7777777777777778,
             "#fb9f3a"
            ],
            [
             0.8888888888888888,
             "#fdca26"
            ],
            [
             1,
             "#f0f921"
            ]
           ],
           "sequentialminus": [
            [
             0,
             "#0d0887"
            ],
            [
             0.1111111111111111,
             "#46039f"
            ],
            [
             0.2222222222222222,
             "#7201a8"
            ],
            [
             0.3333333333333333,
             "#9c179e"
            ],
            [
             0.4444444444444444,
             "#bd3786"
            ],
            [
             0.5555555555555556,
             "#d8576b"
            ],
            [
             0.6666666666666666,
             "#ed7953"
            ],
            [
             0.7777777777777778,
             "#fb9f3a"
            ],
            [
             0.8888888888888888,
             "#fdca26"
            ],
            [
             1,
             "#f0f921"
            ]
           ]
          },
          "colorway": [
           "#636efa",
           "#EF553B",
           "#00cc96",
           "#ab63fa",
           "#FFA15A",
           "#19d3f3",
           "#FF6692",
           "#B6E880",
           "#FF97FF",
           "#FECB52"
          ],
          "font": {
           "color": "#2a3f5f"
          },
          "geo": {
           "bgcolor": "white",
           "lakecolor": "white",
           "landcolor": "#E5ECF6",
           "showlakes": true,
           "showland": true,
           "subunitcolor": "white"
          },
          "hoverlabel": {
           "align": "left"
          },
          "hovermode": "closest",
          "mapbox": {
           "style": "light"
          },
          "paper_bgcolor": "white",
          "plot_bgcolor": "#E5ECF6",
          "polar": {
           "angularaxis": {
            "gridcolor": "white",
            "linecolor": "white",
            "ticks": ""
           },
           "bgcolor": "#E5ECF6",
           "radialaxis": {
            "gridcolor": "white",
            "linecolor": "white",
            "ticks": ""
           }
          },
          "scene": {
           "xaxis": {
            "backgroundcolor": "#E5ECF6",
            "gridcolor": "white",
            "gridwidth": 2,
            "linecolor": "white",
            "showbackground": true,
            "ticks": "",
            "zerolinecolor": "white"
           },
           "yaxis": {
            "backgroundcolor": "#E5ECF6",
            "gridcolor": "white",
            "gridwidth": 2,
            "linecolor": "white",
            "showbackground": true,
            "ticks": "",
            "zerolinecolor": "white"
           },
           "zaxis": {
            "backgroundcolor": "#E5ECF6",
            "gridcolor": "white",
            "gridwidth": 2,
            "linecolor": "white",
            "showbackground": true,
            "ticks": "",
            "zerolinecolor": "white"
           }
          },
          "shapedefaults": {
           "line": {
            "color": "#2a3f5f"
           }
          },
          "ternary": {
           "aaxis": {
            "gridcolor": "white",
            "linecolor": "white",
            "ticks": ""
           },
           "baxis": {
            "gridcolor": "white",
            "linecolor": "white",
            "ticks": ""
           },
           "bgcolor": "#E5ECF6",
           "caxis": {
            "gridcolor": "white",
            "linecolor": "white",
            "ticks": ""
           }
          },
          "title": {
           "x": 0.05
          },
          "xaxis": {
           "automargin": true,
           "gridcolor": "white",
           "linecolor": "white",
           "ticks": "",
           "title": {
            "standoff": 15
           },
           "zerolinecolor": "white",
           "zerolinewidth": 2
          },
          "yaxis": {
           "automargin": true,
           "gridcolor": "white",
           "linecolor": "white",
           "ticks": "",
           "title": {
            "standoff": 15
           },
           "zerolinecolor": "white",
           "zerolinewidth": 2
          }
         }
        },
        "title": {
         "font": {
          "size": 16
         },
         "text": "Network Graph"
        },
        "width": 600,
        "xaxis": {
         "showgrid": false
        },
        "yaxis": {
         "showgrid": false
        }
       }
      }
     },
     "metadata": {},
     "output_type": "display_data"
    }
   ],
   "source": [
    "import plotly.graph_objects as go\n",
    "import networkx as nx\n",
    "\n",
    "# Create a sample graph (simple graph for demonstration)\n",
    "G = nx.erdos_renyi_graph(10, 0.3)\n",
    "\n",
    "# Get node positions using a layout algorithm (spring layout for 2D)\n",
    "pos = nx.spring_layout(G)\n",
    "\n",
    "# Create lists for node positions and edge positions\n",
    "edge_x = []\n",
    "edge_y = []\n",
    "for edge in G.edges():\n",
    "    x0, y0 = pos[edge[0]]\n",
    "    x1, y1 = pos[edge[1]]\n",
    "    edge_x.append(x0)\n",
    "    edge_x.append(x1)\n",
    "    edge_y.append(y0)\n",
    "    edge_y.append(y1)\n",
    "\n",
    "# Create lists for node positions and node labels\n",
    "node_x = []\n",
    "node_y = []\n",
    "for node in G.nodes():\n",
    "    x, y = pos[node]\n",
    "    node_x.append(x)\n",
    "    node_y.append(y)\n",
    "\n",
    "# Create a scatter plot for nodes\n",
    "node_trace = go.Scatter(\n",
    "    x=node_x, y=node_y,\n",
    "    mode='markers',\n",
    "    hoverinfo='text',\n",
    "    marker=dict(\n",
    "        showscale=True,\n",
    "        colorscale='YlGnBu',\n",
    "        size=10,\n",
    "        colorbar=dict(\n",
    "            thickness=15,\n",
    "            title='Node Connections'\n",
    "        )\n",
    "    )\n",
    ")\n",
    "\n",
    "# Create a scatter plot for edges\n",
    "edge_trace = go.Scatter(\n",
    "    x=edge_x, y=edge_y,\n",
    "    line=dict(width=0.5, color='#888'),\n",
    "    hoverinfo='none',\n",
    "    mode='lines'\n",
    ")\n",
    "\n",
    "# Create the figure with both nodes and edges\n",
    "fig = go.Figure(data=[edge_trace, node_trace],\n",
    "                layout=go.Layout(\n",
    "                    title=\"Network Graph\",\n",
    "                    title_font_size=16,  # Corrected property\n",
    "                    showlegend=False,\n",
    "                    hovermode='closest',\n",
    "                    plot_bgcolor='rgb(255, 255, 255)',\n",
    "                    xaxis=dict(showgrid=False),\n",
    "                    yaxis=dict(showgrid=False),\n",
    "                    height=600,  # Adjust height as needed\n",
    "                    width=600   # Adjust width as needed\n",
    "                ))\n",
    "\n",
    "# Show the plot\n",
    "fig.show()\n"
   ]
  },
  {
   "cell_type": "markdown",
   "metadata": {},
   "source": [
    "The Final working and effective knowledge graph is made using the below code : "
   ]
  },
  {
   "cell_type": "code",
   "execution_count": null,
   "metadata": {},
   "outputs": [],
   "source": [
    "import json\n",
    "from pyvis.network import Network\n",
    "import networkx as nx\n",
    "\n",
    "# Load the dataset from JSON file\n",
    "with open(\"/Users/bisman/Documents/ECS 260/Project github/CodeRefineAI/dataset/RQ1KG/Inefficient_reasoning_bter.json\", \"r\") as file:\n",
    "    data = json.load(file)\n",
    "\n",
    "# Create a NetworkX graph\n",
    "G = nx.Graph()\n",
    "\n",
    "# Create unique nodes for categories\n",
    "confidence_levels = set()\n",
    "sentiments = set()\n",
    "inefficiencies = set()\n",
    "\n",
    "# Add nodes for each question and their respective attributes\n",
    "for entry in data:\n",
    "    q_id = entry[\"question_id\"]\n",
    "    confidence = entry[\"confidence_level\"]\n",
    "    sentiment = entry[\"sentiment\"]\n",
    "    reasoning = entry[\"reasoning\"]\n",
    "\n",
    "    # Format reasoning with actual line breaks\n",
    "    formatted_reasoning = \"\\n\".join(reasoning[i:i+80] for i in range(0, len(reasoning), 80))\n",
    "\n",
    "    # Ensure unique category nodes\n",
    "    confidence_levels.add(confidence)\n",
    "    sentiments.add(sentiment)\n",
    "\n",
    "    # Add inefficiency categories\n",
    "    for ineff in entry[\"inefficiencies\"]:\n",
    "        inefficiencies.add(ineff)\n",
    "\n",
    "    # Add question node with formatted reasoning\n",
    "    G.add_node(q_id, label=f\"Q{q_id}\", shape=\"circle\", title=formatted_reasoning)\n",
    "\n",
    "    # Connect question to confidence level, sentiment, and inefficiencies\n",
    "    G.add_edge(q_id, confidence)\n",
    "    G.add_edge(q_id, sentiment)\n",
    "    for ineff in entry[\"inefficiencies\"]:\n",
    "        G.add_edge(q_id, ineff)\n",
    "\n",
    "# Add category nodes to the graph\n",
    "for conf in confidence_levels:\n",
    "    G.add_node(conf, label=conf, color=\"red\", shape=\"square\")\n",
    "\n",
    "for sent in sentiments:\n",
    "    G.add_node(sent, label=sent, color=\"blue\", shape=\"square\")\n",
    "\n",
    "for ineff in inefficiencies:\n",
    "    G.add_node(ineff, label=ineff, color=\"green\", shape=\"square\")\n",
    "\n",
    "# Create a PyVis network\n",
    "net = Network(notebook=True, directed=False)\n",
    "\n",
    "# Enable physics to improve layout\n",
    "net.toggle_physics(True)\n",
    "\n",
    "# Convert to PyVis format\n",
    "net.from_nx(G)\n",
    "\n",
    "# Save and display the graph\n",
    "net.save_graph(\"/Users/bisman/Documents/ECS 260/Project github/CodeRefineAI/llm/RQ1/my_interactive_graph.html\")\n",
    "print(\"Graph saved as knowledge_graph.html\")\n"
   ]
  },
  {
   "cell_type": "markdown",
   "metadata": {},
   "source": [
    "Tried to reduce the categories of inefficiency thinking to make a simpler graph but the edges got even more complex using the below code : "
   ]
  },
  {
   "cell_type": "code",
   "execution_count": 2,
   "metadata": {},
   "outputs": [
    {
     "name": "stdout",
     "output_type": "stream",
     "text": [
      "Warning: When  cdn_resources is 'local' jupyter notebook has issues displaying graphics on chrome/safari. Use cdn_resources='in_line' or cdn_resources='remote' if you have issues viewing graphics in a notebook.\n",
      "Graph saved as knowledge_graph.html\n"
     ]
    }
   ],
   "source": [
    "import json\n",
    "from pyvis.network import Network\n",
    "import networkx as nx\n",
    "\n",
    "# Load the dataset from JSON file\n",
    "with open(\"/Users/bisman/Documents/ECS 260/Project github/CodeRefineAI/dataset/RQ1KG/Inefficient_reasoning_improving.json\", \"r\") as file:\n",
    "    data = json.load(file)\n",
    "\n",
    "# Create a NetworkX graph\n",
    "G = nx.Graph()\n",
    "\n",
    "# Create unique nodes for categories\n",
    "confidence_levels = set()\n",
    "sentiments = set()\n",
    "inefficiencies = set()\n",
    "\n",
    "# Add nodes for each question and their respective attributes\n",
    "for entry in data:\n",
    "    q_id = entry[\"question_id\"]\n",
    "    confidence = entry[\"confidence_level\"]\n",
    "    sentiment = entry[\"sentiment\"]\n",
    "    reasoning = entry[\"reasoning\"]\n",
    "\n",
    "    # Format reasoning with actual line breaks\n",
    "    formatted_reasoning = \"\\n\".join(reasoning[i:i+80] for i in range(0, len(reasoning), 80))\n",
    "\n",
    "    # Ensure unique category nodes\n",
    "    confidence_levels.add(confidence)\n",
    "    sentiments.add(sentiment)\n",
    "\n",
    "    # Add inefficiency categories\n",
    "    for ineff in entry[\"inefficiencies\"]:\n",
    "        inefficiencies.add(ineff)\n",
    "\n",
    "    # Add question node with formatted reasoning\n",
    "    G.add_node(q_id, label=f\"Q{q_id}\", shape=\"circle\", title=formatted_reasoning)\n",
    "\n",
    "    # Connect question to confidence level, sentiment, and inefficiencies\n",
    "    G.add_edge(q_id, confidence)\n",
    "    G.add_edge(q_id, sentiment)\n",
    "    for ineff in entry[\"inefficiencies\"]:\n",
    "        G.add_edge(q_id, ineff)\n",
    "\n",
    "# Add category nodes to the graph\n",
    "for conf in confidence_levels:\n",
    "    G.add_node(conf, label=conf, color=\"red\", shape=\"square\")\n",
    "\n",
    "for sent in sentiments:\n",
    "    G.add_node(sent, label=sent, color=\"blue\", shape=\"square\")\n",
    "\n",
    "for ineff in inefficiencies:\n",
    "    G.add_node(ineff, label=ineff, color=\"green\", shape=\"square\")\n",
    "\n",
    "# Create a PyVis network\n",
    "net = Network(notebook=True, directed=False)\n",
    "\n",
    "# Enable physics to improve layout\n",
    "net.toggle_physics(True)\n",
    "\n",
    "# Convert to PyVis format\n",
    "net.from_nx(G)\n",
    "\n",
    "# Save and display the graph\n",
    "net.save_graph(\"/Users/bisman/Documents/ECS 260/Project github/CodeRefineAI/llm/RQ1/my_interactive_graph_new.html\")\n",
    "print(\"Graph saved as knowledge_graph.html\")\n"
   ]
  },
  {
   "cell_type": "markdown",
   "metadata": {},
   "source": [
    "net.save_graph(\"/Users/bisman/Documents/ECS 260/Project github/CodeRefineAI/llm/RQ1/my_interactive_graph.html\")\n",
    "/Users/bisman/Documents/ECS 260/Project github/CodeRefineAI/dataset/RQ1KG/Inefficient_reasoning_bter.json"
   ]
  },
  {
   "cell_type": "markdown",
   "metadata": {},
   "source": [
    "Tested a better layout of the graph using the working code above : "
   ]
  },
  {
   "cell_type": "code",
   "execution_count": 9,
   "metadata": {},
   "outputs": [
    {
     "name": "stdout",
     "output_type": "stream",
     "text": [
      "Warning: When  cdn_resources is 'local' jupyter notebook has issues displaying graphics on chrome/safari. Use cdn_resources='in_line' or cdn_resources='remote' if you have issues viewing graphics in a notebook.\n",
      "Structured graph saved as /Users/bisman/Documents/ECS 260/Project github/CodeRefineAI/llm/RQ1/structured_interactive_graph.html\n"
     ]
    }
   ],
   "source": [
    "import json\n",
    "from pyvis.network import Network\n",
    "import networkx as nx\n",
    "\n",
    "# Load the dataset from JSON file\n",
    "with open(\"/Users/bisman/Documents/ECS 260/Project github/CodeRefineAI/dataset/RQ1KG/Inefficient_reasoning_bter.json\", \"r\") as file:\n",
    "    data = json.load(file)\n",
    "\n",
    "# Create a NetworkX graph\n",
    "G = nx.Graph()\n",
    "\n",
    "# Create unique nodes for categories\n",
    "confidence_levels = set()\n",
    "sentiments = set()\n",
    "inefficiencies = set()\n",
    "\n",
    "# Add nodes for each question and their respective attributes\n",
    "for entry in data:\n",
    "    q_id = entry[\"question_id\"]\n",
    "    confidence = entry[\"confidence_level\"]\n",
    "    sentiment = entry[\"sentiment\"]\n",
    "    reasoning = entry[\"reasoning\"]\n",
    "\n",
    "    # Format reasoning with actual line breaks\n",
    "    formatted_reasoning = \"\\n\".join(reasoning[i:i+80] for i in range(0, len(reasoning), 80))\n",
    "\n",
    "    # Ensure unique category nodes\n",
    "    confidence_levels.add(confidence)\n",
    "    sentiments.add(sentiment)\n",
    "    \n",
    "    # Add inefficiency categories\n",
    "    for ineff in entry[\"inefficiencies\"]:\n",
    "        inefficiencies.add(ineff)\n",
    "\n",
    "    # Add question node with formatted reasoning\n",
    "    G.add_node(q_id, label=f\"Q{q_id}\", shape=\"circle\", title=formatted_reasoning)\n",
    "\n",
    "    # Connect question to category nodes (only one edge per category type)\n",
    "    G.add_edge(q_id, confidence)\n",
    "    G.add_edge(q_id, sentiment)\n",
    "    # Use a single edge to link inefficiencies with the question\n",
    "    for ineff in entry[\"inefficiencies\"]:\n",
    "        G.add_edge(q_id, ineff)\n",
    "\n",
    "# Add category nodes to the graph with distinct colors for clarity\n",
    "for conf in confidence_levels:\n",
    "    G.add_node(conf, label=conf, color=\"red\", shape=\"square\", size=25)\n",
    "\n",
    "for sent in sentiments:\n",
    "    G.add_node(sent, label=sent, color=\"blue\", shape=\"square\", size=25)\n",
    "\n",
    "for ineff in inefficiencies:\n",
    "    G.add_node(ineff, label=ineff, color=\"green\", shape=\"square\", size=25)\n",
    "\n",
    "# Create a PyVis network\n",
    "net = Network(notebook=True, directed=False)\n",
    "\n",
    "# Enable physics for better layout but make it more structured\n",
    "net.toggle_physics(True)\n",
    "\n",
    "# Convert the graph to PyVis format and apply better physics for a less cluttered graph\n",
    "net.from_nx(G)\n",
    "\n",
    "# Adjusting the physics layout to organize nodes better\n",
    "net.set_options(\"\"\"\n",
    "var options = {\n",
    "  \"nodes\": {\n",
    "    \"shape\": \"circle\",\n",
    "    \"size\": 15\n",
    "  },\n",
    "  \"edges\": {\n",
    "    \"smooth\": {\n",
    "      \"type\": \"continuous\"\n",
    "    },\n",
    "    \"width\": 1\n",
    "  },\n",
    "  \"physics\": {\n",
    "    \"barnesHut\": {\n",
    "      \"gravitationalConstant\": -5000,\n",
    "      \"centralGravity\": 0.2,\n",
    "      \"springLength\": 200,\n",
    "      \"springConstant\": 0.05,\n",
    "      \"damping\": 0.15,\n",
    "      \"avoidOverlap\": 1.2\n",
    "    },\n",
    "    \"minVelocity\": 0.75\n",
    "  }\n",
    "}\n",
    "\"\"\")\n",
    "\n",
    "# Manually adjust node positions (category nodes in a structured manner)\n",
    "category_positions = {\n",
    "    \"red\": {\"x\": 0, \"y\": 100},  # Confidence category\n",
    "    \"blue\": {\"x\": 200, \"y\": 100},  # Sentiment category\n",
    "    \"green\": {\"x\": 400, \"y\": 100}  # Inefficiency category\n",
    "}\n",
    "\n",
    "# Manually position the category nodes\n",
    "for node in G.nodes:\n",
    "    if node in confidence_levels:\n",
    "        net.get_node(node)[\"x\"] = category_positions[\"red\"][\"x\"]\n",
    "        net.get_node(node)[\"y\"] = category_positions[\"red\"][\"y\"]\n",
    "    elif node in sentiments:\n",
    "        net.get_node(node)[\"x\"] = category_positions[\"blue\"][\"x\"]\n",
    "        net.get_node(node)[\"y\"] = category_positions[\"blue\"][\"y\"]\n",
    "    elif node in inefficiencies:\n",
    "        net.get_node(node)[\"x\"] = category_positions[\"green\"][\"x\"]\n",
    "        net.get_node(node)[\"y\"] = category_positions[\"green\"][\"y\"]\n",
    "\n",
    "# Save and display the graph\n",
    "output_file = \"/Users/bisman/Documents/ECS 260/Project github/CodeRefineAI/llm/RQ1/structured_interactive_graph.html\"\n",
    "net.save_graph(output_file)\n",
    "print(f\"Structured graph saved as {output_file}\")\n"
   ]
  }
 ],
 "metadata": {
  "kernelspec": {
   "display_name": "Python 3",
   "language": "python",
   "name": "python3"
  },
  "language_info": {
   "codemirror_mode": {
    "name": "ipython",
    "version": 3
   },
   "file_extension": ".py",
   "mimetype": "text/x-python",
   "name": "python",
   "nbconvert_exporter": "python",
   "pygments_lexer": "ipython3",
   "version": "3.12.9"
  }
 },
 "nbformat": 4,
 "nbformat_minor": 2
}
