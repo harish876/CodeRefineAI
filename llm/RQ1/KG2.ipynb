{
 "cells": [
  {
   "cell_type": "markdown",
   "metadata": {},
   "source": [
    "The final library and code used is after experimentation"
   ]
  },
  {
   "cell_type": "markdown",
   "metadata": {},
   "source": [
    "Experimenting different approaches :"
   ]
  },
  {
   "cell_type": "code",
   "execution_count": 1,
   "metadata": {},
   "outputs": [
    {
     "name": "stdout",
     "output_type": "stream",
     "text": [
      "Defaulting to user installation because normal site-packages is not writeable\n",
      "Requirement already satisfied: networkx in c:\\users\\ouatt\\appdata\\local\\packages\\pythonsoftwarefoundation.python.3.12_qbz5n2kfra8p0\\localcache\\local-packages\\python312\\site-packages (3.4.1)\n",
      "Requirement already satisfied: matplotlib in c:\\users\\ouatt\\appdata\\local\\packages\\pythonsoftwarefoundation.python.3.12_qbz5n2kfra8p0\\localcache\\local-packages\\python312\\site-packages (3.9.2)\n",
      "Collecting py2neo\n",
      "  Downloading py2neo-2021.2.4-py2.py3-none-any.whl.metadata (9.9 kB)\n",
      "Collecting pyvis\n",
      "  Downloading pyvis-0.3.2-py3-none-any.whl.metadata (1.7 kB)\n",
      "Requirement already satisfied: contourpy>=1.0.1 in c:\\users\\ouatt\\appdata\\local\\packages\\pythonsoftwarefoundation.python.3.12_qbz5n2kfra8p0\\localcache\\local-packages\\python312\\site-packages (from matplotlib) (1.3.0)\n",
      "Requirement already satisfied: cycler>=0.10 in c:\\users\\ouatt\\appdata\\local\\packages\\pythonsoftwarefoundation.python.3.12_qbz5n2kfra8p0\\localcache\\local-packages\\python312\\site-packages (from matplotlib) (0.12.1)\n",
      "Requirement already satisfied: fonttools>=4.22.0 in c:\\users\\ouatt\\appdata\\local\\packages\\pythonsoftwarefoundation.python.3.12_qbz5n2kfra8p0\\localcache\\local-packages\\python312\\site-packages (from matplotlib) (4.54.1)\n",
      "Requirement already satisfied: kiwisolver>=1.3.1 in c:\\users\\ouatt\\appdata\\local\\packages\\pythonsoftwarefoundation.python.3.12_qbz5n2kfra8p0\\localcache\\local-packages\\python312\\site-packages (from matplotlib) (1.4.7)\n",
      "Requirement already satisfied: numpy>=1.23 in c:\\users\\ouatt\\appdata\\local\\packages\\pythonsoftwarefoundation.python.3.12_qbz5n2kfra8p0\\localcache\\local-packages\\python312\\site-packages (from matplotlib) (1.26.4)\n",
      "Requirement already satisfied: packaging>=20.0 in c:\\users\\ouatt\\appdata\\local\\packages\\pythonsoftwarefoundation.python.3.12_qbz5n2kfra8p0\\localcache\\local-packages\\python312\\site-packages (from matplotlib) (24.1)\n",
      "Requirement already satisfied: pillow>=8 in c:\\users\\ouatt\\appdata\\local\\packages\\pythonsoftwarefoundation.python.3.12_qbz5n2kfra8p0\\localcache\\local-packages\\python312\\site-packages (from matplotlib) (10.4.0)\n",
      "Requirement already satisfied: pyparsing>=2.3.1 in c:\\users\\ouatt\\appdata\\local\\packages\\pythonsoftwarefoundation.python.3.12_qbz5n2kfra8p0\\localcache\\local-packages\\python312\\site-packages (from matplotlib) (3.2.0)\n",
      "Requirement already satisfied: python-dateutil>=2.7 in c:\\users\\ouatt\\appdata\\local\\packages\\pythonsoftwarefoundation.python.3.12_qbz5n2kfra8p0\\localcache\\local-packages\\python312\\site-packages (from matplotlib) (2.9.0.post0)\n",
      "Requirement already satisfied: certifi in c:\\users\\ouatt\\appdata\\local\\packages\\pythonsoftwarefoundation.python.3.12_qbz5n2kfra8p0\\localcache\\local-packages\\python312\\site-packages (from py2neo) (2024.8.30)\n",
      "Collecting interchange~=2021.0.4 (from py2neo)\n",
      "  Downloading interchange-2021.0.4-py2.py3-none-any.whl.metadata (1.9 kB)\n",
      "Collecting monotonic (from py2neo)\n",
      "  Downloading monotonic-1.6-py2.py3-none-any.whl.metadata (1.5 kB)\n",
      "Collecting pansi>=2020.7.3 (from py2neo)\n",
      "  Downloading pansi-2024.11.0-py2.py3-none-any.whl.metadata (3.1 kB)\n",
      "Requirement already satisfied: pygments>=2.0.0 in c:\\users\\ouatt\\appdata\\local\\packages\\pythonsoftwarefoundation.python.3.12_qbz5n2kfra8p0\\localcache\\local-packages\\python312\\site-packages (from py2neo) (2.18.0)\n",
      "Requirement already satisfied: six>=1.15.0 in c:\\users\\ouatt\\appdata\\local\\packages\\pythonsoftwarefoundation.python.3.12_qbz5n2kfra8p0\\localcache\\local-packages\\python312\\site-packages (from py2neo) (1.16.0)\n",
      "Requirement already satisfied: urllib3 in c:\\users\\ouatt\\appdata\\local\\packages\\pythonsoftwarefoundation.python.3.12_qbz5n2kfra8p0\\localcache\\local-packages\\python312\\site-packages (from py2neo) (2.2.3)\n",
      "Requirement already satisfied: ipython>=5.3.0 in c:\\users\\ouatt\\appdata\\local\\packages\\pythonsoftwarefoundation.python.3.12_qbz5n2kfra8p0\\localcache\\local-packages\\python312\\site-packages (from pyvis) (8.28.0)\n",
      "Requirement already satisfied: jinja2>=2.9.6 in c:\\users\\ouatt\\appdata\\local\\packages\\pythonsoftwarefoundation.python.3.12_qbz5n2kfra8p0\\localcache\\local-packages\\python312\\site-packages (from pyvis) (3.1.4)\n",
      "Collecting jsonpickle>=1.4.1 (from pyvis)\n",
      "  Downloading jsonpickle-4.0.2-py3-none-any.whl.metadata (8.2 kB)\n",
      "Requirement already satisfied: pytz in c:\\users\\ouatt\\appdata\\local\\packages\\pythonsoftwarefoundation.python.3.12_qbz5n2kfra8p0\\localcache\\local-packages\\python312\\site-packages (from interchange~=2021.0.4->py2neo) (2024.2)\n",
      "Requirement already satisfied: decorator in c:\\users\\ouatt\\appdata\\local\\packages\\pythonsoftwarefoundation.python.3.12_qbz5n2kfra8p0\\localcache\\local-packages\\python312\\site-packages (from ipython>=5.3.0->pyvis) (5.1.1)\n",
      "Requirement already satisfied: jedi>=0.16 in c:\\users\\ouatt\\appdata\\local\\packages\\pythonsoftwarefoundation.python.3.12_qbz5n2kfra8p0\\localcache\\local-packages\\python312\\site-packages (from ipython>=5.3.0->pyvis) (0.19.1)\n",
      "Requirement already satisfied: matplotlib-inline in c:\\users\\ouatt\\appdata\\local\\packages\\pythonsoftwarefoundation.python.3.12_qbz5n2kfra8p0\\localcache\\local-packages\\python312\\site-packages (from ipython>=5.3.0->pyvis) (0.1.7)\n",
      "Requirement already satisfied: prompt-toolkit<3.1.0,>=3.0.41 in c:\\users\\ouatt\\appdata\\local\\packages\\pythonsoftwarefoundation.python.3.12_qbz5n2kfra8p0\\localcache\\local-packages\\python312\\site-packages (from ipython>=5.3.0->pyvis) (3.0.48)\n",
      "Requirement already satisfied: stack-data in c:\\users\\ouatt\\appdata\\local\\packages\\pythonsoftwarefoundation.python.3.12_qbz5n2kfra8p0\\localcache\\local-packages\\python312\\site-packages (from ipython>=5.3.0->pyvis) (0.6.3)\n",
      "Requirement already satisfied: traitlets>=5.13.0 in c:\\users\\ouatt\\appdata\\local\\packages\\pythonsoftwarefoundation.python.3.12_qbz5n2kfra8p0\\localcache\\local-packages\\python312\\site-packages (from ipython>=5.3.0->pyvis) (5.14.3)\n",
      "Requirement already satisfied: colorama in c:\\users\\ouatt\\appdata\\local\\packages\\pythonsoftwarefoundation.python.3.12_qbz5n2kfra8p0\\localcache\\local-packages\\python312\\site-packages (from ipython>=5.3.0->pyvis) (0.4.6)\n",
      "Requirement already satisfied: MarkupSafe>=2.0 in c:\\users\\ouatt\\appdata\\local\\packages\\pythonsoftwarefoundation.python.3.12_qbz5n2kfra8p0\\localcache\\local-packages\\python312\\site-packages (from jinja2>=2.9.6->pyvis) (3.0.1)\n",
      "Requirement already satisfied: parso<0.9.0,>=0.8.3 in c:\\users\\ouatt\\appdata\\local\\packages\\pythonsoftwarefoundation.python.3.12_qbz5n2kfra8p0\\localcache\\local-packages\\python312\\site-packages (from jedi>=0.16->ipython>=5.3.0->pyvis) (0.8.4)\n",
      "Requirement already satisfied: wcwidth in c:\\users\\ouatt\\appdata\\local\\packages\\pythonsoftwarefoundation.python.3.12_qbz5n2kfra8p0\\localcache\\local-packages\\python312\\site-packages (from prompt-toolkit<3.1.0,>=3.0.41->ipython>=5.3.0->pyvis) (0.2.13)\n",
      "Requirement already satisfied: executing>=1.2.0 in c:\\users\\ouatt\\appdata\\local\\packages\\pythonsoftwarefoundation.python.3.12_qbz5n2kfra8p0\\localcache\\local-packages\\python312\\site-packages (from stack-data->ipython>=5.3.0->pyvis) (2.1.0)\n",
      "Requirement already satisfied: asttokens>=2.1.0 in c:\\users\\ouatt\\appdata\\local\\packages\\pythonsoftwarefoundation.python.3.12_qbz5n2kfra8p0\\localcache\\local-packages\\python312\\site-packages (from stack-data->ipython>=5.3.0->pyvis) (2.4.1)\n",
      "Requirement already satisfied: pure-eval in c:\\users\\ouatt\\appdata\\local\\packages\\pythonsoftwarefoundation.python.3.12_qbz5n2kfra8p0\\localcache\\local-packages\\python312\\site-packages (from stack-data->ipython>=5.3.0->pyvis) (0.2.3)\n",
      "Downloading py2neo-2021.2.4-py2.py3-none-any.whl (177 kB)\n",
      "Downloading pyvis-0.3.2-py3-none-any.whl (756 kB)\n",
      "   ---------------------------------------- 0.0/756.0 kB ? eta -:--:--\n",
      "   --------------------------------------- 756.0/756.0 kB 10.5 MB/s eta 0:00:00\n",
      "Downloading interchange-2021.0.4-py2.py3-none-any.whl (28 kB)\n",
      "Downloading jsonpickle-4.0.2-py3-none-any.whl (46 kB)\n",
      "Downloading pansi-2024.11.0-py2.py3-none-any.whl (26 kB)\n",
      "Downloading monotonic-1.6-py2.py3-none-any.whl (8.2 kB)\n",
      "Installing collected packages: monotonic, pansi, jsonpickle, interchange, py2neo, pyvis\n",
      "Successfully installed interchange-2021.0.4 jsonpickle-4.0.2 monotonic-1.6 pansi-2024.11.0 py2neo-2021.2.4 pyvis-0.3.2\n",
      "Note: you may need to restart the kernel to use updated packages.\n"
     ]
    }
   ],
   "source": [
    "pip install networkx matplotlib py2neo pyvis\n"
   ]
  },
  {
   "cell_type": "code",
   "execution_count": 2,
   "metadata": {},
   "outputs": [],
   "source": [
    "# import networkx as nx\n",
    "# import matplotlib.pyplot as plt\n",
    "\n",
    "# # Create a graph\n",
    "# G = nx.Graph()\n",
    "\n",
    "# # Add nodes (questions and inefficiencies)\n",
    "# G.add_node(1, label=\"Q1 - Inefficiencies\", confidence=\"Highly Confident\")\n",
    "# G.add_node(2, label=\"Nested Loops\")\n",
    "# G.add_node(3, label=\"Unnecessary Iteration\")\n",
    "# G.add_node(4, label=\"Incorrect Logic\")\n",
    "# G.add_node(5, label=\"Q2 - Inefficiencies\", confidence=\"Medium Confident\")\n",
    "# G.add_node(6, label=\"Excessive Variable Usage\")\n",
    "# G.add_node(7, label=\"Readability Issues\")\n",
    "\n",
    "# # Add edges (relationships between questions and inefficiencies)\n",
    "# G.add_edges_from([(1, 2), (1, 3), (1, 4), (5, 6), (5, 7)])\n",
    "\n",
    "# # Set up the layout\n",
    "# pos = nx.spring_layout(G, seed=42)  # positions for all nodes\n",
    "\n",
    "# # Draw the graph\n",
    "# plt.figure(figsize=(10, 8))\n",
    "# nx.draw_networkx_nodes(G, pos, node_size=3000, node_color=\"skyblue\")\n",
    "# nx.draw_networkx_labels(G, pos, font_size=12, font_weight=\"bold\")\n",
    "# nx.draw_networkx_edges(G, pos, width=2, alpha=0.7, edge_color=\"gray\")\n",
    "\n",
    "# # Show the plot\n",
    "# plt.title(\"Interactive Knowledge Graph\")\n",
    "# plt.axis(\"off\")  # Disable axis\n",
    "# plt.show()\n"
   ]
  },
  {
   "cell_type": "code",
   "execution_count": 3,
   "metadata": {},
   "outputs": [],
   "source": [
    "# from py2neo import Graph, Node, Relationship\n",
    "\n",
    "# # Connect to local Neo4j instance\n",
    "# graph = Graph(\"bolt://localhost:7687\", auth=(\"bismansingh\", \"bismansingh\"))\n",
    "\n",
    "# # Create nodes (questions and inefficiencies)\n",
    "# q1 = Node(\"Question\", label=\"Q1 - Inefficiencies\", confidence=\"Highly Confident\")\n",
    "# q2 = Node(\"Question\", label=\"Q2 - Inefficiencies\", confidence=\"Medium Confident\")\n",
    "# n1 = Node(\"Inefficiency\", label=\"Nested Loops\")\n",
    "# n2 = Node(\"Inefficiency\", label=\"Unnecessary Iteration\")\n",
    "# n3 = Node(\"Inefficiency\", label=\"Incorrect Logic\")\n",
    "\n",
    "# # Create relationships (edges between questions and inefficiencies)\n",
    "# r1 = Relationship(q1, \"HAS_INEFFICIENCY\", n1)\n",
    "# r2 = Relationship(q1, \"HAS_INEFFICIENCY\", n2)\n",
    "# r3 = Relationship(q1, \"HAS_INEFFICIENCY\", n3)\n",
    "\n",
    "# # Create the graph in Neo4j\n",
    "# graph.create(q1)\n",
    "# graph.create(q2)\n",
    "# graph.create(n1)\n",
    "# graph.create(n2)\n",
    "# graph.create(n3)\n",
    "# graph.create(r1)\n",
    "# graph.create(r2)\n",
    "# graph.create(r3)\n",
    "\n",
    "# # Once created, you can visualize the graph in the Neo4j Browser UI by querying it.\n"
   ]
  },
  {
   "cell_type": "code",
   "execution_count": null,
   "metadata": {},
   "outputs": [
    {
     "name": "stdout",
     "output_type": "stream",
     "text": [
      "Warning: When  cdn_resources is 'local' jupyter notebook has issues displaying graphics on chrome/safari. Use cdn_resources='in_line' or cdn_resources='remote' if you have issues viewing graphics in a notebook.\n"
     ]
    }
   ],
   "source": [
    "# from pyvis.network import Network\n",
    "# import networkx as nx\n",
    "\n",
    "# # Create a NetworkX graph\n",
    "# G = nx.Graph()\n",
    "# G.add_node(1, label=\"Q1 - Inefficiencies\", confidence=\"Highly Confident\")\n",
    "# G.add_node(2, label=\"Nested Loops\")\n",
    "# G.add_node(3, label=\"Unnecessary Iteration\")\n",
    "# G.add_node(4, label=\"Incorrect Logic\")\n",
    "# G.add_node(5, label=\"Q2 - Inefficiencies\", confidence=\"Medium Confident\")\n",
    "# G.add_node(6, label=\"Excessive Variable Usage\")\n",
    "# G.add_node(7, label=\"Readability Issues\")\n",
    "\n",
    "# G.add_edges_from([(1, 2), (1, 3), (1, 4), (5, 6), (5, 7)])\n",
    "\n",
    "# # Create a PyVis network from NetworkX\n",
    "# net = Network(notebook=True)\n",
    "\n",
    "# # Convert the NetworkX graph to PyVis format\n",
    "# net.from_nx(G)\n",
    "\n",
    "# # Show the interactive graph in the notebook or export it to HTML\n",
    "# net.save_graph(\"/Users/bisman/Documents/ECS 260/Project github/CodeRefineAI/llm/RQ1/my_interactive_graph.html\")\n"
   ]
  },
  {
   "cell_type": "code",
   "execution_count": null,
   "metadata": {},
   "outputs": [
    {
     "data": {
      "application/vnd.plotly.v1+json": {
       "config": {
        "plotlyServerURL": "https://plot.ly"
       },
       "data": [
        {
         "hoverinfo": "none",
         "line": {
          "color": "#888",
          "width": 0.5
         },
         "mode": "lines",
         "type": "scatter",
         "x": [
          0.7899293399464068,
          0.5756436927776267,
          0.7899293399464068,
          0.41209646317501547,
          -1,
          -0.6165511720069384,
          0.5756436927776267,
          0.41209646317501547,
          0.5756436927776267,
          0.11315918653382498,
          -0.05512953774766122,
          0.41209646317501547,
          -0.05512953774766122,
          -0.29617117967674556,
          0.41209646317501547,
          0.30530627289193296,
          -0.22828306589346092,
          -0.6165511720069384,
          -0.22828306589346092,
          0.11315918653382498,
          -0.29617117967674556,
          -0.6165511720069384,
          -0.29617117967674556,
          0.11315918653382498,
          0.30530627289193296,
          0.11315918653382498
         ],
         "y": [
          -0.44301679212734085,
          -0.13797914832774388,
          -0.44301679212734085,
          -0.4319215374099751,
          0.5834950640887644,
          0.3750722147535044,
          -0.13797914832774388,
          -0.4319215374099751,
          -0.13797914832774388,
          0.13506214233543806,
          -0.40895165289145324,
          -0.4319215374099751,
          -0.40895165289145324,
          0.0015656531277110771,
          -0.4319215374099751,
          -0.12527375416260714,
          0.4519478106137024,
          0.3750722147535044,
          0.4519478106137024,
          0.13506214233543806,
          0.0015656531277110771,
          0.3750722147535044,
          0.0015656531277110771,
          0.13506214233543806,
          -0.12527375416260714,
          0.13506214233543806
         ]
        },
        {
         "hoverinfo": "text",
         "marker": {
          "colorbar": {
           "thickness": 15,
           "title": {
            "text": "Node Connections"
           }
          },
          "colorscale": [
           [
            0,
            "rgb(255,255,217)"
           ],
           [
            0.125,
            "rgb(237,248,177)"
           ],
           [
            0.25,
            "rgb(199,233,180)"
           ],
           [
            0.375,
            "rgb(127,205,187)"
           ],
           [
            0.5,
            "rgb(65,182,196)"
           ],
           [
            0.625,
            "rgb(29,145,192)"
           ],
           [
            0.75,
            "rgb(34,94,168)"
           ],
           [
            0.875,
            "rgb(37,52,148)"
           ],
           [
            1,
            "rgb(8,29,88)"
           ]
          ],
          "showscale": true,
          "size": 10
         },
         "mode": "markers",
         "type": "scatter",
         "x": [
          0.7899293399464068,
          -1,
          0.5756436927776267,
          -0.05512953774766122,
          0.41209646317501547,
          -0.22828306589346092,
          -0.29617117967674556,
          -0.6165511720069384,
          0.30530627289193296,
          0.11315918653382498
         ],
         "y": [
          -0.44301679212734085,
          0.5834950640887644,
          -0.13797914832774388,
          -0.40895165289145324,
          -0.4319215374099751,
          0.4519478106137024,
          0.0015656531277110771,
          0.3750722147535044,
          -0.12527375416260714,
          0.13506214233543806
         ]
        }
       ],
       "layout": {
        "height": 600,
        "hovermode": "closest",
        "plot_bgcolor": "rgb(255, 255, 255)",
        "showlegend": false,
        "template": {
         "data": {
          "bar": [
           {
            "error_x": {
             "color": "#2a3f5f"
            },
            "error_y": {
             "color": "#2a3f5f"
            },
            "marker": {
             "line": {
              "color": "#E5ECF6",
              "width": 0.5
             },
             "pattern": {
              "fillmode": "overlay",
              "size": 10,
              "solidity": 0.2
             }
            },
            "type": "bar"
           }
          ],
          "barpolar": [
           {
            "marker": {
             "line": {
              "color": "#E5ECF6",
              "width": 0.5
             },
             "pattern": {
              "fillmode": "overlay",
              "size": 10,
              "solidity": 0.2
             }
            },
            "type": "barpolar"
           }
          ],
          "carpet": [
           {
            "aaxis": {
             "endlinecolor": "#2a3f5f",
             "gridcolor": "white",
             "linecolor": "white",
             "minorgridcolor": "white",
             "startlinecolor": "#2a3f5f"
            },
            "baxis": {
             "endlinecolor": "#2a3f5f",
             "gridcolor": "white",
             "linecolor": "white",
             "minorgridcolor": "white",
             "startlinecolor": "#2a3f5f"
            },
            "type": "carpet"
           }
          ],
          "choropleth": [
           {
            "colorbar": {
             "outlinewidth": 0,
             "ticks": ""
            },
            "type": "choropleth"
           }
          ],
          "contour": [
           {
            "colorbar": {
             "outlinewidth": 0,
             "ticks": ""
            },
            "colorscale": [
             [
              0,
              "#0d0887"
             ],
             [
              0.1111111111111111,
              "#46039f"
             ],
             [
              0.2222222222222222,
              "#7201a8"
             ],
             [
              0.3333333333333333,
              "#9c179e"
             ],
             [
              0.4444444444444444,
              "#bd3786"
             ],
             [
              0.5555555555555556,
              "#d8576b"
             ],
             [
              0.6666666666666666,
              "#ed7953"
             ],
             [
              0.7777777777777778,
              "#fb9f3a"
             ],
             [
              0.8888888888888888,
              "#fdca26"
             ],
             [
              1,
              "#f0f921"
             ]
            ],
            "type": "contour"
           }
          ],
          "contourcarpet": [
           {
            "colorbar": {
             "outlinewidth": 0,
             "ticks": ""
            },
            "type": "contourcarpet"
           }
          ],
          "heatmap": [
           {
            "colorbar": {
             "outlinewidth": 0,
             "ticks": ""
            },
            "colorscale": [
             [
              0,
              "#0d0887"
             ],
             [
              0.1111111111111111,
              "#46039f"
             ],
             [
              0.2222222222222222,
              "#7201a8"
             ],
             [
              0.3333333333333333,
              "#9c179e"
             ],
             [
              0.4444444444444444,
              "#bd3786"
             ],
             [
              0.5555555555555556,
              "#d8576b"
             ],
             [
              0.6666666666666666,
              "#ed7953"
             ],
             [
              0.7777777777777778,
              "#fb9f3a"
             ],
             [
              0.8888888888888888,
              "#fdca26"
             ],
             [
              1,
              "#f0f921"
             ]
            ],
            "type": "heatmap"
           }
          ],
          "histogram": [
           {
            "marker": {
             "pattern": {
              "fillmode": "overlay",
              "size": 10,
              "solidity": 0.2
             }
            },
            "type": "histogram"
           }
          ],
          "histogram2d": [
           {
            "colorbar": {
             "outlinewidth": 0,
             "ticks": ""
            },
            "colorscale": [
             [
              0,
              "#0d0887"
             ],
             [
              0.1111111111111111,
              "#46039f"
             ],
             [
              0.2222222222222222,
              "#7201a8"
             ],
             [
              0.3333333333333333,
              "#9c179e"
             ],
             [
              0.4444444444444444,
              "#bd3786"
             ],
             [
              0.5555555555555556,
              "#d8576b"
             ],
             [
              0.6666666666666666,
              "#ed7953"
             ],
             [
              0.7777777777777778,
              "#fb9f3a"
             ],
             [
              0.8888888888888888,
              "#fdca26"
             ],
             [
              1,
              "#f0f921"
             ]
            ],
            "type": "histogram2d"
           }
          ],
          "histogram2dcontour": [
           {
            "colorbar": {
             "outlinewidth": 0,
             "ticks": ""
            },
            "colorscale": [
             [
              0,
              "#0d0887"
             ],
             [
              0.1111111111111111,
              "#46039f"
             ],
             [
              0.2222222222222222,
              "#7201a8"
             ],
             [
              0.3333333333333333,
              "#9c179e"
             ],
             [
              0.4444444444444444,
              "#bd3786"
             ],
             [
              0.5555555555555556,
              "#d8576b"
             ],
             [
              0.6666666666666666,
              "#ed7953"
             ],
             [
              0.7777777777777778,
              "#fb9f3a"
             ],
             [
              0.8888888888888888,
              "#fdca26"
             ],
             [
              1,
              "#f0f921"
             ]
            ],
            "type": "histogram2dcontour"
           }
          ],
          "mesh3d": [
           {
            "colorbar": {
             "outlinewidth": 0,
             "ticks": ""
            },
            "type": "mesh3d"
           }
          ],
          "parcoords": [
           {
            "line": {
             "colorbar": {
              "outlinewidth": 0,
              "ticks": ""
             }
            },
            "type": "parcoords"
           }
          ],
          "pie": [
           {
            "automargin": true,
            "type": "pie"
           }
          ],
          "scatter": [
           {
            "fillpattern": {
             "fillmode": "overlay",
             "size": 10,
             "solidity": 0.2
            },
            "type": "scatter"
           }
          ],
          "scatter3d": [
           {
            "line": {
             "colorbar": {
              "outlinewidth": 0,
              "ticks": ""
             }
            },
            "marker": {
             "colorbar": {
              "outlinewidth": 0,
              "ticks": ""
             }
            },
            "type": "scatter3d"
           }
          ],
          "scattercarpet": [
           {
            "marker": {
             "colorbar": {
              "outlinewidth": 0,
              "ticks": ""
             }
            },
            "type": "scattercarpet"
           }
          ],
          "scattergeo": [
           {
            "marker": {
             "colorbar": {
              "outlinewidth": 0,
              "ticks": ""
             }
            },
            "type": "scattergeo"
           }
          ],
          "scattergl": [
           {
            "marker": {
             "colorbar": {
              "outlinewidth": 0,
              "ticks": ""
             }
            },
            "type": "scattergl"
           }
          ],
          "scattermap": [
           {
            "marker": {
             "colorbar": {
              "outlinewidth": 0,
              "ticks": ""
             }
            },
            "type": "scattermap"
           }
          ],
          "scattermapbox": [
           {
            "marker": {
             "colorbar": {
              "outlinewidth": 0,
              "ticks": ""
             }
            },
            "type": "scattermapbox"
           }
          ],
          "scatterpolar": [
           {
            "marker": {
             "colorbar": {
              "outlinewidth": 0,
              "ticks": ""
             }
            },
            "type": "scatterpolar"
           }
          ],
          "scatterpolargl": [
           {
            "marker": {
             "colorbar": {
              "outlinewidth": 0,
              "ticks": ""
             }
            },
            "type": "scatterpolargl"
           }
          ],
          "scatterternary": [
           {
            "marker": {
             "colorbar": {
              "outlinewidth": 0,
              "ticks": ""
             }
            },
            "type": "scatterternary"
           }
          ],
          "surface": [
           {
            "colorbar": {
             "outlinewidth": 0,
             "ticks": ""
            },
            "colorscale": [
             [
              0,
              "#0d0887"
             ],
             [
              0.1111111111111111,
              "#46039f"
             ],
             [
              0.2222222222222222,
              "#7201a8"
             ],
             [
              0.3333333333333333,
              "#9c179e"
             ],
             [
              0.4444444444444444,
              "#bd3786"
             ],
             [
              0.5555555555555556,
              "#d8576b"
             ],
             [
              0.6666666666666666,
              "#ed7953"
             ],
             [
              0.7777777777777778,
              "#fb9f3a"
             ],
             [
              0.8888888888888888,
              "#fdca26"
             ],
             [
              1,
              "#f0f921"
             ]
            ],
            "type": "surface"
           }
          ],
          "table": [
           {
            "cells": {
             "fill": {
              "color": "#EBF0F8"
             },
             "line": {
              "color": "white"
             }
            },
            "header": {
             "fill": {
              "color": "#C8D4E3"
             },
             "line": {
              "color": "white"
             }
            },
            "type": "table"
           }
          ]
         },
         "layout": {
          "annotationdefaults": {
           "arrowcolor": "#2a3f5f",
           "arrowhead": 0,
           "arrowwidth": 1
          },
          "autotypenumbers": "strict",
          "coloraxis": {
           "colorbar": {
            "outlinewidth": 0,
            "ticks": ""
           }
          },
          "colorscale": {
           "diverging": [
            [
             0,
             "#8e0152"
            ],
            [
             0.1,
             "#c51b7d"
            ],
            [
             0.2,
             "#de77ae"
            ],
            [
             0.3,
             "#f1b6da"
            ],
            [
             0.4,
             "#fde0ef"
            ],
            [
             0.5,
             "#f7f7f7"
            ],
            [
             0.6,
             "#e6f5d0"
            ],
            [
             0.7,
             "#b8e186"
            ],
            [
             0.8,
             "#7fbc41"
            ],
            [
             0.9,
             "#4d9221"
            ],
            [
             1,
             "#276419"
            ]
           ],
           "sequential": [
            [
             0,
             "#0d0887"
            ],
            [
             0.1111111111111111,
             "#46039f"
            ],
            [
             0.2222222222222222,
             "#7201a8"
            ],
            [
             0.3333333333333333,
             "#9c179e"
            ],
            [
             0.4444444444444444,
             "#bd3786"
            ],
            [
             0.5555555555555556,
             "#d8576b"
            ],
            [
             0.6666666666666666,
             "#ed7953"
            ],
            [
             0.7777777777777778,
             "#fb9f3a"
            ],
            [
             0.8888888888888888,
             "#fdca26"
            ],
            [
             1,
             "#f0f921"
            ]
           ],
           "sequentialminus": [
            [
             0,
             "#0d0887"
            ],
            [
             0.1111111111111111,
             "#46039f"
            ],
            [
             0.2222222222222222,
             "#7201a8"
            ],
            [
             0.3333333333333333,
             "#9c179e"
            ],
            [
             0.4444444444444444,
             "#bd3786"
            ],
            [
             0.5555555555555556,
             "#d8576b"
            ],
            [
             0.6666666666666666,
             "#ed7953"
            ],
            [
             0.7777777777777778,
             "#fb9f3a"
            ],
            [
             0.8888888888888888,
             "#fdca26"
            ],
            [
             1,
             "#f0f921"
            ]
           ]
          },
          "colorway": [
           "#636efa",
           "#EF553B",
           "#00cc96",
           "#ab63fa",
           "#FFA15A",
           "#19d3f3",
           "#FF6692",
           "#B6E880",
           "#FF97FF",
           "#FECB52"
          ],
          "font": {
           "color": "#2a3f5f"
          },
          "geo": {
           "bgcolor": "white",
           "lakecolor": "white",
           "landcolor": "#E5ECF6",
           "showlakes": true,
           "showland": true,
           "subunitcolor": "white"
          },
          "hoverlabel": {
           "align": "left"
          },
          "hovermode": "closest",
          "mapbox": {
           "style": "light"
          },
          "paper_bgcolor": "white",
          "plot_bgcolor": "#E5ECF6",
          "polar": {
           "angularaxis": {
            "gridcolor": "white",
            "linecolor": "white",
            "ticks": ""
           },
           "bgcolor": "#E5ECF6",
           "radialaxis": {
            "gridcolor": "white",
            "linecolor": "white",
            "ticks": ""
           }
          },
          "scene": {
           "xaxis": {
            "backgroundcolor": "#E5ECF6",
            "gridcolor": "white",
            "gridwidth": 2,
            "linecolor": "white",
            "showbackground": true,
            "ticks": "",
            "zerolinecolor": "white"
           },
           "yaxis": {
            "backgroundcolor": "#E5ECF6",
            "gridcolor": "white",
            "gridwidth": 2,
            "linecolor": "white",
            "showbackground": true,
            "ticks": "",
            "zerolinecolor": "white"
           },
           "zaxis": {
            "backgroundcolor": "#E5ECF6",
            "gridcolor": "white",
            "gridwidth": 2,
            "linecolor": "white",
            "showbackground": true,
            "ticks": "",
            "zerolinecolor": "white"
           }
          },
          "shapedefaults": {
           "line": {
            "color": "#2a3f5f"
           }
          },
          "ternary": {
           "aaxis": {
            "gridcolor": "white",
            "linecolor": "white",
            "ticks": ""
           },
           "baxis": {
            "gridcolor": "white",
            "linecolor": "white",
            "ticks": ""
           },
           "bgcolor": "#E5ECF6",
           "caxis": {
            "gridcolor": "white",
            "linecolor": "white",
            "ticks": ""
           }
          },
          "title": {
           "x": 0.05
          },
          "xaxis": {
           "automargin": true,
           "gridcolor": "white",
           "linecolor": "white",
           "ticks": "",
           "title": {
            "standoff": 15
           },
           "zerolinecolor": "white",
           "zerolinewidth": 2
          },
          "yaxis": {
           "automargin": true,
           "gridcolor": "white",
           "linecolor": "white",
           "ticks": "",
           "title": {
            "standoff": 15
           },
           "zerolinecolor": "white",
           "zerolinewidth": 2
          }
         }
        },
        "title": {
         "font": {
          "size": 16
         },
         "text": "Network Graph"
        },
        "width": 600,
        "xaxis": {
         "showgrid": false
        },
        "yaxis": {
         "showgrid": false
        }
       }
      }
     },
     "metadata": {},
     "output_type": "display_data"
    }
   ],
   "source": [
    "# import plotly.graph_objects as go\n",
    "# import networkx as nx\n",
    "\n",
    "# # Create a sample graph (simple graph for demonstration)\n",
    "# G = nx.erdos_renyi_graph(10, 0.3)\n",
    "\n",
    "# # Get node positions using a layout algorithm (spring layout for 2D)\n",
    "# pos = nx.spring_layout(G)\n",
    "\n",
    "# # Create lists for node positions and edge positions\n",
    "# edge_x = []\n",
    "# edge_y = []\n",
    "# for edge in G.edges():\n",
    "#     x0, y0 = pos[edge[0]]\n",
    "#     x1, y1 = pos[edge[1]]\n",
    "#     edge_x.append(x0)\n",
    "#     edge_x.append(x1)\n",
    "#     edge_y.append(y0)\n",
    "#     edge_y.append(y1)\n",
    "\n",
    "# # Create lists for node positions and node labels\n",
    "# node_x = []\n",
    "# node_y = []\n",
    "# for node in G.nodes():\n",
    "#     x, y = pos[node]\n",
    "#     node_x.append(x)\n",
    "#     node_y.append(y)\n",
    "\n",
    "# # Create a scatter plot for nodes\n",
    "# node_trace = go.Scatter(\n",
    "#     x=node_x, y=node_y,\n",
    "#     mode='markers',\n",
    "#     hoverinfo='text',\n",
    "#     marker=dict(\n",
    "#         showscale=True,\n",
    "#         colorscale='YlGnBu',\n",
    "#         size=10,\n",
    "#         colorbar=dict(\n",
    "#             thickness=15,\n",
    "#             title='Node Connections'\n",
    "#         )\n",
    "#     )\n",
    "# )\n",
    "\n",
    "# # Create a scatter plot for edges\n",
    "# edge_trace = go.Scatter(\n",
    "#     x=edge_x, y=edge_y,\n",
    "#     line=dict(width=0.5, color='#888'),\n",
    "#     hoverinfo='none',\n",
    "#     mode='lines'\n",
    "# )\n",
    "\n",
    "# # Create the figure with both nodes and edges\n",
    "# fig = go.Figure(data=[edge_trace, node_trace],\n",
    "#                 layout=go.Layout(\n",
    "#                     title=\"Network Graph\",\n",
    "#                     title_font_size=16,  # Corrected property\n",
    "#                     showlegend=False,\n",
    "#                     hovermode='closest',\n",
    "#                     plot_bgcolor='rgb(255, 255, 255)',\n",
    "#                     xaxis=dict(showgrid=False),\n",
    "#                     yaxis=dict(showgrid=False),\n",
    "#                     height=600,  # Adjust height as needed\n",
    "#                     width=600   # Adjust width as needed\n",
    "#                 ))\n",
    "\n",
    "# # Show the plot\n",
    "# fig.show()\n"
   ]
  },
  {
   "cell_type": "markdown",
   "metadata": {},
   "source": [
    "The Final working and effective knowledge graph is made using the below code : "
   ]
  },
  {
   "cell_type": "code",
   "execution_count": null,
   "metadata": {},
   "outputs": [
    {
     "name": "stdout",
     "output_type": "stream",
     "text": [
      "Warning: When  cdn_resources is 'local' jupyter notebook has issues displaying graphics on chrome/safari. Use cdn_resources='in_line' or cdn_resources='remote' if you have issues viewing graphics in a notebook.\n",
      "Graph saved as knowledge_graph.html\n"
     ]
    }
   ],
   "source": [
    "# import json\n",
    "# from pyvis.network import Network\n",
    "# import networkx as nx\n",
    "\n",
    "# # Load the dataset from JSON file\n",
    "# with open(r\"dataset\\Inefficient_reasoning_bter.json\", \"r\") as file:\n",
    "#     data = json.load(file)\n",
    "# # \n",
    "# # Create a NetworkX graph\n",
    "# G = nx.Graph()\n",
    "\n",
    "# # Create unique nodes for categories\n",
    "# confidence_levels = set()\n",
    "# sentiments = set()\n",
    "# inefficiencies = set()\n",
    "\n",
    "# # Add nodes for each question and their respective attributes\n",
    "# for entry in data:\n",
    "#     q_id = entry[\"question_id\"]\n",
    "#     confidence = entry[\"confidence_level\"]\n",
    "#     sentiment = entry[\"sentiment\"]\n",
    "#     reasoning = entry[\"reasoning\"]\n",
    "\n",
    "#     # Format reasoning with actual line breaks\n",
    "#     formatted_reasoning = \"\\n\".join(reasoning[i:i+80] for i in range(0, len(reasoning), 80))\n",
    "\n",
    "#     # Ensure unique category nodes\n",
    "#     confidence_levels.add(confidence)\n",
    "#     sentiments.add(sentiment)\n",
    "\n",
    "#     # Add inefficiency categories\n",
    "#     for ineff in entry[\"inefficiencies\"]:\n",
    "#         inefficiencies.add(ineff)\n",
    "\n",
    "#     # Add question node with formatted reasoning\n",
    "#     G.add_node(q_id, label=f\"Q{q_id}\", shape=\"circle\", title=formatted_reasoning)\n",
    "\n",
    "#     # Connect question to confidence level, sentiment, and inefficiencies\n",
    "#     G.add_edge(q_id, confidence)\n",
    "#     G.add_edge(q_id, sentiment)\n",
    "#     for ineff in entry[\"inefficiencies\"]:\n",
    "#         G.add_edge(q_id, ineff)\n",
    "\n",
    "# # Add category nodes to the graph\n",
    "# for conf in confidence_levels:\n",
    "#     G.add_node(conf, label=conf, color=\"red\", shape=\"square\")\n",
    "\n",
    "# for sent in sentiments:\n",
    "#     G.add_node(sent, label=sent, color=\"blue\", shape=\"square\")\n",
    "\n",
    "# for ineff in inefficiencies:\n",
    "#     G.add_node(ineff, label=ineff, color=\"green\", shape=\"square\")\n",
    "\n",
    "# # Create a PyVis network\n",
    "# net = Network(notebook=True, directed=False)\n",
    "\n",
    "# # Enable physics to improve layout\n",
    "# net.toggle_physics(True)\n",
    "\n",
    "# # Convert to PyVis format\n",
    "# net.from_nx(G)\n",
    "\n",
    "# # Save and display the graph\n",
    "# net.save_graph(\"/Users/bisman/Documents/ECS 260/Project github/CodeRefineAI/llm/RQ1/my_interactive_graph.html\")\n",
    "# print(\"Graph saved as knowledge_graph.html\")\n"
   ]
  },
  {
   "cell_type": "markdown",
   "metadata": {},
   "source": [
    "Tried to reduce the categories of inefficiency thinking to make a simpler graph but the edges got even more complex using the below code : "
   ]
  },
  {
   "cell_type": "code",
   "execution_count": 29,
   "metadata": {},
   "outputs": [],
   "source": [
    "import json\n",
    "from pyvis.network import Network\n",
    "import networkx as nx\n"
   ]
  },
  {
   "cell_type": "code",
   "execution_count": 45,
   "metadata": {},
   "outputs": [],
   "source": [
    "def produce_KG(json_filename):\n",
    "    # Load the dataset from JSON file\n",
    "    with open(f\"../../dataset/{json_filename}.json\", \"r\") as file:\n",
    "        data = json.load(file)\n",
    "\n",
    "    # Create a NetworkX graph\n",
    "    G = nx.Graph()\n",
    "\n",
    "    # Create unique nodes for categories\n",
    "    confidence_levels = set()\n",
    "    sentiments = set()\n",
    "    inefficiencies = set()\n",
    "\n",
    "    # Add nodes for each question and their respective attributes\n",
    "    for index, entry in enumerate(data):\n",
    "        try:\n",
    "            q_id = entry[\"question_id\"]\n",
    "            confidence = entry[\"confidence_level\"]\n",
    "            sentiment = entry[\"sentiment\"]\n",
    "            reasoning = entry[\"reasoning\"]\n",
    "        except:\n",
    "            print(f'Passing: index = {index}')\n",
    "            pass\n",
    "\n",
    "        # Format reasoning with actual line breaks\n",
    "        formatted_reasoning = \"\\n\".join(reasoning[i:i+80] for i in range(0, len(reasoning), 80))\n",
    "\n",
    "        # Ensure unique category nodes\n",
    "        confidence_levels.add(confidence)\n",
    "        sentiments.add(sentiment)\n",
    "\n",
    "        try:\n",
    "            # Add inefficiency categories\n",
    "            for ineff in entry[\"inefficiencies\"]:\n",
    "                inefficiencies.add(ineff)\n",
    "\n",
    "\n",
    "            # Add question node with formatted reasoning\n",
    "            G.add_node(q_id, label=f\"Q{q_id}\", shape=\"circle\", title=formatted_reasoning)\n",
    "\n",
    "            # Connect question to confidence level, sentiment, and inefficiencies\n",
    "            G.add_edge(q_id, confidence)\n",
    "            G.add_edge(q_id, sentiment)\n",
    "            for ineff in entry[\"inefficiencies\"]:\n",
    "                G.add_edge(q_id, ineff)\n",
    "        except: \n",
    "            print(f'Passing: index = {index}')\n",
    "            pass\n",
    "\n",
    "    # Add category nodes to the graph\n",
    "    for conf in confidence_levels:\n",
    "        G.add_node(conf, label=conf, color=\"red\", shape=\"square\")\n",
    "\n",
    "    for sent in sentiments:\n",
    "        G.add_node(sent, label=sent, color=\"blue\", shape=\"square\")\n",
    "\n",
    "    for ineff in inefficiencies:\n",
    "        G.add_node(ineff, label=ineff, color=\"green\", shape=\"square\")\n",
    "\n",
    "    # Create a PyVis network\n",
    "    net = Network(notebook=True, directed=False)\n",
    "\n",
    "    # Enable physics to improve layout\n",
    "    net.toggle_physics(True)\n",
    "\n",
    "    # Convert to PyVis format\n",
    "    net.from_nx(G)\n",
    "\n",
    "    # Save and display the graph\n",
    "    net.save_graph(f\"../../dataset/{json_filename}_KG.html\")\n",
    "    print(f\"Graph saved as {json_filename}_KG.html\")"
   ]
  },
  {
   "cell_type": "code",
   "execution_count": 47,
   "metadata": {},
   "outputs": [
    {
     "name": "stdout",
     "output_type": "stream",
     "text": [
      "Warning: When  cdn_resources is 'local' jupyter notebook has issues displaying graphics on chrome/safari. Use cdn_resources='in_line' or cdn_resources='remote' if you have issues viewing graphics in a notebook.\n",
      "Graph saved as Inefficient_reasoning_bter_normalized_KG.html\n"
     ]
    }
   ],
   "source": [
    "produce_KG('Inefficient_reasoning_bter_normalized')"
   ]
  },
  {
   "cell_type": "code",
   "execution_count": null,
   "metadata": {},
   "outputs": [],
   "source": [
    "produce_KG('Inefficient_reasoning_bter')"
   ]
  },
  {
   "cell_type": "markdown",
   "metadata": {},
   "source": [
    "net.save_graph(\"/Users/bisman/Documents/ECS 260/Project github/CodeRefineAI/llm/RQ1/my_interactive_graph.html\")\n",
    "/Users/bisman/Documents/ECS 260/Project github/CodeRefineAI/dataset/RQ1KG/Inefficient_reasoning_bter.json"
   ]
  },
  {
   "cell_type": "markdown",
   "metadata": {},
   "source": [
    "Tested a better layout of the graph using the working code above : "
   ]
  },
  {
   "cell_type": "code",
   "execution_count": 48,
   "metadata": {},
   "outputs": [
    {
     "name": "stdout",
     "output_type": "stream",
     "text": [
      "Warning: When  cdn_resources is 'local' jupyter notebook has issues displaying graphics on chrome/safari. Use cdn_resources='in_line' or cdn_resources='remote' if you have issues viewing graphics in a notebook.\n",
      "Structured graph saved as ../../dataset/structured_interactive_graph.html\n"
     ]
    }
   ],
   "source": [
    "import json\n",
    "from pyvis.network import Network\n",
    "import networkx as nx\n",
    "\n",
    "# Load the dataset from JSON file\n",
    "with open('../../dataset/Inefficient_reasoning_bter_normalized.json', \"r\") as file:\n",
    "    data = json.load(file)\n",
    "\n",
    "# Create a NetworkX graph\n",
    "G = nx.Graph()\n",
    "\n",
    "# Create unique nodes for categories\n",
    "confidence_levels = set()\n",
    "sentiments = set()\n",
    "inefficiencies = set()\n",
    "\n",
    "# Add nodes for each question and their respective attributes\n",
    "for entry in data:\n",
    "    q_id = entry[\"question_id\"]\n",
    "    confidence = entry[\"confidence_level\"]\n",
    "    sentiment = entry[\"sentiment\"]\n",
    "    reasoning = entry[\"reasoning\"]\n",
    "\n",
    "    # Format reasoning with actual line breaks\n",
    "    formatted_reasoning = \"\\n\".join(reasoning[i:i+80] for i in range(0, len(reasoning), 80))\n",
    "\n",
    "    # Ensure unique category nodes\n",
    "    confidence_levels.add(confidence)\n",
    "    sentiments.add(sentiment)\n",
    "    \n",
    "    # Add inefficiency categories\n",
    "    for ineff in entry[\"inefficiencies\"]:\n",
    "        inefficiencies.add(ineff)\n",
    "\n",
    "    # Add question node with formatted reasoning\n",
    "    G.add_node(q_id, label=f\"Q{q_id}\", shape=\"circle\", title=formatted_reasoning)\n",
    "\n",
    "    # Connect question to category nodes (only one edge per category type)\n",
    "    G.add_edge(q_id, confidence)\n",
    "    G.add_edge(q_id, sentiment)\n",
    "    # Use a single edge to link inefficiencies with the question\n",
    "    for ineff in entry[\"inefficiencies\"]:\n",
    "        G.add_edge(q_id, ineff)\n",
    "\n",
    "# Add category nodes to the graph with distinct colors for clarity\n",
    "for conf in confidence_levels:\n",
    "    G.add_node(conf, label=conf, color=\"red\", shape=\"square\", size=25)\n",
    "\n",
    "for sent in sentiments:\n",
    "    G.add_node(sent, label=sent, color=\"blue\", shape=\"square\", size=25)\n",
    "\n",
    "for ineff in inefficiencies:\n",
    "    G.add_node(ineff, label=ineff, color=\"green\", shape=\"square\", size=25)\n",
    "\n",
    "# Create a PyVis network\n",
    "net = Network(notebook=True, directed=False)\n",
    "\n",
    "# Enable physics for better layout but make it more structured\n",
    "net.toggle_physics(True)\n",
    "\n",
    "# Convert the graph to PyVis format and apply better physics for a less cluttered graph\n",
    "net.from_nx(G)\n",
    "\n",
    "# Adjusting the physics layout to organize nodes better\n",
    "net.set_options(\"\"\"\n",
    "var options = {\n",
    "  \"nodes\": {\n",
    "    \"shape\": \"circle\",\n",
    "    \"size\": 15\n",
    "  },\n",
    "  \"edges\": {\n",
    "    \"smooth\": {\n",
    "      \"type\": \"continuous\"\n",
    "    },\n",
    "    \"width\": 1\n",
    "  },\n",
    "  \"physics\": {\n",
    "    \"barnesHut\": {\n",
    "      \"gravitationalConstant\": -5000,\n",
    "      \"centralGravity\": 0.2,\n",
    "      \"springLength\": 200,\n",
    "      \"springConstant\": 0.05,\n",
    "      \"damping\": 0.15,\n",
    "      \"avoidOverlap\": 1.2\n",
    "    },\n",
    "    \"minVelocity\": 0.75\n",
    "  }\n",
    "}\n",
    "\"\"\")\n",
    "\n",
    "# Manually adjust node positions (category nodes in a structured manner)\n",
    "category_positions = {\n",
    "    \"red\": {\"x\": 0, \"y\": 100},  # Confidence category\n",
    "    \"blue\": {\"x\": 200, \"y\": 100},  # Sentiment category\n",
    "    \"green\": {\"x\": 400, \"y\": 100}  # Inefficiency category\n",
    "}\n",
    "\n",
    "# Manually position the category nodes\n",
    "for node in G.nodes:\n",
    "    if node in confidence_levels:\n",
    "        net.get_node(node)[\"x\"] = category_positions[\"red\"][\"x\"]\n",
    "        net.get_node(node)[\"y\"] = category_positions[\"red\"][\"y\"]\n",
    "    elif node in sentiments:\n",
    "        net.get_node(node)[\"x\"] = category_positions[\"blue\"][\"x\"]\n",
    "        net.get_node(node)[\"y\"] = category_positions[\"blue\"][\"y\"]\n",
    "    elif node in inefficiencies:\n",
    "        net.get_node(node)[\"x\"] = category_positions[\"green\"][\"x\"]\n",
    "        net.get_node(node)[\"y\"] = category_positions[\"green\"][\"y\"]\n",
    "\n",
    "# Save and display the graph\n",
    "output_file = \"../../dataset/structured_interactive_graph.html\"\n",
    "net.save_graph(output_file)\n",
    "print(f\"Structured graph saved as {output_file}\")\n"
   ]
  }
 ],
 "metadata": {
  "kernelspec": {
   "display_name": "Python 3",
   "language": "python",
   "name": "python3"
  },
  "language_info": {
   "codemirror_mode": {
    "name": "ipython",
    "version": 3
   },
   "file_extension": ".py",
   "mimetype": "text/x-python",
   "name": "python",
   "nbconvert_exporter": "python",
   "pygments_lexer": "ipython3",
   "version": "3.12.9"
  }
 },
 "nbformat": 4,
 "nbformat_minor": 2
}
