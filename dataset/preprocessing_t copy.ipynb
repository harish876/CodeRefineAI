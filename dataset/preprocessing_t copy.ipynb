{
 "cells": [
  {
   "cell_type": "code",
   "execution_count": 3,
   "metadata": {},
   "outputs": [
    {
     "name": "stdout",
     "output_type": "stream",
     "text": [
      "Requirement already satisfied: datasets in /Library/Frameworks/Python.framework/Versions/3.11/lib/python3.11/site-packages (3.2.0)\n",
      "Requirement already satisfied: filelock in /Library/Frameworks/Python.framework/Versions/3.11/lib/python3.11/site-packages (from datasets) (3.17.0)\n",
      "Requirement already satisfied: numpy>=1.17 in /Library/Frameworks/Python.framework/Versions/3.11/lib/python3.11/site-packages (from datasets) (2.2.2)\n",
      "Requirement already satisfied: pyarrow>=15.0.0 in /Library/Frameworks/Python.framework/Versions/3.11/lib/python3.11/site-packages (from datasets) (19.0.0)\n",
      "Requirement already satisfied: dill<0.3.9,>=0.3.0 in /Library/Frameworks/Python.framework/Versions/3.11/lib/python3.11/site-packages (from datasets) (0.3.8)\n",
      "Requirement already satisfied: pandas in /Library/Frameworks/Python.framework/Versions/3.11/lib/python3.11/site-packages (from datasets) (2.2.3)\n",
      "Requirement already satisfied: requests>=2.32.2 in /Library/Frameworks/Python.framework/Versions/3.11/lib/python3.11/site-packages (from datasets) (2.32.3)\n",
      "Requirement already satisfied: tqdm>=4.66.3 in /Library/Frameworks/Python.framework/Versions/3.11/lib/python3.11/site-packages (from datasets) (4.67.1)\n",
      "Requirement already satisfied: xxhash in /Library/Frameworks/Python.framework/Versions/3.11/lib/python3.11/site-packages (from datasets) (3.5.0)\n",
      "Requirement already satisfied: multiprocess<0.70.17 in /Library/Frameworks/Python.framework/Versions/3.11/lib/python3.11/site-packages (from datasets) (0.70.16)\n",
      "Requirement already satisfied: fsspec[http]<=2024.9.0,>=2023.1.0 in /Library/Frameworks/Python.framework/Versions/3.11/lib/python3.11/site-packages (from datasets) (2024.9.0)\n",
      "Requirement already satisfied: aiohttp in /Library/Frameworks/Python.framework/Versions/3.11/lib/python3.11/site-packages (from datasets) (3.11.12)\n",
      "Requirement already satisfied: huggingface-hub>=0.23.0 in /Library/Frameworks/Python.framework/Versions/3.11/lib/python3.11/site-packages (from datasets) (0.28.1)\n",
      "Requirement already satisfied: packaging in /Library/Frameworks/Python.framework/Versions/3.11/lib/python3.11/site-packages (from datasets) (24.2)\n",
      "Requirement already satisfied: pyyaml>=5.1 in /Library/Frameworks/Python.framework/Versions/3.11/lib/python3.11/site-packages (from datasets) (6.0.2)\n",
      "Requirement already satisfied: aiohappyeyeballs>=2.3.0 in /Library/Frameworks/Python.framework/Versions/3.11/lib/python3.11/site-packages (from aiohttp->datasets) (2.4.6)\n",
      "Requirement already satisfied: aiosignal>=1.1.2 in /Library/Frameworks/Python.framework/Versions/3.11/lib/python3.11/site-packages (from aiohttp->datasets) (1.3.2)\n",
      "Requirement already satisfied: attrs>=17.3.0 in /Library/Frameworks/Python.framework/Versions/3.11/lib/python3.11/site-packages (from aiohttp->datasets) (25.1.0)\n",
      "Requirement already satisfied: frozenlist>=1.1.1 in /Library/Frameworks/Python.framework/Versions/3.11/lib/python3.11/site-packages (from aiohttp->datasets) (1.5.0)\n",
      "Requirement already satisfied: multidict<7.0,>=4.5 in /Library/Frameworks/Python.framework/Versions/3.11/lib/python3.11/site-packages (from aiohttp->datasets) (6.1.0)\n",
      "Requirement already satisfied: propcache>=0.2.0 in /Library/Frameworks/Python.framework/Versions/3.11/lib/python3.11/site-packages (from aiohttp->datasets) (0.2.1)\n",
      "Requirement already satisfied: yarl<2.0,>=1.17.0 in /Library/Frameworks/Python.framework/Versions/3.11/lib/python3.11/site-packages (from aiohttp->datasets) (1.18.3)\n",
      "Requirement already satisfied: typing-extensions>=3.7.4.3 in /Library/Frameworks/Python.framework/Versions/3.11/lib/python3.11/site-packages (from huggingface-hub>=0.23.0->datasets) (4.12.2)\n",
      "Requirement already satisfied: charset-normalizer<4,>=2 in /Library/Frameworks/Python.framework/Versions/3.11/lib/python3.11/site-packages (from requests>=2.32.2->datasets) (3.4.1)\n",
      "Requirement already satisfied: idna<4,>=2.5 in /Library/Frameworks/Python.framework/Versions/3.11/lib/python3.11/site-packages (from requests>=2.32.2->datasets) (3.10)\n",
      "Requirement already satisfied: urllib3<3,>=1.21.1 in /Library/Frameworks/Python.framework/Versions/3.11/lib/python3.11/site-packages (from requests>=2.32.2->datasets) (2.3.0)\n",
      "Requirement already satisfied: certifi>=2017.4.17 in /Library/Frameworks/Python.framework/Versions/3.11/lib/python3.11/site-packages (from requests>=2.32.2->datasets) (2025.1.31)\n",
      "Requirement already satisfied: python-dateutil>=2.8.2 in /Library/Frameworks/Python.framework/Versions/3.11/lib/python3.11/site-packages (from pandas->datasets) (2.9.0.post0)\n",
      "Requirement already satisfied: pytz>=2020.1 in /Library/Frameworks/Python.framework/Versions/3.11/lib/python3.11/site-packages (from pandas->datasets) (2025.1)\n",
      "Requirement already satisfied: tzdata>=2022.7 in /Library/Frameworks/Python.framework/Versions/3.11/lib/python3.11/site-packages (from pandas->datasets) (2025.1)\n",
      "Requirement already satisfied: six>=1.5 in /Library/Frameworks/Python.framework/Versions/3.11/lib/python3.11/site-packages (from python-dateutil>=2.8.2->pandas->datasets) (1.17.0)\n",
      "\n",
      "\u001b[1m[\u001b[0m\u001b[34;49mnotice\u001b[0m\u001b[1;39;49m]\u001b[0m\u001b[39;49m A new release of pip is available: \u001b[0m\u001b[31;49m23.2.1\u001b[0m\u001b[39;49m -> \u001b[0m\u001b[32;49m25.0\u001b[0m\n",
      "\u001b[1m[\u001b[0m\u001b[34;49mnotice\u001b[0m\u001b[1;39;49m]\u001b[0m\u001b[39;49m To update, run: \u001b[0m\u001b[32;49mpython3 -m pip install --upgrade pip\u001b[0m\n",
      "Note: you may need to restart the kernel to use updated packages.\n",
      "Requirement already satisfied: matplotlib in /Library/Frameworks/Python.framework/Versions/3.11/lib/python3.11/site-packages (3.10.0)\n",
      "Requirement already satisfied: contourpy>=1.0.1 in /Library/Frameworks/Python.framework/Versions/3.11/lib/python3.11/site-packages (from matplotlib) (1.3.1)\n",
      "Requirement already satisfied: cycler>=0.10 in /Library/Frameworks/Python.framework/Versions/3.11/lib/python3.11/site-packages (from matplotlib) (0.12.1)\n",
      "Requirement already satisfied: fonttools>=4.22.0 in /Library/Frameworks/Python.framework/Versions/3.11/lib/python3.11/site-packages (from matplotlib) (4.56.0)\n",
      "Requirement already satisfied: kiwisolver>=1.3.1 in /Library/Frameworks/Python.framework/Versions/3.11/lib/python3.11/site-packages (from matplotlib) (1.4.8)\n",
      "Requirement already satisfied: numpy>=1.23 in /Library/Frameworks/Python.framework/Versions/3.11/lib/python3.11/site-packages (from matplotlib) (2.2.2)\n",
      "Requirement already satisfied: packaging>=20.0 in /Library/Frameworks/Python.framework/Versions/3.11/lib/python3.11/site-packages (from matplotlib) (24.2)\n",
      "Requirement already satisfied: pillow>=8 in /Library/Frameworks/Python.framework/Versions/3.11/lib/python3.11/site-packages (from matplotlib) (11.1.0)\n",
      "Requirement already satisfied: pyparsing>=2.3.1 in /Library/Frameworks/Python.framework/Versions/3.11/lib/python3.11/site-packages (from matplotlib) (3.2.1)\n",
      "Requirement already satisfied: python-dateutil>=2.7 in /Library/Frameworks/Python.framework/Versions/3.11/lib/python3.11/site-packages (from matplotlib) (2.9.0.post0)\n",
      "Requirement already satisfied: six>=1.5 in /Library/Frameworks/Python.framework/Versions/3.11/lib/python3.11/site-packages (from python-dateutil>=2.7->matplotlib) (1.17.0)\n",
      "\n",
      "\u001b[1m[\u001b[0m\u001b[34;49mnotice\u001b[0m\u001b[1;39;49m]\u001b[0m\u001b[39;49m A new release of pip is available: \u001b[0m\u001b[31;49m23.2.1\u001b[0m\u001b[39;49m -> \u001b[0m\u001b[32;49m25.0\u001b[0m\n",
      "\u001b[1m[\u001b[0m\u001b[34;49mnotice\u001b[0m\u001b[1;39;49m]\u001b[0m\u001b[39;49m To update, run: \u001b[0m\u001b[32;49mpython3 -m pip install --upgrade pip\u001b[0m\n",
      "Note: you may need to restart the kernel to use updated packages.\n"
     ]
    }
   ],
   "source": [
    "%pip install datasets\n",
    "%pip install matplotlib"
   ]
  },
  {
   "cell_type": "code",
   "execution_count": 4,
   "metadata": {},
   "outputs": [
    {
     "data": {
      "application/vnd.jupyter.widget-view+json": {
       "model_id": "98548232a2cd43d98c0ab4d80b1b3171",
       "version_major": 2,
       "version_minor": 0
      },
      "text/plain": [
       "train-00000-of-00002.parquet:  29%|##9       | 21.0M/71.7M [00:00<?, ?B/s]"
      ]
     },
     "metadata": {},
     "output_type": "display_data"
    },
    {
     "data": {
      "application/vnd.jupyter.widget-view+json": {
       "model_id": "dbe819cdb9f2412e9c3a21bc62fee550",
       "version_major": 2,
       "version_minor": 0
      },
      "text/plain": [
       "train-00001-of-00002.parquet:   0%|          | 0.00/177M [00:00<?, ?B/s]"
      ]
     },
     "metadata": {},
     "output_type": "display_data"
    },
    {
     "data": {
      "application/vnd.jupyter.widget-view+json": {
       "model_id": "0943041fcb314ca1bf36cc6fefdc5c90",
       "version_major": 2,
       "version_minor": 0
      },
      "text/plain": [
       "eval-00000-of-00001.parquet:   0%|          | 0.00/44.7M [00:00<?, ?B/s]"
      ]
     },
     "metadata": {},
     "output_type": "display_data"
    },
    {
     "data": {
      "application/vnd.jupyter.widget-view+json": {
       "model_id": "86774a7fe5824468a0f2a5efd07f2c57",
       "version_major": 2,
       "version_minor": 0
      },
      "text/plain": [
       "Generating train split:   0%|          | 0/1527 [00:00<?, ? examples/s]"
      ]
     },
     "metadata": {},
     "output_type": "display_data"
    },
    {
     "data": {
      "application/vnd.jupyter.widget-view+json": {
       "model_id": "77214c56254b4a3eacd9490e5c543aa9",
       "version_major": 2,
       "version_minor": 0
      },
      "text/plain": [
       "Generating eval split:   0%|          | 0/554 [00:00<?, ? examples/s]"
      ]
     },
     "metadata": {},
     "output_type": "display_data"
    }
   ],
   "source": [
    "ds = load_dataset(\"Elfsong/Venus_t\")"
   ]
  },
  {
   "cell_type": "code",
   "execution_count": 5,
   "metadata": {},
   "outputs": [
    {
     "data": {
      "text/plain": [
       "{'question_id': Value(dtype='int64', id=None),\n",
       " 'name': Value(dtype='string', id=None),\n",
       " 'content': Value(dtype='string', id=None),\n",
       " 'acRate': Value(dtype='float64', id=None),\n",
       " 'difficulty': Value(dtype='string', id=None),\n",
       " 'topics': Sequence(feature=Value(dtype='string', id=None), length=-1, id=None),\n",
       " 'runtimeDistribution': Value(dtype='string', id=None),\n",
       " 'memoryDistribution': Value(dtype='string', id=None),\n",
       " 'rt_list': [{'code': Value(dtype='string', id=None),\n",
       "   'runtime': Value(dtype='string', id=None)}],\n",
       " 'rt_solution_count': Value(dtype='int64', id=None),\n",
       " 'mm_list': [{'code': Value(dtype='string', id=None),\n",
       "   'memory': Value(dtype='string', id=None)}],\n",
       " 'mm_solution_count': Value(dtype='int64', id=None),\n",
       " 'code_prompt': Value(dtype='string', id=None),\n",
       " 'test_case_generator': Value(dtype='string', id=None),\n",
       " 'entry_point': Value(dtype='string', id=None),\n",
       " 'libraries': Sequence(feature=Value(dtype='string', id=None), length=-1, id=None),\n",
       " 'import_code': Value(dtype='string', id=None),\n",
       " 'setup_code': Value(dtype='string', id=None),\n",
       " 'test_case': Value(dtype='string', id=None)}"
      ]
     },
     "execution_count": 5,
     "metadata": {},
     "output_type": "execute_result"
    }
   ],
   "source": [
    "ds['train'].features"
   ]
  },
  {
   "cell_type": "code",
   "execution_count": 6,
   "metadata": {},
   "outputs": [
    {
     "ename": "NameError",
     "evalue": "name 'ds' is not defined",
     "output_type": "error",
     "traceback": [
      "\u001b[0;31m---------------------------------------------------------------------------\u001b[0m",
      "\u001b[0;31mNameError\u001b[0m                                 Traceback (most recent call last)",
      "Cell \u001b[0;32mIn[2], line 1\u001b[0m\n\u001b[0;32m----> 1\u001b[0m rt_dist \u001b[38;5;241m=\u001b[39m \u001b[43mds\u001b[49m[\u001b[38;5;124m'\u001b[39m\u001b[38;5;124mtrain\u001b[39m\u001b[38;5;124m'\u001b[39m][\u001b[38;5;241m0\u001b[39m][\u001b[38;5;124m'\u001b[39m\u001b[38;5;124mruntimeDistribution\u001b[39m\u001b[38;5;124m'\u001b[39m]\n",
      "\u001b[0;31mNameError\u001b[0m: name 'ds' is not defined"
     ]
    }
   ],
   "source": [
    "rt_dist = ds['train'][0]['runtimeDistribution']"
   ]
  },
  {
   "cell_type": "code",
   "execution_count": 7,
   "metadata": {},
   "outputs": [],
   "source": [
    "import json"
   ]
  },
  {
   "cell_type": "code",
   "execution_count": 8,
   "metadata": {},
   "outputs": [],
   "source": [
    "rt_dist = json.loads(rt_dist)"
   ]
  },
  {
   "cell_type": "code",
   "execution_count": null,
   "metadata": {},
   "outputs": [
    {
     "data": {
      "text/plain": [
       "[{'input': '8', 'output': '8'},\n",
       " {'input': '16', 'output': '16'},\n",
       " {'input': '4', 'output': '4'},\n",
       " {'input': '7', 'output': 'None'},\n",
       " {'input': '9', 'output': 'None'},\n",
       " {'input': '16', 'output': '16'},\n",
       " {'input': '2', 'output': '2'},\n",
       " {'input': '5', 'output': 'None'},\n",
       " {'input': '16', 'output': '16'},\n",
       " {'input': '2', 'output': '2'},\n",
       " {'input': '4', 'output': '4'},\n",
       " {'input': '2', 'output': '2'},\n",
       " {'input': '4', 'output': '4'},\n",
       " {'input': '0', 'output': '0'},\n",
       " {'input': '-1', 'output': 'None'},\n",
       " {'input': '32', 'output': '32'},\n",
       " {'input': '4', 'output': '4'},\n",
       " {'input': '0', 'output': '0'},\n",
       " {'input': '3', 'output': 'None'},\n",
       " {'input': '4', 'output': '4'},\n",
       " {'input': '-1', 'output': 'None'},\n",
       " {'input': '0', 'output': '0'},\n",
       " {'input': '7', 'output': 'None'},\n",
       " {'input': '7', 'output': 'None'},\n",
       " {'input': '64', 'output': '64'},\n",
       " {'input': '7', 'output': 'None'},\n",
       " {'input': '1', 'output': '1'},\n",
       " {'input': '-1', 'output': 'None'},\n",
       " {'input': '0', 'output': '0'},\n",
       " {'input': '32', 'output': '32'},\n",
       " {'input': '2', 'output': '2'},\n",
       " {'input': '8', 'output': '8'},\n",
       " {'input': '64', 'output': '64'},\n",
       " {'input': '16', 'output': '16'},\n",
       " {'input': '4', 'output': '4'},\n",
       " {'input': '4', 'output': '4'},\n",
       " {'input': '5', 'output': 'None'},\n",
       " {'input': '32', 'output': '32'},\n",
       " {'input': '2', 'output': '2'},\n",
       " {'input': '32', 'output': '32'},\n",
       " {'input': '64', 'output': '64'},\n",
       " {'input': '9', 'output': 'None'},\n",
       " {'input': '2', 'output': '2'},\n",
       " {'input': '1', 'output': '1'},\n",
       " {'input': '3', 'output': 'None'},\n",
       " {'input': '32', 'output': '32'},\n",
       " {'input': '4', 'output': '4'},\n",
       " {'input': '1', 'output': '1'},\n",
       " {'input': '7', 'output': 'None'},\n",
       " {'input': '5', 'output': 'None'},\n",
       " {'input': '7', 'output': 'None'},\n",
       " {'input': '32', 'output': '32'},\n",
       " {'input': '2', 'output': '2'},\n",
       " {'input': '-1', 'output': 'None'},\n",
       " {'input': '5', 'output': 'None'},\n",
       " {'input': '9', 'output': 'None'},\n",
       " {'input': '-1', 'output': 'None'},\n",
       " {'input': '64', 'output': '64'},\n",
       " {'input': '0', 'output': '0'},\n",
       " {'input': '8', 'output': '8'},\n",
       " {'input': '64', 'output': '64'},\n",
       " {'input': '7', 'output': 'None'},\n",
       " {'input': '2', 'output': '2'},\n",
       " {'input': '8', 'output': '8'},\n",
       " {'input': '5', 'output': 'None'},\n",
       " {'input': '32', 'output': '32'},\n",
       " {'input': '8', 'output': '8'},\n",
       " {'input': '3', 'output': 'None'},\n",
       " {'input': '5', 'output': 'None'},\n",
       " {'input': '32', 'output': '32'},\n",
       " {'input': '9', 'output': 'None'},\n",
       " {'input': '5', 'output': 'None'},\n",
       " {'input': '5', 'output': 'None'},\n",
       " {'input': '3', 'output': 'None'},\n",
       " {'input': '32', 'output': '32'},\n",
       " {'input': '4', 'output': '4'},\n",
       " {'input': '9', 'output': 'None'},\n",
       " {'input': '4', 'output': '4'},\n",
       " {'input': '9', 'output': 'None'},\n",
       " {'input': '0', 'output': '0'},\n",
       " {'input': '4', 'output': '4'},\n",
       " {'input': '-1', 'output': 'None'},\n",
       " {'input': '-1', 'output': 'None'},\n",
       " {'input': '32', 'output': '32'},\n",
       " {'input': '16', 'output': '16'},\n",
       " {'input': '1', 'output': '1'},\n",
       " {'input': '-1', 'output': 'None'},\n",
       " {'input': '16', 'output': '16'},\n",
       " {'input': '7', 'output': 'None'},\n",
       " {'input': '2', 'output': '2'},\n",
       " {'input': '0', 'output': '0'},\n",
       " {'input': '-1', 'output': 'None'},\n",
       " {'input': '4', 'output': '4'},\n",
       " {'input': '8', 'output': '8'},\n",
       " {'input': '4', 'output': '4'},\n",
       " {'input': '16', 'output': '16'},\n",
       " {'input': '-1', 'output': 'None'},\n",
       " {'input': '64', 'output': '64'},\n",
       " {'input': '-1', 'output': 'None'},\n",
       " {'input': '64', 'output': '64'},\n",
       " {'input': '16', 'output': '16'},\n",
       " {'input': '-1', 'output': 'None'},\n",
       " {'input': '5', 'output': 'None'},\n",
       " {'input': '7', 'output': 'None'},\n",
       " {'input': '5', 'output': 'None'},\n",
       " {'input': '8', 'output': '8'},\n",
       " {'input': '2', 'output': '2'},\n",
       " {'input': '8', 'output': '8'},\n",
       " {'input': '8', 'output': '8'},\n",
       " {'input': '32', 'output': '32'},\n",
       " {'input': '2', 'output': '2'},\n",
       " {'input': '7', 'output': 'None'},\n",
       " {'input': '7', 'output': 'None'},\n",
       " {'input': '3', 'output': 'None'},\n",
       " {'input': '64', 'output': '64'},\n",
       " {'input': '16', 'output': '16'},\n",
       " {'input': '3', 'output': 'None'},\n",
       " {'input': '8', 'output': '8'},\n",
       " {'input': '-1', 'output': 'None'},\n",
       " {'input': '3', 'output': 'None'},\n",
       " {'input': '0', 'output': '0'},\n",
       " {'input': '0', 'output': '0'},\n",
       " {'input': '9', 'output': 'None'},\n",
       " {'input': '7', 'output': 'None'},\n",
       " {'input': '3', 'output': 'None'},\n",
       " {'input': '2', 'output': '2'},\n",
       " {'input': '64', 'output': '64'},\n",
       " {'input': '16', 'output': '16'}]"
      ]
     },
     "execution_count": 36,
     "metadata": {},
     "output_type": "execute_result"
    }
   ],
   "source": [
    "test_case = ds['train'][10]['test_case']\n",
    "# test_case = json.loads(test_case)\n",
    "test_cases = [json.loads(obj) for obj in test_case.strip().split('\\n') if obj]\n",
    "(test_cases)"
   ]
  },
  {
   "cell_type": "code",
   "execution_count": 44,
   "metadata": {},
   "outputs": [
    {
     "name": "stdout",
     "output_type": "stream",
     "text": [
      "class Solution:\n",
      "    def minCut(self, s: str) -> int:\n",
      "        n = len(s)\n",
      "        memo_c = [None] * n\n",
      "        memo_p = [[None] * n for _ in range(n)]\n",
      "        \n",
      "        def helper(start, end):\n",
      "            cut = end\n",
      "            if start == end or is_p(start, end):\n",
      "                return 0\n",
      "            if memo_c[start] is not None:\n",
      "                return memo_c[start]\n",
      "            for i in range(start, end + 1):\n",
      "                if is_p(start, i):\n",
      "                    cut = min(cut, 1 + helper(i + 1, end))\n",
      "            \n",
      "            memo_c[start] = cut\n",
      "            return cut\n",
      "\n",
      "        def is_p(start, end):\n",
      "            if start >= end:\n",
      "                return True\n",
      "            if memo_p[start][end] is not None:\n",
      "                return memo_p[start][end]\n",
      "            memo_p[start][end] = (s[start] == s[end] and is_p(start + 1, end - 1))\n",
      "            return memo_p[start][end]\n",
      "\n",
      "        return helper(0, n - 1)\n",
      "\n",
      "class TestCaseGenerator:\n",
      "    def generate(self) -> dict:\n",
      "        \"\"\"\n",
      "        Generates a test case input containing a random string `s` of length between 1 and 10.\n",
      "        This ensures we have a reasonable range for testing without excessive computation time.\n",
      "        \"\"\"\n",
      "        # Define the string length range\n",
      "        min_length = 1\n",
      "        max_length = 10\n",
      "        \n",
      "        # Create a random lowercase alphabetic string\n",
      "        length = random.randint(min_length, max_length)\n",
      "        s = ''.join(random.choices('abcdefghijklmnopqrstuvwxyz', k=length))\n",
      "        \n",
      "        return {'s': s}\n",
      "\n",
      "    def encode_input(self, input_obj) -> str:\n",
      "        \"\"\"\n",
      "        Encodes the test case input into a JSON string.\n",
      "        \"\"\"\n",
      "        return json.dumps(input_obj)\n",
      "\n",
      "    def encode_output(self, output_obj) -> str:\n",
      "        \"\"\"\n",
      "        Encodes the test case output, which is an integer, to a string.\n",
      "        \"\"\"\n",
      "        return str(output_obj)\n",
      "\n",
      "    def decode_input(self, input_str) -> dict:\n",
      "        \"\"\"\n",
      "        Decodes a JSON string into a dictionary representing the test case input.\n",
      "        \"\"\"\n",
      "        return json.loads(input_str)\n"
     ]
    }
   ],
   "source": [
    "print(ds['train'][1]['setup_code'])"
   ]
  },
  {
   "cell_type": "code",
   "execution_count": 9,
   "metadata": {},
   "outputs": [],
   "source": [
    "import matplotlib.pyplot as plt\n"
   ]
  },
  {
   "cell_type": "code",
   "execution_count": 10,
   "metadata": {},
   "outputs": [],
   "source": [
    "def plot_distribution(data, name=None, instance=None):\n",
    "    x = [int(item[0]) for item in data]\n",
    "    y = [item[1] for item in data]\n",
    "\n",
    "    plt.figure(figsize=(10, 6))\n",
    "    plt.plot(x, y, marker='o', linestyle='-', color='b', label=\"Distribution\")\n",
    "    \n",
    "    # If an instance tuple is provided, plot it with a different color\n",
    "    if instance is not None:\n",
    "        # Assuming the instance tuple is (runtime, frequency)\n",
    "        instance_runtime = (instance[0])\n",
    "        instance_freq = instance[1]\n",
    "        plt.plot(instance_runtime, instance_freq, marker='o', markersize=10, \n",
    "                 linestyle='None', color='r', label=\"Instance\")\n",
    "    \n",
    "    plt.xlabel(name)\n",
    "    plt.ylabel(\"Frequency\")\n",
    "    plt.title(f\"{name} Distribution\")\n",
    "    plt.grid(True)\n",
    "    plt.legend()\n",
    "    plt.show()"
   ]
  },
  {
   "cell_type": "code",
   "execution_count": 12,
   "metadata": {},
   "outputs": [],
   "source": [
    "import pandas as pd"
   ]
  },
  {
   "cell_type": "code",
   "execution_count": 13,
   "metadata": {},
   "outputs": [],
   "source": [
    "\n",
    "def to_pandas_df(data, name):\n",
    "    dist_df = pd.DataFrame(data, columns=[name, 'frequency'])\n",
    "\n",
    "    # Convert the 'Runtime' column from string to integer\n",
    "    dist_df[name] = dist_df[name].astype(int)\n",
    "\n",
    "    # Sort the DataFrame by runtime\n",
    "    dist_df.sort_values(name, inplace=True)\n",
    "\n",
    "    # Compute the cumulative sum of frequencies\n",
    "    # dist_df['Cumulative'] = dist_df['frequency'].cumsum()\n",
    "\n",
    "    return dist_df"
   ]
  },
  {
   "cell_type": "code",
   "execution_count": 14,
   "metadata": {},
   "outputs": [],
   "source": [
    "dist_df = to_pandas_df(rt_dist['distribution'], 'runtime')"
   ]
  },
  {
   "cell_type": "code",
   "execution_count": 15,
   "metadata": {},
   "outputs": [
    {
     "data": {
      "text/html": [
       "<div>\n",
       "<style scoped>\n",
       "    .dataframe tbody tr th:only-of-type {\n",
       "        vertical-align: middle;\n",
       "    }\n",
       "\n",
       "    .dataframe tbody tr th {\n",
       "        vertical-align: top;\n",
       "    }\n",
       "\n",
       "    .dataframe thead th {\n",
       "        text-align: right;\n",
       "    }\n",
       "</style>\n",
       "<table border=\"1\" class=\"dataframe\">\n",
       "  <thead>\n",
       "    <tr style=\"text-align: right;\">\n",
       "      <th></th>\n",
       "      <th>runtime</th>\n",
       "      <th>frequency</th>\n",
       "    </tr>\n",
       "  </thead>\n",
       "  <tbody>\n",
       "    <tr>\n",
       "      <th>47</th>\n",
       "      <td>367</td>\n",
       "      <td>2.5502</td>\n",
       "    </tr>\n",
       "  </tbody>\n",
       "</table>\n",
       "</div>"
      ],
      "text/plain": [
       "    runtime  frequency\n",
       "47      367     2.5502"
      ]
     },
     "execution_count": 15,
     "metadata": {},
     "output_type": "execute_result"
    }
   ],
   "source": [
    "# Picking a random sample to see where it fit on the distribution\n",
    "row = dist_df.sample(n=1)\n",
    "row"
   ]
  },
  {
   "cell_type": "code",
   "execution_count": 16,
   "metadata": {},
   "outputs": [
    {
     "data": {
      "image/png": "[encoded data removed]",
      "text/plain": [
       "<Figure size 1000x600 with 1 Axes>"
      ]
     },
     "metadata": {},
     "output_type": "display_data"
    }
   ],
   "source": [
    "point = (int(row['runtime'].iloc[0]), row['frequency'])\n",
    "plot_distribution(rt_dist['distribution'], 'Runtime', point)"
   ]
  },
  {
   "cell_type": "code",
   "execution_count": 17,
   "metadata": {},
   "outputs": [],
   "source": [
    "import numpy as np"
   ]
  },
  {
   "cell_type": "code",
   "execution_count": 18,
   "metadata": {},
   "outputs": [],
   "source": [
    "# get the nth percentile value of the distribution\n",
    "def get_nth_percentile(distribution_df, percentile, metric):\n",
    "    data = np.array(distribution_df[metric])\n",
    "    return np.percentile(data, percentile)\n",
    "\n",
    "# check if an instance of the distribution falls into the nth percentile\n",
    "def is_within_nth_percentile(nth_percentile, instance):\n",
    "    return instance <= nth_percentile"
   ]
  },
  {
   "cell_type": "code",
   "execution_count": 19,
   "metadata": {},
   "outputs": [
    {
     "data": {
      "text/plain": [
       "np.float64(213.5)"
      ]
     },
     "execution_count": 19,
     "metadata": {},
     "output_type": "execute_result"
    }
   ],
   "source": [
    "get_nth_percentile(dist_df, 25, 'runtime')"
   ]
  },
  {
   "cell_type": "markdown",
   "metadata": {},
   "source": [
    "# Constructing the dataset"
   ]
  },
  {
   "cell_type": "code",
   "execution_count": 37,
   "metadata": {},
   "outputs": [],
   "source": [
    "json_dataset = []\n",
    "\n",
    "# Iterate over the 'train' split\n",
    "for row in ds[\"train\"]:\n",
    "    # Runtime solutions\n",
    "    runtime_efficient_codes = []\n",
    "    runtime_inefficient_codes = []\n",
    "    runtime_moderate_codes = []\n",
    "\n",
    "    # Memory solutions\n",
    "    memory_efficient_codes = []\n",
    "    memory_inefficient_codes = []\n",
    "    memory_moderate_codes = []\n",
    "\n",
    "    # Get both runtime and memory distribution for the current problem\n",
    "    runtime_distribution = to_pandas_df(json.loads(row['runtimeDistribution'])['distribution'], 'runtime')\n",
    "    memory_distribution = to_pandas_df(json.loads(row['memoryDistribution'])['distribution'], 'memory')\n",
    "\n",
    "    # Obtain the 25th and 75th percentile \n",
    "    runtime_twenty_fifth_percentile = get_nth_percentile(runtime_distribution, 25, 'runtime')\n",
    "    runtime_seventy_fifth_percentile = get_nth_percentile(runtime_distribution, 75, 'runtime')\n",
    "\n",
    "    for rt_item in row['rt_list']:\n",
    "        # runtime of the current solution\n",
    "        runtime = int(rt_item['runtime'])\n",
    "\n",
    "        if runtime <= runtime_twenty_fifth_percentile:\n",
    "            runtime_efficient_codes.append(rt_item)\n",
    "        elif runtime >= runtime_seventy_fifth_percentile:\n",
    "            runtime_inefficient_codes.append(rt_item)\n",
    "        else:\n",
    "            runtime_moderate_codes.append(rt_item)\n",
    "\n",
    "\n",
    "    # Obtain the 75th percentile for both runtime and memory distribution\n",
    "    memory_twenty_fifth_percentile = get_nth_percentile(memory_distribution, 25, 'memory')\n",
    "    memory_seventy_fifth_percentile = get_nth_percentile(memory_distribution, 75, 'memory')\n",
    "\n",
    "    # Applying the same concept as the above, but for memory efficent code\n",
    "    for mm_item in row['mm_list']:\n",
    "        # memory of the current solution\n",
    "        memory = int(mm_item['memory'])\n",
    "\n",
    "        if memory <= memory_twenty_fifth_percentile:\n",
    "            memory_efficient_codes.append(mm_item)\n",
    "        elif memory >= memory_seventy_fifth_percentile:\n",
    "            memory_inefficient_codes.append(mm_item)\n",
    "        else:\n",
    "            memory_moderate_codes.append(mm_item)\n",
    "\n",
    "    # Adding the test cases for the problem\n",
    "    test_cases = [json.loads(obj) for obj in row['test_case'].strip().split('\\n') if obj]\n",
    "\n",
    "    json_data = {\n",
    "        'question_id': row['question_id'],\n",
    "        'name': row['name'],\n",
    "        'prompt': row['content'],\n",
    "        'difficulty': row['difficulty'],\n",
    "        'topics': row['topics'],\n",
    "        'runtime_inefficient_codes': runtime_inefficient_codes,\n",
    "        'runtime_moderate_codes': runtime_moderate_codes,\n",
    "        'runtime_efficient_codes': runtime_efficient_codes,\n",
    "        'memory_inefficient_codes': memory_inefficient_codes,\n",
    "        'memory_moderate_codes': memory_moderate_codes,\n",
    "        'memory_efficient_codes': memory_efficient_codes,\n",
    "        'test_cases': test_cases\n",
    "    }\n",
    "\n",
    "    json_dataset.append(json_data)\n"
   ]
  },
  {
   "cell_type": "code",
   "execution_count": 38,
   "metadata": {},
   "outputs": [],
   "source": [
    "with open('dataset.json', 'w') as json_file:\n",
    "    json.dump(json_dataset, json_file, indent=4)"
   ]
  },
  {
   "cell_type": "markdown",
   "metadata": {},
   "source": [
    "HARISH PRE-PROCESSING TC's"
   ]
  },
  {
   "cell_type": "code",
   "execution_count": 39,
   "metadata": {},
   "outputs": [
    {
     "data": {
      "text/html": [
       "<div>\n",
       "<style scoped>\n",
       "    .dataframe tbody tr th:only-of-type {\n",
       "        vertical-align: middle;\n",
       "    }\n",
       "\n",
       "    .dataframe tbody tr th {\n",
       "        vertical-align: top;\n",
       "    }\n",
       "\n",
       "    .dataframe thead th {\n",
       "        text-align: right;\n",
       "    }\n",
       "</style>\n",
       "<table border=\"1\" class=\"dataframe\">\n",
       "  <thead>\n",
       "    <tr style=\"text-align: right;\">\n",
       "      <th></th>\n",
       "      <th>question_id</th>\n",
       "      <th>name</th>\n",
       "      <th>prompt</th>\n",
       "      <th>difficulty</th>\n",
       "      <th>topics</th>\n",
       "      <th>runtime_inefficient_codes</th>\n",
       "      <th>runtime_moderate_codes</th>\n",
       "      <th>runtime_efficient_codes</th>\n",
       "      <th>memory_inefficient_codes</th>\n",
       "      <th>memory_moderate_codes</th>\n",
       "      <th>memory_efficient_codes</th>\n",
       "      <th>test_cases</th>\n",
       "    </tr>\n",
       "  </thead>\n",
       "  <tbody>\n",
       "    <tr>\n",
       "      <th>0</th>\n",
       "      <td>131</td>\n",
       "      <td>palindrome-partitioning</td>\n",
       "      <td>&lt;p&gt;Given a string &lt;code&gt;s&lt;/code&gt;, partition &lt;c...</td>\n",
       "      <td>Medium</td>\n",
       "      <td>[string, dynamic-programming, backtracking]</td>\n",
       "      <td>[{'code': 'class Solution:\n",
       "    def partition(s...</td>\n",
       "      <td>[{'code': 'class Solution:\n",
       "    def partition(s...</td>\n",
       "      <td>[{'code': 'def is_palindrome(s, l, r):\n",
       "    whi...</td>\n",
       "      <td>[{'code': 'class Solution:\n",
       "    def partition(s...</td>\n",
       "      <td>[{'code': 'class Solution:\n",
       "    def partition(s...</td>\n",
       "      <td>[{'code': 'from collections.abc import Generat...</td>\n",
       "      <td>[{'input': 'xpbpmgnkxz', 'output': '[['x', 'p'...</td>\n",
       "    </tr>\n",
       "    <tr>\n",
       "      <th>1</th>\n",
       "      <td>132</td>\n",
       "      <td>palindrome-partitioning-ii</td>\n",
       "      <td>&lt;p&gt;Given a string &lt;code&gt;s&lt;/code&gt;, partition &lt;c...</td>\n",
       "      <td>Hard</td>\n",
       "      <td>[string, dynamic-programming]</td>\n",
       "      <td>[{'code': 'class Solution:\n",
       "    def minCut(self...</td>\n",
       "      <td>[{'code': 'class Solution:\n",
       "    def minCut(self...</td>\n",
       "      <td>[{'code': 'class Solution:\n",
       "    def minCut(self...</td>\n",
       "      <td>[{'code': 'class Solution:\n",
       "    def minCut(self...</td>\n",
       "      <td>[{'code': 'class Solution:\n",
       "    def minCut(self...</td>\n",
       "      <td>[{'code': 'class Solution:\n",
       "    def minCut(self...</td>\n",
       "      <td>[{'input': '{\"s\": \"xmdstsmte\"}', 'output': '6'...</td>\n",
       "    </tr>\n",
       "    <tr>\n",
       "      <th>2</th>\n",
       "      <td>135</td>\n",
       "      <td>candy</td>\n",
       "      <td>&lt;p&gt;There are &lt;code&gt;n&lt;/code&gt; children standing ...</td>\n",
       "      <td>Hard</td>\n",
       "      <td>[array, greedy]</td>\n",
       "      <td>[{'code': 'class Solution:\n",
       "    def candy(self,...</td>\n",
       "      <td>[{'code': 'class Solution:\n",
       "    def candy(self,...</td>\n",
       "      <td>[{'code': 'class Solution:\n",
       "    def candy(self,...</td>\n",
       "      <td>[{'code': 'class Solution:\n",
       "    # Function to c...</td>\n",
       "      <td>[{'code': 'class Solution:\n",
       "    def candy(self,...</td>\n",
       "      <td>[]</td>\n",
       "      <td>[{'input': '{'ratings': [1, 2, 2]}', 'output':...</td>\n",
       "    </tr>\n",
       "    <tr>\n",
       "      <th>3</th>\n",
       "      <td>137</td>\n",
       "      <td>single-number-ii</td>\n",
       "      <td>&lt;p&gt;Given an integer array &lt;code&gt;nums&lt;/code&gt; wh...</td>\n",
       "      <td>Medium</td>\n",
       "      <td>[array, bit-manipulation]</td>\n",
       "      <td>[{'code': 'class Solution:\n",
       "    def singleNumbe...</td>\n",
       "      <td>[{'code': 'class Solution:\n",
       "    def singleNumbe...</td>\n",
       "      <td>[{'code': 'class Solution:\n",
       "    def singleNumbe...</td>\n",
       "      <td>[{'code': 'class Solution:\n",
       "    def singleNumbe...</td>\n",
       "      <td>[{'code': 'class Solution:\n",
       "    def singleNumbe...</td>\n",
       "      <td>[{'code': 'class Solution:\n",
       "    def singleNumbe...</td>\n",
       "      <td>[{'input': '[2, 2, 2, 3, 4, 4, 4, 5, 5, 5, 6]'...</td>\n",
       "    </tr>\n",
       "    <tr>\n",
       "      <th>4</th>\n",
       "      <td>138</td>\n",
       "      <td>copy-list-with-random-pointer</td>\n",
       "      <td>&lt;p&gt;A linked list of length &lt;code&gt;n&lt;/code&gt; is g...</td>\n",
       "      <td>Medium</td>\n",
       "      <td>[hash-table, linked-list]</td>\n",
       "      <td>[{'code': '\"\"\"\n",
       "# Definition for a Node.\n",
       "class ...</td>\n",
       "      <td>[{'code': '\"\"\"\n",
       "# Definition for a Node.\n",
       "class ...</td>\n",
       "      <td>[{'code': '\"\"\"\n",
       "# Definition for a Node.\n",
       "class ...</td>\n",
       "      <td>[{'code': '\"\"\"\n",
       "# Definition for a Node.\n",
       "class ...</td>\n",
       "      <td>[{'code': '\"\"\"\n",
       "# Definition for a Node.\n",
       "class ...</td>\n",
       "      <td>[]</td>\n",
       "      <td>[{'input': '[{'val': 7, 'random_index': None},...</td>\n",
       "    </tr>\n",
       "  </tbody>\n",
       "</table>\n",
       "</div>"
      ],
      "text/plain": [
       "   question_id                           name  \\\n",
       "0          131        palindrome-partitioning   \n",
       "1          132     palindrome-partitioning-ii   \n",
       "2          135                          candy   \n",
       "3          137               single-number-ii   \n",
       "4          138  copy-list-with-random-pointer   \n",
       "\n",
       "                                              prompt difficulty  \\\n",
       "0  <p>Given a string <code>s</code>, partition <c...     Medium   \n",
       "1  <p>Given a string <code>s</code>, partition <c...       Hard   \n",
       "2  <p>There are <code>n</code> children standing ...       Hard   \n",
       "3  <p>Given an integer array <code>nums</code> wh...     Medium   \n",
       "4  <p>A linked list of length <code>n</code> is g...     Medium   \n",
       "\n",
       "                                        topics  \\\n",
       "0  [string, dynamic-programming, backtracking]   \n",
       "1                [string, dynamic-programming]   \n",
       "2                              [array, greedy]   \n",
       "3                    [array, bit-manipulation]   \n",
       "4                    [hash-table, linked-list]   \n",
       "\n",
       "                           runtime_inefficient_codes  \\\n",
       "0  [{'code': 'class Solution:\n",
       "    def partition(s...   \n",
       "1  [{'code': 'class Solution:\n",
       "    def minCut(self...   \n",
       "2  [{'code': 'class Solution:\n",
       "    def candy(self,...   \n",
       "3  [{'code': 'class Solution:\n",
       "    def singleNumbe...   \n",
       "4  [{'code': '\"\"\"\n",
       "# Definition for a Node.\n",
       "class ...   \n",
       "\n",
       "                              runtime_moderate_codes  \\\n",
       "0  [{'code': 'class Solution:\n",
       "    def partition(s...   \n",
       "1  [{'code': 'class Solution:\n",
       "    def minCut(self...   \n",
       "2  [{'code': 'class Solution:\n",
       "    def candy(self,...   \n",
       "3  [{'code': 'class Solution:\n",
       "    def singleNumbe...   \n",
       "4  [{'code': '\"\"\"\n",
       "# Definition for a Node.\n",
       "class ...   \n",
       "\n",
       "                             runtime_efficient_codes  \\\n",
       "0  [{'code': 'def is_palindrome(s, l, r):\n",
       "    whi...   \n",
       "1  [{'code': 'class Solution:\n",
       "    def minCut(self...   \n",
       "2  [{'code': 'class Solution:\n",
       "    def candy(self,...   \n",
       "3  [{'code': 'class Solution:\n",
       "    def singleNumbe...   \n",
       "4  [{'code': '\"\"\"\n",
       "# Definition for a Node.\n",
       "class ...   \n",
       "\n",
       "                            memory_inefficient_codes  \\\n",
       "0  [{'code': 'class Solution:\n",
       "    def partition(s...   \n",
       "1  [{'code': 'class Solution:\n",
       "    def minCut(self...   \n",
       "2  [{'code': 'class Solution:\n",
       "    # Function to c...   \n",
       "3  [{'code': 'class Solution:\n",
       "    def singleNumbe...   \n",
       "4  [{'code': '\"\"\"\n",
       "# Definition for a Node.\n",
       "class ...   \n",
       "\n",
       "                               memory_moderate_codes  \\\n",
       "0  [{'code': 'class Solution:\n",
       "    def partition(s...   \n",
       "1  [{'code': 'class Solution:\n",
       "    def minCut(self...   \n",
       "2  [{'code': 'class Solution:\n",
       "    def candy(self,...   \n",
       "3  [{'code': 'class Solution:\n",
       "    def singleNumbe...   \n",
       "4  [{'code': '\"\"\"\n",
       "# Definition for a Node.\n",
       "class ...   \n",
       "\n",
       "                              memory_efficient_codes  \\\n",
       "0  [{'code': 'from collections.abc import Generat...   \n",
       "1  [{'code': 'class Solution:\n",
       "    def minCut(self...   \n",
       "2                                                 []   \n",
       "3  [{'code': 'class Solution:\n",
       "    def singleNumbe...   \n",
       "4                                                 []   \n",
       "\n",
       "                                          test_cases  \n",
       "0  [{'input': 'xpbpmgnkxz', 'output': '[['x', 'p'...  \n",
       "1  [{'input': '{\"s\": \"xmdstsmte\"}', 'output': '6'...  \n",
       "2  [{'input': '{'ratings': [1, 2, 2]}', 'output':...  \n",
       "3  [{'input': '[2, 2, 2, 3, 4, 4, 4, 5, 5, 5, 6]'...  \n",
       "4  [{'input': '[{'val': 7, 'random_index': None},...  "
      ]
     },
     "execution_count": 39,
     "metadata": {},
     "output_type": "execute_result"
    }
   ],
   "source": [
    "pd.DataFrame(json_dataset).head()"
   ]
  },
  {
   "cell_type": "code",
   "execution_count": 59,
   "metadata": {},
   "outputs": [
    {
     "name": "stdout",
     "output_type": "stream",
     "text": [
      "Length of samples:  200\n"
     ]
    },
    {
     "data": {
      "text/plain": [
       "topics\n",
       "[array, depth-first-search, breadth-first-search, union-find, matrix]                                     8\n",
       "[array, binary-search, divide-and-conquer, binary-indexed-tree, segment-tree, merge-sort, ordered-set]    4\n",
       "[array, dynamic-programming, backtracking, bit-manipulation, bitmask]                                     3\n",
       "[array, dynamic-programming, stack, greedy, monotonic-stack]                                              3\n",
       "[array, breadth-first-search, graph, heap-priority-queue, matrix, shortest-path]                          3\n",
       "                                                                                                         ..\n",
       "[array, hash-table, math, matrix, counting, enumeration, number-theory]                                   1\n",
       "[array, hash-table, two-pointers, sorting, enumeration]                                                   1\n",
       "[array, binary-search, greedy, sorting, prefix-sum]                                                       1\n",
       "[array, hash-table, math, binary-search, bit-manipulation, sorting]                                       1\n",
       "[array, math, geometry, sorting, matrix]                                                                  1\n",
       "Name: count, Length: 166, dtype: int64"
      ]
     },
     "metadata": {},
     "output_type": "display_data"
    }
   ],
   "source": [
    "print(f\"Length of samples: \", len(diverse_sample_df))\n",
    "# Display the first few rows of the resulting DataFrame\n",
    "display((diverse_sample_df['topics'].value_counts()))"
   ]
  }
 ],
 "metadata": {
  "kernelspec": {
   "display_name": "Python 3",
   "language": "python",
   "name": "python3"
  },
  "language_info": {
   "codemirror_mode": {
    "name": "ipython",
    "version": 3
   },
   "file_extension": ".py",
   "mimetype": "text/x-python",
   "name": "python",
   "nbconvert_exporter": "python",
   "pygments_lexer": "ipython3",
   "version": "3.12.9"
  }
 },
 "nbformat": 4,
 "nbformat_minor": 2
}
