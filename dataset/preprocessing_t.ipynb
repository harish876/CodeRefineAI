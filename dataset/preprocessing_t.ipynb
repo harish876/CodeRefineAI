{
 "cells": [
  {
   "cell_type": "code",
   "execution_count": 29,
   "metadata": {},
   "outputs": [],
   "source": [
    "# %pip install datasets\n",
    "# %pip install matplotlib"
   ]
  },
  {
   "cell_type": "code",
   "execution_count": 30,
   "metadata": {},
   "outputs": [],
   "source": [
    "from datasets import load_dataset"
   ]
  },
  {
   "cell_type": "code",
   "execution_count": 31,
   "metadata": {},
   "outputs": [],
   "source": [
    "ds = load_dataset(\"Elfsong/Venus_t\")"
   ]
  },
  {
   "cell_type": "code",
   "execution_count": 32,
   "metadata": {},
   "outputs": [
    {
     "data": {
      "text/plain": [
       "{'question_id': Value(dtype='int64', id=None),\n",
       " 'name': Value(dtype='string', id=None),\n",
       " 'content': Value(dtype='string', id=None),\n",
       " 'acRate': Value(dtype='float64', id=None),\n",
       " 'difficulty': Value(dtype='string', id=None),\n",
       " 'topics': Sequence(feature=Value(dtype='string', id=None), length=-1, id=None),\n",
       " 'runtimeDistribution': Value(dtype='string', id=None),\n",
       " 'memoryDistribution': Value(dtype='string', id=None),\n",
       " 'rt_list': [{'code': Value(dtype='string', id=None),\n",
       "   'runtime': Value(dtype='string', id=None)}],\n",
       " 'rt_solution_count': Value(dtype='int64', id=None),\n",
       " 'mm_list': [{'code': Value(dtype='string', id=None),\n",
       "   'memory': Value(dtype='string', id=None)}],\n",
       " 'mm_solution_count': Value(dtype='int64', id=None),\n",
       " 'code_prompt': Value(dtype='string', id=None),\n",
       " 'test_case_generator': Value(dtype='string', id=None),\n",
       " 'entry_point': Value(dtype='string', id=None),\n",
       " 'libraries': Sequence(feature=Value(dtype='string', id=None), length=-1, id=None),\n",
       " 'import_code': Value(dtype='string', id=None),\n",
       " 'setup_code': Value(dtype='string', id=None),\n",
       " 'test_case': Value(dtype='string', id=None)}"
      ]
     },
     "execution_count": 32,
     "metadata": {},
     "output_type": "execute_result"
    }
   ],
   "source": [
    "ds['train'].features"
   ]
  },
  {
   "cell_type": "code",
   "execution_count": 33,
   "metadata": {},
   "outputs": [],
   "source": [
    "rt_dist = ds['train'][0]['runtimeDistribution']"
   ]
  },
  {
   "cell_type": "code",
   "execution_count": 34,
   "metadata": {},
   "outputs": [],
   "source": [
    "import json"
   ]
  },
  {
   "cell_type": "code",
   "execution_count": 35,
   "metadata": {},
   "outputs": [],
   "source": [
    "rt_dist = json.loads(rt_dist)"
   ]
  },
  {
   "cell_type": "code",
   "execution_count": 36,
   "metadata": {},
   "outputs": [
    {
     "data": {
      "text/plain": [
       "[{'input': '8', 'output': '8'},\n",
       " {'input': '16', 'output': '16'},\n",
       " {'input': '4', 'output': '4'},\n",
       " {'input': '7', 'output': 'None'},\n",
       " {'input': '9', 'output': 'None'},\n",
       " {'input': '16', 'output': '16'},\n",
       " {'input': '2', 'output': '2'},\n",
       " {'input': '5', 'output': 'None'},\n",
       " {'input': '16', 'output': '16'},\n",
       " {'input': '2', 'output': '2'},\n",
       " {'input': '4', 'output': '4'},\n",
       " {'input': '2', 'output': '2'},\n",
       " {'input': '4', 'output': '4'},\n",
       " {'input': '0', 'output': '0'},\n",
       " {'input': '-1', 'output': 'None'},\n",
       " {'input': '32', 'output': '32'},\n",
       " {'input': '4', 'output': '4'},\n",
       " {'input': '0', 'output': '0'},\n",
       " {'input': '3', 'output': 'None'},\n",
       " {'input': '4', 'output': '4'},\n",
       " {'input': '-1', 'output': 'None'},\n",
       " {'input': '0', 'output': '0'},\n",
       " {'input': '7', 'output': 'None'},\n",
       " {'input': '7', 'output': 'None'},\n",
       " {'input': '64', 'output': '64'},\n",
       " {'input': '7', 'output': 'None'},\n",
       " {'input': '1', 'output': '1'},\n",
       " {'input': '-1', 'output': 'None'},\n",
       " {'input': '0', 'output': '0'},\n",
       " {'input': '32', 'output': '32'},\n",
       " {'input': '2', 'output': '2'},\n",
       " {'input': '8', 'output': '8'},\n",
       " {'input': '64', 'output': '64'},\n",
       " {'input': '16', 'output': '16'},\n",
       " {'input': '4', 'output': '4'},\n",
       " {'input': '4', 'output': '4'},\n",
       " {'input': '5', 'output': 'None'},\n",
       " {'input': '32', 'output': '32'},\n",
       " {'input': '2', 'output': '2'},\n",
       " {'input': '32', 'output': '32'},\n",
       " {'input': '64', 'output': '64'},\n",
       " {'input': '9', 'output': 'None'},\n",
       " {'input': '2', 'output': '2'},\n",
       " {'input': '1', 'output': '1'},\n",
       " {'input': '3', 'output': 'None'},\n",
       " {'input': '32', 'output': '32'},\n",
       " {'input': '4', 'output': '4'},\n",
       " {'input': '1', 'output': '1'},\n",
       " {'input': '7', 'output': 'None'},\n",
       " {'input': '5', 'output': 'None'},\n",
       " {'input': '7', 'output': 'None'},\n",
       " {'input': '32', 'output': '32'},\n",
       " {'input': '2', 'output': '2'},\n",
       " {'input': '-1', 'output': 'None'},\n",
       " {'input': '5', 'output': 'None'},\n",
       " {'input': '9', 'output': 'None'},\n",
       " {'input': '-1', 'output': 'None'},\n",
       " {'input': '64', 'output': '64'},\n",
       " {'input': '0', 'output': '0'},\n",
       " {'input': '8', 'output': '8'},\n",
       " {'input': '64', 'output': '64'},\n",
       " {'input': '7', 'output': 'None'},\n",
       " {'input': '2', 'output': '2'},\n",
       " {'input': '8', 'output': '8'},\n",
       " {'input': '5', 'output': 'None'},\n",
       " {'input': '32', 'output': '32'},\n",
       " {'input': '8', 'output': '8'},\n",
       " {'input': '3', 'output': 'None'},\n",
       " {'input': '5', 'output': 'None'},\n",
       " {'input': '32', 'output': '32'},\n",
       " {'input': '9', 'output': 'None'},\n",
       " {'input': '5', 'output': 'None'},\n",
       " {'input': '5', 'output': 'None'},\n",
       " {'input': '3', 'output': 'None'},\n",
       " {'input': '32', 'output': '32'},\n",
       " {'input': '4', 'output': '4'},\n",
       " {'input': '9', 'output': 'None'},\n",
       " {'input': '4', 'output': '4'},\n",
       " {'input': '9', 'output': 'None'},\n",
       " {'input': '0', 'output': '0'},\n",
       " {'input': '4', 'output': '4'},\n",
       " {'input': '-1', 'output': 'None'},\n",
       " {'input': '-1', 'output': 'None'},\n",
       " {'input': '32', 'output': '32'},\n",
       " {'input': '16', 'output': '16'},\n",
       " {'input': '1', 'output': '1'},\n",
       " {'input': '-1', 'output': 'None'},\n",
       " {'input': '16', 'output': '16'},\n",
       " {'input': '7', 'output': 'None'},\n",
       " {'input': '2', 'output': '2'},\n",
       " {'input': '0', 'output': '0'},\n",
       " {'input': '-1', 'output': 'None'},\n",
       " {'input': '4', 'output': '4'},\n",
       " {'input': '8', 'output': '8'},\n",
       " {'input': '4', 'output': '4'},\n",
       " {'input': '16', 'output': '16'},\n",
       " {'input': '-1', 'output': 'None'},\n",
       " {'input': '64', 'output': '64'},\n",
       " {'input': '-1', 'output': 'None'},\n",
       " {'input': '64', 'output': '64'},\n",
       " {'input': '16', 'output': '16'},\n",
       " {'input': '-1', 'output': 'None'},\n",
       " {'input': '5', 'output': 'None'},\n",
       " {'input': '7', 'output': 'None'},\n",
       " {'input': '5', 'output': 'None'},\n",
       " {'input': '8', 'output': '8'},\n",
       " {'input': '2', 'output': '2'},\n",
       " {'input': '8', 'output': '8'},\n",
       " {'input': '8', 'output': '8'},\n",
       " {'input': '32', 'output': '32'},\n",
       " {'input': '2', 'output': '2'},\n",
       " {'input': '7', 'output': 'None'},\n",
       " {'input': '7', 'output': 'None'},\n",
       " {'input': '3', 'output': 'None'},\n",
       " {'input': '64', 'output': '64'},\n",
       " {'input': '16', 'output': '16'},\n",
       " {'input': '3', 'output': 'None'},\n",
       " {'input': '8', 'output': '8'},\n",
       " {'input': '-1', 'output': 'None'},\n",
       " {'input': '3', 'output': 'None'},\n",
       " {'input': '0', 'output': '0'},\n",
       " {'input': '0', 'output': '0'},\n",
       " {'input': '9', 'output': 'None'},\n",
       " {'input': '7', 'output': 'None'},\n",
       " {'input': '3', 'output': 'None'},\n",
       " {'input': '2', 'output': '2'},\n",
       " {'input': '64', 'output': '64'},\n",
       " {'input': '16', 'output': '16'}]"
      ]
     },
     "execution_count": 36,
     "metadata": {},
     "output_type": "execute_result"
    }
   ],
   "source": [
    "test_case = ds['train'][10]['test_case']\n",
    "# test_case = json.loads(test_case)\n",
    "test_cases = [json.loads(obj) for obj in test_case.strip().split('\\n') if obj]\n",
    "(test_cases)"
   ]
  },
  {
   "cell_type": "code",
   "execution_count": 37,
   "metadata": {},
   "outputs": [
    {
     "name": "stdout",
     "output_type": "stream",
     "text": [
      "class Solution:\n",
      "    def minCut(self, s: str) -> int:\n",
      "        n = len(s)\n",
      "        memo_c = [None] * n\n",
      "        memo_p = [[None] * n for _ in range(n)]\n",
      "        \n",
      "        def helper(start, end):\n",
      "            cut = end\n",
      "            if start == end or is_p(start, end):\n",
      "                return 0\n",
      "            if memo_c[start] is not None:\n",
      "                return memo_c[start]\n",
      "            for i in range(start, end + 1):\n",
      "                if is_p(start, i):\n",
      "                    cut = min(cut, 1 + helper(i + 1, end))\n",
      "            \n",
      "            memo_c[start] = cut\n",
      "            return cut\n",
      "\n",
      "        def is_p(start, end):\n",
      "            if start >= end:\n",
      "                return True\n",
      "            if memo_p[start][end] is not None:\n",
      "                return memo_p[start][end]\n",
      "            memo_p[start][end] = (s[start] == s[end] and is_p(start + 1, end - 1))\n",
      "            return memo_p[start][end]\n",
      "\n",
      "        return helper(0, n - 1)\n",
      "\n",
      "class TestCaseGenerator:\n",
      "    def generate(self) -> dict:\n",
      "        \"\"\"\n",
      "        Generates a test case input containing a random string `s` of length between 1 and 10.\n",
      "        This ensures we have a reasonable range for testing without excessive computation time.\n",
      "        \"\"\"\n",
      "        # Define the string length range\n",
      "        min_length = 1\n",
      "        max_length = 10\n",
      "        \n",
      "        # Create a random lowercase alphabetic string\n",
      "        length = random.randint(min_length, max_length)\n",
      "        s = ''.join(random.choices('abcdefghijklmnopqrstuvwxyz', k=length))\n",
      "        \n",
      "        return {'s': s}\n",
      "\n",
      "    def encode_input(self, input_obj) -> str:\n",
      "        \"\"\"\n",
      "        Encodes the test case input into a JSON string.\n",
      "        \"\"\"\n",
      "        return json.dumps(input_obj)\n",
      "\n",
      "    def encode_output(self, output_obj) -> str:\n",
      "        \"\"\"\n",
      "        Encodes the test case output, which is an integer, to a string.\n",
      "        \"\"\"\n",
      "        return str(output_obj)\n",
      "\n",
      "    def decode_input(self, input_str) -> dict:\n",
      "        \"\"\"\n",
      "        Decodes a JSON string into a dictionary representing the test case input.\n",
      "        \"\"\"\n",
      "        return json.loads(input_str)\n"
     ]
    }
   ],
   "source": [
    "print(ds['train'][1]['setup_code'])"
   ]
  },
  {
   "cell_type": "code",
   "execution_count": 38,
   "metadata": {},
   "outputs": [],
   "source": [
    "import matplotlib.pyplot as plt\n"
   ]
  },
  {
   "cell_type": "code",
   "execution_count": 39,
   "metadata": {},
   "outputs": [],
   "source": [
    "def plot_distribution(data, name=None, instance=None):\n",
    "    x = [int(item[0]) for item in data]\n",
    "    y = [item[1] for item in data]\n",
    "\n",
    "    plt.figure(figsize=(10, 6))\n",
    "    plt.plot(x, y, marker='o', linestyle='-', color='b', label=\"Distribution\")\n",
    "    \n",
    "    # If an instance tuple is provided, plot it with a different color\n",
    "    if instance is not None:\n",
    "        # Assuming the instance tuple is (runtime, frequency)\n",
    "        instance_runtime = (instance[0])\n",
    "        instance_freq = instance[1]\n",
    "        plt.plot(instance_runtime, instance_freq, marker='o', markersize=10, \n",
    "                 linestyle='None', color='r', label=\"Instance\")\n",
    "    \n",
    "    plt.xlabel(name)\n",
    "    plt.ylabel(\"Frequency\")\n",
    "    plt.title(f\"{name} Distribution\")\n",
    "    plt.grid(True)\n",
    "    plt.legend()\n",
    "    plt.show()"
   ]
  },
  {
   "cell_type": "code",
   "execution_count": 40,
   "metadata": {},
   "outputs": [],
   "source": [
    "import pandas as pd"
   ]
  },
  {
   "cell_type": "code",
   "execution_count": 41,
   "metadata": {},
   "outputs": [],
   "source": [
    "\n",
    "def to_pandas_df(data, name):\n",
    "    dist_df = pd.DataFrame(data, columns=[name, 'frequency'])\n",
    "\n",
    "    # Convert the 'Runtime' column from string to integer\n",
    "    dist_df[name] = dist_df[name].astype(int)\n",
    "\n",
    "    # Sort the DataFrame by runtime\n",
    "    dist_df.sort_values(name, inplace=True)\n",
    "\n",
    "    # Compute the cumulative sum of frequencies\n",
    "    # dist_df['Cumulative'] = dist_df['frequency'].cumsum()\n",
    "\n",
    "    return dist_df"
   ]
  },
  {
   "cell_type": "code",
   "execution_count": 42,
   "metadata": {},
   "outputs": [],
   "source": [
    "dist_df = to_pandas_df(rt_dist['distribution'], 'runtime')"
   ]
  },
  {
   "cell_type": "code",
   "execution_count": 43,
   "metadata": {},
   "outputs": [
    {
     "data": {
      "text/html": [
       "<div>\n",
       "<style scoped>\n",
       "    .dataframe tbody tr th:only-of-type {\n",
       "        vertical-align: middle;\n",
       "    }\n",
       "\n",
       "    .dataframe tbody tr th {\n",
       "        vertical-align: top;\n",
       "    }\n",
       "\n",
       "    .dataframe thead th {\n",
       "        text-align: right;\n",
       "    }\n",
       "</style>\n",
       "<table border=\"1\" class=\"dataframe\">\n",
       "  <thead>\n",
       "    <tr style=\"text-align: right;\">\n",
       "      <th></th>\n",
       "      <th>runtime</th>\n",
       "      <th>frequency</th>\n",
       "    </tr>\n",
       "  </thead>\n",
       "  <tbody>\n",
       "    <tr>\n",
       "      <th>74</th>\n",
       "      <td>519</td>\n",
       "      <td>0.6042</td>\n",
       "    </tr>\n",
       "  </tbody>\n",
       "</table>\n",
       "</div>"
      ],
      "text/plain": [
       "    runtime  frequency\n",
       "74      519     0.6042"
      ]
     },
     "execution_count": 43,
     "metadata": {},
     "output_type": "execute_result"
    }
   ],
   "source": [
    "# Picking a random sample to see where it fit on the distribution\n",
    "row = dist_df.sample(n=1)\n",
    "row"
   ]
  },
  {
   "cell_type": "code",
   "execution_count": 44,
   "metadata": {},
   "outputs": [
    {
     "data": {
      "image/png": "[encoded data removed]",
      "text/plain": [
       "<Figure size 1000x600 with 1 Axes>"
      ]
     },
     "metadata": {},
     "output_type": "display_data"
    }
   ],
   "source": [
    "point = (int(row['runtime'].iloc[0]), row['frequency'])\n",
    "plot_distribution(rt_dist['distribution'], 'Runtime', point)"
   ]
  },
  {
   "cell_type": "code",
   "execution_count": 45,
   "metadata": {},
   "outputs": [],
   "source": [
    "import numpy as np"
   ]
  },
  {
   "cell_type": "code",
   "execution_count": 46,
   "metadata": {},
   "outputs": [],
   "source": [
    "# get the nth percentile value of the distribution\n",
    "def get_nth_percentile(distribution_df, percentile, metric):\n",
    "    data = np.array(distribution_df[metric])\n",
    "    return np.percentile(data, percentile)\n",
    "\n",
    "# check if an instance of the distribution falls into the nth percentile\n",
    "def is_within_nth_percentile(nth_percentile, instance):\n",
    "    return instance <= nth_percentile"
   ]
  },
  {
   "cell_type": "code",
   "execution_count": 47,
   "metadata": {},
   "outputs": [
    {
     "data": {
      "text/plain": [
       "213.5"
      ]
     },
     "execution_count": 47,
     "metadata": {},
     "output_type": "execute_result"
    }
   ],
   "source": [
    "get_nth_percentile(dist_df, 25, 'runtime')"
   ]
  },
  {
   "cell_type": "markdown",
   "metadata": {},
   "source": [
    "# Constructing the dataset"
   ]
  },
  {
   "cell_type": "code",
   "execution_count": 48,
   "metadata": {},
   "outputs": [],
   "source": [
    "# json_dataset = []\n",
    "\n",
    "# # Iterate over the 'train' split\n",
    "# for row in ds[\"train\"]:\n",
    "#     # Runtime solutions\n",
    "#     runtime_efficient_codes = []\n",
    "#     runtime_inefficient_codes = []\n",
    "#     runtime_moderate_codes = []\n",
    "\n",
    "#     # Memory solutions\n",
    "#     memory_efficient_codes = []\n",
    "#     memory_inefficient_codes = []\n",
    "#     memory_moderate_codes = []\n",
    "\n",
    "#     # Get both runtime and memory distribution for the current problem\n",
    "#     runtime_distribution = to_pandas_df(json.loads(row['runtimeDistribution'])['distribution'], 'runtime')\n",
    "#     memory_distribution = to_pandas_df(json.loads(row['memoryDistribution'])['distribution'], 'memory')\n",
    "\n",
    "#     # Obtain the 25th and 75th percentile \n",
    "#     runtime_twenty_fifth_percentile = get_nth_percentile(runtime_distribution, 25, 'runtime')\n",
    "#     runtime_seventy_fifth_percentile = get_nth_percentile(runtime_distribution, 75, 'runtime')\n",
    "\n",
    "#     for rt_item in row['rt_list']:\n",
    "#         # runtime of the current solution\n",
    "#         runtime = int(rt_item['runtime'])\n",
    "\n",
    "#         if runtime <= runtime_twenty_fifth_percentile:\n",
    "#             runtime_efficient_codes.append(rt_item)\n",
    "#         elif runtime >= runtime_seventy_fifth_percentile:\n",
    "#             runtime_inefficient_codes.append(rt_item)\n",
    "#         else:\n",
    "#             runtime_moderate_codes.append(rt_item)\n",
    "\n",
    "\n",
    "#     # Obtain the 75th percentile for both runtime and memory distribution\n",
    "#     memory_twenty_fifth_percentile = get_nth_percentile(memory_distribution, 25, 'memory')\n",
    "#     memory_seventy_fifth_percentile = get_nth_percentile(memory_distribution, 75, 'memory')\n",
    "\n",
    "#     # Applying the same concept as the above, but for memory efficent code\n",
    "#     for mm_item in row['mm_list']:\n",
    "#         # memory of the current solution\n",
    "#         memory = int(mm_item['memory'])\n",
    "\n",
    "#         if memory <= memory_twenty_fifth_percentile:\n",
    "#             memory_efficient_codes.append(mm_item)\n",
    "#         elif memory >= memory_seventy_fifth_percentile:\n",
    "#             memory_inefficient_codes.append(mm_item)\n",
    "#         else:\n",
    "#             memory_moderate_codes.append(mm_item)\n",
    "\n",
    "#     # Adding the test cases for the problem\n",
    "#     test_cases = [json.loads(obj) for obj in row['test_case'].strip().split('\\n') if obj]\n",
    "\n",
    "#     json_data = {\n",
    "#         'question_id': row['question_id'],\n",
    "#         'name': row['name'],\n",
    "#         'prompt': row['content'],\n",
    "#         'difficulty': row['difficulty'],\n",
    "#         'topics': row['topics'],\n",
    "#         'runtime_inefficient_codes': runtime_inefficient_codes,\n",
    "#         'runtime_moderate_codes': runtime_moderate_codes,\n",
    "#         'runtime_efficient_codes': runtime_efficient_codes,\n",
    "#         'memory_inefficient_codes': memory_inefficient_codes,\n",
    "#         'memory_moderate_codes': memory_moderate_codes,\n",
    "#         'memory_efficient_codes': memory_efficient_codes,\n",
    "#         'test_cases': test_cases\n",
    "#     }\n",
    "\n",
    "#     json_dataset.append(json_data)\n"
   ]
  },
  {
   "cell_type": "code",
   "execution_count": 75,
   "metadata": {},
   "outputs": [
    {
     "name": "stdout",
     "output_type": "stream",
     "text": [
      "Final difficulty counts: {'easy': 66, 'medium': 67, 'hard': 67}\n"
     ]
    }
   ],
   "source": [
    "json_dataset = []\n",
    "\n",
    "# Set target counts for each difficulty so that total samples equal 200.\n",
    "# Here we assign 66 for 'easy' and 67 for 'medium' and 'hard'.\n",
    "target_counts = {'easy': 66, 'medium': 67, 'hard': 67}\n",
    "difficulty_counts = {'easy': 0, 'medium': 0, 'hard': 0}\n",
    "\n",
    "# Iterate over the 'train' split and build a balanced dataset\n",
    "for row in ds[\"train\"]:\n",
    "    # Normalize difficulty (assumed to be a string) to lowercase\n",
    "    difficulty = row['difficulty'].strip().lower()\n",
    "    \n",
    "    # If the difficulty is not one of our targets or if we've reached its target count, skip it\n",
    "    if difficulty not in target_counts or difficulty_counts[difficulty] >= target_counts[difficulty]:\n",
    "        continue\n",
    "\n",
    "    # Process runtime solutions\n",
    "    runtime_efficient_codes = []\n",
    "    runtime_inefficient_codes = []\n",
    "    runtime_moderate_codes = []\n",
    "    \n",
    "    # Process memory solutions\n",
    "    memory_efficient_codes = []\n",
    "    memory_inefficient_codes = []\n",
    "    memory_moderate_codes = []\n",
    "\n",
    "    # Get runtime and memory distributions\n",
    "    runtime_distribution = to_pandas_df(json.loads(row['runtimeDistribution'])['distribution'], 'runtime')\n",
    "    memory_distribution = to_pandas_df(json.loads(row['memoryDistribution'])['distribution'], 'memory')\n",
    "\n",
    "    # Calculate the 25th and 75th percentiles for runtime\n",
    "    runtime_twenty_fifth_percentile = get_nth_percentile(runtime_distribution, 25, 'runtime')\n",
    "    runtime_seventy_fifth_percentile = get_nth_percentile(runtime_distribution, 75, 'runtime')\n",
    "\n",
    "    for rt_item in row['rt_list']:\n",
    "        runtime = int(rt_item['runtime'])\n",
    "        if runtime <= runtime_twenty_fifth_percentile:\n",
    "            runtime_efficient_codes.append(rt_item)\n",
    "        elif runtime >= runtime_seventy_fifth_percentile:\n",
    "            runtime_inefficient_codes.append(rt_item)\n",
    "        else:\n",
    "            runtime_moderate_codes.append(rt_item)\n",
    "\n",
    "    # Calculate the 25th and 75th percentiles for memory\n",
    "    memory_twenty_fifth_percentile = get_nth_percentile(memory_distribution, 25, 'memory')\n",
    "    memory_seventy_fifth_percentile = get_nth_percentile(memory_distribution, 75, 'memory')\n",
    "\n",
    "    for mm_item in row['mm_list']:\n",
    "        memory = int(mm_item['memory'])\n",
    "        if memory <= memory_twenty_fifth_percentile:\n",
    "            memory_efficient_codes.append(mm_item)\n",
    "        elif memory >= memory_seventy_fifth_percentile:\n",
    "            memory_inefficient_codes.append(mm_item)\n",
    "        else:\n",
    "            memory_moderate_codes.append(mm_item)\n",
    "\n",
    "    # Balance the code efficiency categories by truncating to the smallest group size\n",
    "    min_runtime_codes = min(len(runtime_efficient_codes), len(runtime_moderate_codes), len(runtime_inefficient_codes))\n",
    "    min_memory_codes = min(len(memory_efficient_codes), len(memory_moderate_codes), len(memory_inefficient_codes))\n",
    "\n",
    "    runtime_efficient_codes = runtime_efficient_codes[:min_runtime_codes]\n",
    "    runtime_moderate_codes = runtime_moderate_codes[:min_runtime_codes]\n",
    "    runtime_inefficient_codes = runtime_inefficient_codes[:min_runtime_codes]\n",
    "\n",
    "    memory_efficient_codes = memory_efficient_codes[:min_memory_codes]\n",
    "    memory_moderate_codes = memory_moderate_codes[:min_memory_codes]\n",
    "    memory_inefficient_codes = memory_inefficient_codes[:min_memory_codes]\n",
    "\n",
    "    # Process test cases (assuming each line in 'test_case' is a JSON object)\n",
    "    test_cases = [json.loads(obj) for obj in row['test_case'].strip().split('\\n') if obj]\n",
    "\n",
    "    # Build the JSON object for this problem\n",
    "    json_data = {\n",
    "        'question_id': row['question_id'],\n",
    "        'name': row['name'],\n",
    "        'prompt': row['content'],\n",
    "        'difficulty': row['difficulty'],\n",
    "        'topics': row['topics'],\n",
    "        'runtime_inefficient_codes': runtime_inefficient_codes,\n",
    "        'runtime_moderate_codes': runtime_moderate_codes,\n",
    "        'runtime_efficient_codes': runtime_efficient_codes,\n",
    "        'memory_inefficient_codes': memory_inefficient_codes,\n",
    "        'memory_moderate_codes': memory_moderate_codes,\n",
    "        'memory_efficient_codes': memory_efficient_codes,\n",
    "        \"entry_point\": row['entry_point'],\n",
    "        \"import_code\": row['import_code'],\n",
    "        \"setup_code\": row[\"setup_code\"],\n",
    "        'test_cases': test_cases\n",
    "    }\n",
    "\n",
    "    # Add the processed problem to the dataset\n",
    "    json_dataset.append(json_data)\n",
    "\n",
    "    # Update count for this difficulty\n",
    "    difficulty_counts[difficulty] += 1\n",
    "\n",
    "    # Break early if we have reached a total of 200 samples\n",
    "    if sum(difficulty_counts.values()) >= 200:\n",
    "        break\n",
    "\n",
    "print(\"Final difficulty counts:\", difficulty_counts)\n"
   ]
  },
  {
   "cell_type": "code",
   "execution_count": 76,
   "metadata": {},
   "outputs": [],
   "source": [
    "with open('dataset.json', 'w') as json_file:\n",
    "    json.dump(json_dataset, json_file, indent=4)"
   ]
  },
  {
   "cell_type": "markdown",
   "metadata": {},
   "source": [
    "HARISH PRE-PROCESSING TC's"
   ]
  },
  {
   "cell_type": "code",
   "execution_count": 71,
   "metadata": {},
   "outputs": [
    {
     "data": {
      "text/plain": [
       "0      medium\n",
       "1        hard\n",
       "2        hard\n",
       "3      medium\n",
       "4      medium\n",
       "        ...  \n",
       "195      hard\n",
       "196      hard\n",
       "197      hard\n",
       "198      hard\n",
       "199      hard\n",
       "Name: difficulty, Length: 200, dtype: object"
      ]
     },
     "execution_count": 71,
     "metadata": {},
     "output_type": "execute_result"
    }
   ],
   "source": [
    "diverse_sample_df = pd.DataFrame(json_dataset)\n",
    "diverse_sample_df['difficulty']"
   ]
  },
  {
   "cell_type": "code",
   "execution_count": 72,
   "metadata": {},
   "outputs": [
    {
     "name": "stdout",
     "output_type": "stream",
     "text": [
      "200 200 200\n",
      "200 200 200\n"
     ]
    }
   ],
   "source": [
    "print(len(diverse_sample_df['runtime_efficient_codes']), len(diverse_sample_df['runtime_inefficient_codes']), len(diverse_sample_df['runtime_moderate_codes']))\n",
    "print(len(diverse_sample_df['memory_efficient_codes']), len(diverse_sample_df['memory_inefficient_codes']), len(diverse_sample_df['memory_moderate_codes']))"
   ]
  },
  {
   "cell_type": "code",
   "execution_count": 73,
   "metadata": {},
   "outputs": [
    {
     "name": "stdout",
     "output_type": "stream",
     "text": [
      "Length of samples:  200\n"
     ]
    },
    {
     "data": {
      "text/plain": [
       "topics\n",
       "[array, dynamic-programming]                                                  9\n",
       "[string, dynamic-programming]                                                 7\n",
       "[array, binary-search]                                                        6\n",
       "[string]                                                                      5\n",
       "[two-pointers, string]                                                        4\n",
       "                                                                             ..\n",
       "[array, hash-table]                                                           1\n",
       "[math, dynamic-programming, tree, binary-search-tree, binary-tree]            1\n",
       "[dynamic-programming, backtracking, tree, binary-search-tree, binary-tree]    1\n",
       "[hash-table, string, breadth-first-search]                                    1\n",
       "[string, dynamic-programming, prefix-sum]                                     1\n",
       "Name: count, Length: 134, dtype: int64"
      ]
     },
     "metadata": {},
     "output_type": "display_data"
    }
   ],
   "source": [
    "print(f\"Length of samples: \", len(diverse_sample_df))\n",
    "# Display the first few rows of the resulting DataFrame\n",
    "display((diverse_sample_df['topics'].value_counts()))"
   ]
  },
  {
   "cell_type": "code",
   "execution_count": null,
   "metadata": {},
   "outputs": [],
   "source": []
  }
 ],
 "metadata": {
  "kernelspec": {
   "display_name": "Python 3",
   "language": "python",
   "name": "python3"
  },
  "language_info": {
   "codemirror_mode": {
    "name": "ipython",
    "version": 3
   },
   "file_extension": ".py",
   "mimetype": "text/x-python",
   "name": "python",
   "nbconvert_exporter": "python",
   "pygments_lexer": "ipython3",
   "version": "3.12.9"
  }
 },
 "nbformat": 4,
 "nbformat_minor": 2
}
