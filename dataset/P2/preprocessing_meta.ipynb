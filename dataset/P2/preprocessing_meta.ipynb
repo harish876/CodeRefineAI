{
 "cells": [
  {
   "cell_type": "code",
   "execution_count": 15,
   "metadata": {},
   "outputs": [],
   "source": [
    "import pandas as pd\n",
    "\n",
    "from IPython.display import display\n",
    "\n",
    "# Set pandas display options to show the full width of the DataFrame\n",
    "pd.set_option('display.max_columns', None)\n",
    "pd.set_option('display.max_colwidth', None)\n",
    "pd.set_option('display.expand_frame_repr', False)\n",
    "pd.set_option('display.max_rows', None)\n"
   ]
  },
  {
   "cell_type": "code",
   "execution_count": 17,
   "metadata": {},
   "outputs": [
    {
     "data": {
      "text/html": [
       "<div>\n",
       "<style scoped>\n",
       "    .dataframe tbody tr th:only-of-type {\n",
       "        vertical-align: middle;\n",
       "    }\n",
       "\n",
       "    .dataframe tbody tr th {\n",
       "        vertical-align: top;\n",
       "    }\n",
       "\n",
       "    .dataframe thead th {\n",
       "        text-align: right;\n",
       "    }\n",
       "</style>\n",
       "<table border=\"1\" class=\"dataframe\">\n",
       "  <thead>\n",
       "    <tr style=\"text-align: right;\">\n",
       "      <th></th>\n",
       "      <th>question_id</th>\n",
       "      <th>optimized_code</th>\n",
       "    </tr>\n",
       "  </thead>\n",
       "  <tbody>\n",
       "    <tr>\n",
       "      <th>0</th>\n",
       "      <td>131</td>\n",
       "      <td>The following Python code seems to be inefficient:\\n        \\n        ```python\\n        class Solution:\\n    def partition(self, s: str) -&gt; List[List[str]]:\\n        res = []\\n\\n        def backtrack(i,curr):\\n            if i==len(s):\\n                res.append(curr[:])\\n            \\n            for j in range(i,len(s)):\\n                if s[i:j+1]==s[i:j+1][::-1]:\\n                    curr.append(s[i:j+1])\\n                    backtrack(j+1,curr)\\n                    curr.pop()\\n\\n        backtrack(0,[])\\n        return res\\n        ```\\n        \\n        Reason for inefficiency:\\n        The code is inefficient because it repeatedly checks if substrings are palindromes within the backtracking process.  This leads to redundant computations.  A more efficient approach would precompute a table indicating which substrings are palindromes using dynamic programming, and then use that table during the backtracking search.\\n        \\n        Please rewrite the code based on the provided reason, and only return the corrected code, no explanation.\\n        Use Python 3.8 syntax, and ensure the entire solution is enclosed in a `class Solution`, \\n        maintaining the same function name as in the input code.\\n        Directly begin with the correct solution which can be used in the executor, do not write anything else.</td>\n",
       "    </tr>\n",
       "    <tr>\n",
       "      <th>1</th>\n",
       "      <td>132</td>\n",
       "      <td>The following Python code seems to be inefficient:\\n        \\n        ```python\\n        class Solution:\\n    def minCut(self, s: str) -&gt; int:\\n        def is_palindrome(s):\\n            return s == s[::-1]\\n        \\n        @lru_cache(None)\\n        def f(s):\\n            if not s or len(s) == 1 or is_palindrome(s):\\n                return 0\\n\\n            min_ = float('inf')\\n\\n\\n                \\n            for j in range(len(s)):\\n                if is_palindrome(s[:j+1]):\\n                    min_ = min(min_, 1 + f(s[j+1:]))\\n            return min_\\n\\n        return f(s)\\n            \\n\\n        ```\\n        \\n        Reason for inefficiency:\\n        The code is inefficient because it repeatedly calls the `is_palindrome` function for prefixes within the recursive calls.  A more efficient approach would be to precompute a table indicating whether each substring is a palindrome before starting the dynamic programming.\\n        \\n        Please rewrite the code based on the provided reason, and only return the corrected code, no explanation.\\n        Use Python 3.8 syntax, and ensure the entire solution is enclosed in a `class Solution`, \\n        maintaining the same function name as in the input code.\\n        Directly begin with the correct solution which can be used in the executor, do not write anything else.</td>\n",
       "    </tr>\n",
       "    <tr>\n",
       "      <th>2</th>\n",
       "      <td>135</td>\n",
       "      <td>The following Python code seems to be inefficient:\\n        \\n        ```python\\n        class Solution:\\n    def candy(self, ratings: List[int]) -&gt; int:\\n        n=len(ratings)\\n        sortedArr=[(ratings[i],i) for i in range(n)]\\n        sortedArr.sort()\\n        ans=[0]*n\\n        for i in range(n):\\n            curCandies=1\\n            val,index=sortedArr[i]\\n            if (index&gt;0 and ratings[index-1]&lt;ratings[index] and ans[index-1]&gt;=curCandies):\\n                curCandies=ans[index-1]+1\\n            if (index&lt;n-1 and ratings[index+1]&lt;ratings[index] and ans[index+1]&gt;=curCandies):\\n                curCandies=ans[index+1]+1\\n            ans[index]=curCandies\\n        return sum(ans)\\n            \\n            \\n        \\n        ```\\n        \\n        Reason for inefficiency:\\n        The code's primary inefficiency comes from sorting the ratings array. While sorting helps to consider children in increasing order of ratings, it introduces an O(n log n) time complexity. A two-pass linear approach can achieve the same result with O(n) time complexity, making the given code less efficient.\\n        \\n        Please rewrite the code based on the provided reason, and only return the corrected code, no explanation.\\n        Use Python 3.8 syntax, and ensure the entire solution is enclosed in a `class Solution`, \\n        maintaining the same function name as in the input code.\\n        Directly begin with the correct solution which can be used in the executor, do not write anything else.</td>\n",
       "    </tr>\n",
       "    <tr>\n",
       "      <th>3</th>\n",
       "      <td>137</td>\n",
       "      <td>The following Python code seems to be inefficient:\\n        \\n        ```python\\n        class Solution:\\n    def singleNumber(self, nums: List[int]) -&gt; int:\\n        ln=len(nums)\\n        if ln&lt;999999:\\n                while(1):\\n                    val = nums[-1]\\n                    nums.pop()\\n                    if val in nums:\\n                        nums.insert(0,val)\\n                    else:\\n                        return val\\n        else:\\n            dicto={}\\n            for i in nums:\\n                if i in dicto.keys():\\n                    dicto[i]+=1\\n                else:\\n                    dicto[i]=1\\n            mini=min(dicto.values())\\n            for i in dicto.items():\\n                if i[1]==mini:\\n                    return i[0] \\n\\n            \\n\\n        \\n        ```\\n        \\n        Reason for inefficiency:\\n        The primary inefficiency lies in the first execution path (when ln &lt; 999999). Repeatedly using `nums.pop()` and `nums.insert(0, val)` within a `while(1)` loop results in O(n^2) time complexity in the worst case, where n is the number of elements in the list.  The `in nums` check inside the loop also adds to the overhead. The second path using dictionary is much faster but still not the optimal. There exist better approaches (XOR based) for single number problem\\n        \\n        Please rewrite the code based on the provided reason, and only return the corrected code, no explanation.\\n        Use Python 3.8 syntax, and ensure the entire solution is enclosed in a `class Solution`, \\n        maintaining the same function name as in the input code.\\n        Directly begin with the correct solution which can be used in the executor, do not write anything else.</td>\n",
       "    </tr>\n",
       "    <tr>\n",
       "      <th>4</th>\n",
       "      <td>138</td>\n",
       "      <td>The following Python code seems to be inefficient:\\n        \\n        ```python\\n        \"\"\"\\n# Definition for a Node.\\nclass Node:\\n    def __init__(self, x: int, next: 'Node' = None, random: 'Node' = None):\\n        self.val = int(x)\\n        self.next = next\\n        self.random = random\\n\"\"\"\\n\\nclass Solution:\\n    def copyRandomList(self, head: 'Optional[Node]') -&gt; 'Optional[Node]':\\n        old_to_new = {None:None}\\n        \\n        old = head\\n        while old:\\n            new = Node(old.val)\\n            old_to_new[old] = new\\n            old = old.next\\n        \\n        old = head\\n        while old:\\n            new = old_to_new[old]\\n            new.next = old_to_new[old.next]\\n            new.random = old_to_new[old.random]\\n            old = old.next\\n        \\n        return old_to_new[head]\\n        ```\\n        \\n        Reason for inefficiency:\\n        The code is reasonably efficient with a time complexity of O(N) because it iterates through the linked list twice. The space complexity is also O(N) due to the hash map storing mappings for all nodes.  While there might be extremely marginal improvements possible in specific scenarios, this is generally considered a good approach for copying a linked list with random pointers.\\n        \\n        Please rewrite the code based on the provided reason, and only return the corrected code, no explanation.\\n        Use Python 3.8 syntax, and ensure the entire solution is enclosed in a `class Solution`, \\n        maintaining the same function name as in the input code.\\n        Directly begin with the correct solution which can be used in the executor, do not write anything else.</td>\n",
       "    </tr>\n",
       "  </tbody>\n",
       "</table>\n",
       "</div>"
      ],
      "text/plain": [
       "   question_id                                                                                                                                                                                                                                                                                                                                                                                                                                                                                                                                                                                                                                                                                                                                                                                                                                                                                                                                                                                                                                                                                                                                                                                                                                                                                                                                                                                                                                                                                                                                                                                                                                                                                                                                                                                             optimized_code\n",
       "0          131                                                                                                                                                                                                                                                                                                                                                                                                                 The following Python code seems to be inefficient:\\n        \\n        ```python\\n        class Solution:\\n    def partition(self, s: str) -> List[List[str]]:\\n        res = []\\n\\n        def backtrack(i,curr):\\n            if i==len(s):\\n                res.append(curr[:])\\n            \\n            for j in range(i,len(s)):\\n                if s[i:j+1]==s[i:j+1][::-1]:\\n                    curr.append(s[i:j+1])\\n                    backtrack(j+1,curr)\\n                    curr.pop()\\n\\n        backtrack(0,[])\\n        return res\\n        ```\\n        \\n        Reason for inefficiency:\\n        The code is inefficient because it repeatedly checks if substrings are palindromes within the backtracking process.  This leads to redundant computations.  A more efficient approach would precompute a table indicating which substrings are palindromes using dynamic programming, and then use that table during the backtracking search.\\n        \\n        Please rewrite the code based on the provided reason, and only return the corrected code, no explanation.\\n        Use Python 3.8 syntax, and ensure the entire solution is enclosed in a `class Solution`, \\n        maintaining the same function name as in the input code.\\n        Directly begin with the correct solution which can be used in the executor, do not write anything else.\n",
       "1          132                                                                                                                                                                                                                                                                                                                                                                                                              The following Python code seems to be inefficient:\\n        \\n        ```python\\n        class Solution:\\n    def minCut(self, s: str) -> int:\\n        def is_palindrome(s):\\n            return s == s[::-1]\\n        \\n        @lru_cache(None)\\n        def f(s):\\n            if not s or len(s) == 1 or is_palindrome(s):\\n                return 0\\n\\n            min_ = float('inf')\\n\\n\\n                \\n            for j in range(len(s)):\\n                if is_palindrome(s[:j+1]):\\n                    min_ = min(min_, 1 + f(s[j+1:]))\\n            return min_\\n\\n        return f(s)\\n            \\n\\n        ```\\n        \\n        Reason for inefficiency:\\n        The code is inefficient because it repeatedly calls the `is_palindrome` function for prefixes within the recursive calls.  A more efficient approach would be to precompute a table indicating whether each substring is a palindrome before starting the dynamic programming.\\n        \\n        Please rewrite the code based on the provided reason, and only return the corrected code, no explanation.\\n        Use Python 3.8 syntax, and ensure the entire solution is enclosed in a `class Solution`, \\n        maintaining the same function name as in the input code.\\n        Directly begin with the correct solution which can be used in the executor, do not write anything else.\n",
       "2          135                                                                                                                                                                                                                                  The following Python code seems to be inefficient:\\n        \\n        ```python\\n        class Solution:\\n    def candy(self, ratings: List[int]) -> int:\\n        n=len(ratings)\\n        sortedArr=[(ratings[i],i) for i in range(n)]\\n        sortedArr.sort()\\n        ans=[0]*n\\n        for i in range(n):\\n            curCandies=1\\n            val,index=sortedArr[i]\\n            if (index>0 and ratings[index-1]<ratings[index] and ans[index-1]>=curCandies):\\n                curCandies=ans[index-1]+1\\n            if (index<n-1 and ratings[index+1]<ratings[index] and ans[index+1]>=curCandies):\\n                curCandies=ans[index+1]+1\\n            ans[index]=curCandies\\n        return sum(ans)\\n            \\n            \\n        \\n        ```\\n        \\n        Reason for inefficiency:\\n        The code's primary inefficiency comes from sorting the ratings array. While sorting helps to consider children in increasing order of ratings, it introduces an O(n log n) time complexity. A two-pass linear approach can achieve the same result with O(n) time complexity, making the given code less efficient.\\n        \\n        Please rewrite the code based on the provided reason, and only return the corrected code, no explanation.\\n        Use Python 3.8 syntax, and ensure the entire solution is enclosed in a `class Solution`, \\n        maintaining the same function name as in the input code.\\n        Directly begin with the correct solution which can be used in the executor, do not write anything else.\n",
       "3          137  The following Python code seems to be inefficient:\\n        \\n        ```python\\n        class Solution:\\n    def singleNumber(self, nums: List[int]) -> int:\\n        ln=len(nums)\\n        if ln<999999:\\n                while(1):\\n                    val = nums[-1]\\n                    nums.pop()\\n                    if val in nums:\\n                        nums.insert(0,val)\\n                    else:\\n                        return val\\n        else:\\n            dicto={}\\n            for i in nums:\\n                if i in dicto.keys():\\n                    dicto[i]+=1\\n                else:\\n                    dicto[i]=1\\n            mini=min(dicto.values())\\n            for i in dicto.items():\\n                if i[1]==mini:\\n                    return i[0] \\n\\n            \\n\\n        \\n        ```\\n        \\n        Reason for inefficiency:\\n        The primary inefficiency lies in the first execution path (when ln < 999999). Repeatedly using `nums.pop()` and `nums.insert(0, val)` within a `while(1)` loop results in O(n^2) time complexity in the worst case, where n is the number of elements in the list.  The `in nums` check inside the loop also adds to the overhead. The second path using dictionary is much faster but still not the optimal. There exist better approaches (XOR based) for single number problem\\n        \\n        Please rewrite the code based on the provided reason, and only return the corrected code, no explanation.\\n        Use Python 3.8 syntax, and ensure the entire solution is enclosed in a `class Solution`, \\n        maintaining the same function name as in the input code.\\n        Directly begin with the correct solution which can be used in the executor, do not write anything else.\n",
       "4          138                                                                      The following Python code seems to be inefficient:\\n        \\n        ```python\\n        \"\"\"\\n# Definition for a Node.\\nclass Node:\\n    def __init__(self, x: int, next: 'Node' = None, random: 'Node' = None):\\n        self.val = int(x)\\n        self.next = next\\n        self.random = random\\n\"\"\"\\n\\nclass Solution:\\n    def copyRandomList(self, head: 'Optional[Node]') -> 'Optional[Node]':\\n        old_to_new = {None:None}\\n        \\n        old = head\\n        while old:\\n            new = Node(old.val)\\n            old_to_new[old] = new\\n            old = old.next\\n        \\n        old = head\\n        while old:\\n            new = old_to_new[old]\\n            new.next = old_to_new[old.next]\\n            new.random = old_to_new[old.random]\\n            old = old.next\\n        \\n        return old_to_new[head]\\n        ```\\n        \\n        Reason for inefficiency:\\n        The code is reasonably efficient with a time complexity of O(N) because it iterates through the linked list twice. The space complexity is also O(N) due to the hash map storing mappings for all nodes.  While there might be extremely marginal improvements possible in specific scenarios, this is generally considered a good approach for copying a linked list with random pointers.\\n        \\n        Please rewrite the code based on the provided reason, and only return the corrected code, no explanation.\\n        Use Python 3.8 syntax, and ensure the entire solution is enclosed in a `class Solution`, \\n        maintaining the same function name as in the input code.\\n        Directly begin with the correct solution which can be used in the executor, do not write anything else."
      ]
     },
     "execution_count": 17,
     "metadata": {},
     "output_type": "execute_result"
    }
   ],
   "source": [
    "df = pd.read_json(\"/Users/harishgokul/CodeRefineAI/dataset/P2/optimized_codes_meta.json\")\n",
    "df.head()"
   ]
  },
  {
   "cell_type": "code",
   "execution_count": 20,
   "metadata": {},
   "outputs": [
    {
     "name": "stdout",
     "output_type": "stream",
     "text": [
      "DataFrame written to /Users/harishgokul/CodeRefineAI/dataset/P2/optimized_coded_meta_cleaned.json\n"
     ]
    }
   ],
   "source": [
    "import re\n",
    "def extract_code_from_block(code_block):\n",
    "    match = re.search(r'```python(.*?)```', code_block, re.DOTALL)\n",
    "    if match:\n",
    "        return match.group(1).strip()\n",
    "    return code_block\n",
    "\n",
    "# Apply the function to the optimized_code column\n",
    "df['optimized_code'] = df['optimized_code'].apply(extract_code_from_block)\n",
    "\n",
    "# Display the DataFrame\n",
    "df.head()\n",
    "\n",
    "output_path = \"/Users/harishgokul/CodeRefineAI/dataset/P2/optimized_coded_meta_cleaned.json\"\n",
    "df.to_json(output_path, orient='records')\n",
    "\n",
    "print(f\"DataFrame written to {output_path}\")"
   ]
  }
 ],
 "metadata": {
  "kernelspec": {
   "display_name": "core-X5MYk40b-py3.11",
   "language": "python",
   "name": "python3"
  },
  "language_info": {
   "codemirror_mode": {
    "name": "ipython",
    "version": 3
   },
   "file_extension": ".py",
   "mimetype": "text/x-python",
   "name": "python",
   "nbconvert_exporter": "python",
   "pygments_lexer": "ipython3",
   "version": "3.11.7"
  }
 },
 "nbformat": 4,
 "nbformat_minor": 2
}
